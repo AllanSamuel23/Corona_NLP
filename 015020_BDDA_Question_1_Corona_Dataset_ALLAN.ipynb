{
  "nbformat": 4,
  "nbformat_minor": 0,
  "metadata": {
    "kernelspec": {
      "display_name": "Python 3",
      "language": "python",
      "name": "python3"
    },
    "language_info": {
      "mimetype": "text/x-python",
      "name": "python",
      "pygments_lexer": "ipython3",
      "codemirror_mode": {
        "name": "ipython",
        "version": 3
      },
      "version": "3.7.3",
      "nbconvert_exporter": "python",
      "file_extension": ".py"
    },
    "application/vnd.databricks.v1+notebook": {
      "notebookName": "015020_BDDA_Question_1_Corona_Dataset",
      "dashboards": [],
      "notebookMetadata": {
        "pythonIndentUnit": 2
      },
      "language": "python",
      "widgets": {},
      "notebookOrigID": 1974394666207797
    },
    "colab": {
      "name": "015020_BDDA_Question_1_Corona_Dataset_ALLAN.ipynb",
      "provenance": []
    }
  },
  "cells": [
    {
      "cell_type": "markdown",
      "metadata": {
        "application/vnd.databricks.v1+cell": {
          "title": "",
          "showTitle": false,
          "inputWidgets": {},
          "nuid": "84d807e7-6edd-4ed2-abaa-3c98986681d0"
        },
        "id": "gNX3C2y8w-ml"
      },
      "source": [
        "### HADOOP COMMANDS\n",
        "### 1. START HADOOP\n",
        "##### allstart.sh\n",
        "### 2. COPY FILE FROM LOCAL TO HADOOP\n",
        "#### hadoop fs -copyFromLocal Corona_NLP_train.csv\n",
        "### 3. OPEN JUPYTER NOTEBOOK \n",
        "##### pysparknb"
      ]
    },
    {
      "cell_type": "markdown",
      "metadata": {
        "application/vnd.databricks.v1+cell": {
          "title": "",
          "showTitle": false,
          "inputWidgets": {},
          "nuid": "a7edf655-4f61-44bc-ac73-714ad4a3f7e0"
        },
        "id": "mgdopdEfw-mt"
      },
      "source": [
        "### Importing Libraries"
      ]
    },
    {
      "cell_type": "code",
      "metadata": {
        "application/vnd.databricks.v1+cell": {
          "title": "",
          "showTitle": false,
          "inputWidgets": {},
          "nuid": "f2c3071e-c3d7-4a47-800a-b1d0552bdc37"
        },
        "id": "XVMXcP7Ow-mv",
        "outputId": "9bb06158-105e-4ec9-e701-afc8209c68f3"
      },
      "source": [
        "from pyspark.sql import SparkSession"
      ],
      "execution_count": null,
      "outputs": [
        {
          "output_type": "display_data",
          "metadata": {
            "application/vnd.databricks.v1+output": {
              "datasetInfos": [],
              "data": "<div class=\"ansiout\"></div>",
              "removedWidgets": [],
              "addedWidgets": {},
              "metadata": {},
              "type": "html",
              "arguments": {}
            }
          },
          "data": {
            "text/html": [
              "<style scoped>\n  .ansiout {\n    display: block;\n    unicode-bidi: embed;\n    white-space: pre-wrap;\n    word-wrap: break-word;\n    word-break: break-all;\n    font-family: \"Source Code Pro\", \"Menlo\", monospace;;\n    font-size: 13px;\n    color: #555;\n    margin-left: 4px;\n    line-height: 19px;\n  }\n</style>\n<div class=\"ansiout\"></div>"
            ]
          },
          "transient": null
        }
      ]
    },
    {
      "cell_type": "code",
      "metadata": {
        "application/vnd.databricks.v1+cell": {
          "title": "",
          "showTitle": false,
          "inputWidgets": {},
          "nuid": "a27a3520-f89f-49d8-8967-bd2020b2e478"
        },
        "id": "BR_ZPY5Ow-mz",
        "outputId": "717f3f13-c487-440b-b353-0bf78fd9d0e7"
      },
      "source": [
        "spark=SparkSession.builder.appName('nlp').getOrCreate()"
      ],
      "execution_count": null,
      "outputs": [
        {
          "output_type": "display_data",
          "metadata": {
            "application/vnd.databricks.v1+output": {
              "datasetInfos": [],
              "data": "<div class=\"ansiout\"></div>",
              "removedWidgets": [],
              "addedWidgets": {},
              "metadata": {},
              "type": "html",
              "arguments": {}
            }
          },
          "data": {
            "text/html": [
              "<style scoped>\n  .ansiout {\n    display: block;\n    unicode-bidi: embed;\n    white-space: pre-wrap;\n    word-wrap: break-word;\n    word-break: break-all;\n    font-family: \"Source Code Pro\", \"Menlo\", monospace;;\n    font-size: 13px;\n    color: #555;\n    margin-left: 4px;\n    line-height: 19px;\n  }\n</style>\n<div class=\"ansiout\"></div>"
            ]
          },
          "transient": null
        }
      ]
    },
    {
      "cell_type": "code",
      "metadata": {
        "application/vnd.databricks.v1+cell": {
          "title": "",
          "showTitle": false,
          "inputWidgets": {},
          "nuid": "62cc5f94-f5fd-4e73-923d-f11e4ef29214"
        },
        "id": "uykcCExuw-m1",
        "outputId": "f9364f9f-d952-42af-c66d-219c43cdf3fe"
      },
      "source": [
        "import numpy as np\n",
        "\n",
        "from pyspark.ml.feature import StringIndexer, OneHotEncoder\n",
        "\n",
        "from pyspark.ml.feature import VectorAssembler\n",
        "from pyspark.ml.feature import MinMaxScaler, StandardScaler\n",
        "from pyspark.ml import Pipeline"
      ],
      "execution_count": null,
      "outputs": [
        {
          "output_type": "display_data",
          "metadata": {
            "application/vnd.databricks.v1+output": {
              "datasetInfos": [],
              "data": "<div class=\"ansiout\"></div>",
              "removedWidgets": [],
              "addedWidgets": {},
              "metadata": {},
              "type": "html",
              "arguments": {}
            }
          },
          "data": {
            "text/html": [
              "<style scoped>\n  .ansiout {\n    display: block;\n    unicode-bidi: embed;\n    white-space: pre-wrap;\n    word-wrap: break-word;\n    word-break: break-all;\n    font-family: \"Source Code Pro\", \"Menlo\", monospace;;\n    font-size: 13px;\n    color: #555;\n    margin-left: 4px;\n    line-height: 19px;\n  }\n</style>\n<div class=\"ansiout\"></div>"
            ]
          },
          "transient": null
        }
      ]
    },
    {
      "cell_type": "code",
      "metadata": {
        "application/vnd.databricks.v1+cell": {
          "title": "",
          "showTitle": false,
          "inputWidgets": {},
          "nuid": "34522f93-a9b1-4da4-aab7-c3d5b280e8db"
        },
        "id": "tByRKTxJw-m2",
        "outputId": "6dcc06d3-885e-40f2-eb27-32e67879be57"
      },
      "source": [
        "from pyspark.ml.feature import Tokenizer, RegexTokenizer\n",
        "from pyspark.sql.functions import col, udf\n",
        "from pyspark.sql.types import IntegerType\n",
        "\n",
        "from pyspark.ml.feature import StopWordsRemover\n",
        "\n",
        "from pyspark.ml.feature import CountVectorizer"
      ],
      "execution_count": null,
      "outputs": [
        {
          "output_type": "display_data",
          "metadata": {
            "application/vnd.databricks.v1+output": {
              "datasetInfos": [],
              "data": "<div class=\"ansiout\"></div>",
              "removedWidgets": [],
              "addedWidgets": {},
              "metadata": {},
              "type": "html",
              "arguments": {}
            }
          },
          "data": {
            "text/html": [
              "<style scoped>\n  .ansiout {\n    display: block;\n    unicode-bidi: embed;\n    white-space: pre-wrap;\n    word-wrap: break-word;\n    word-break: break-all;\n    font-family: \"Source Code Pro\", \"Menlo\", monospace;;\n    font-size: 13px;\n    color: #555;\n    margin-left: 4px;\n    line-height: 19px;\n  }\n</style>\n<div class=\"ansiout\"></div>"
            ]
          },
          "transient": null
        }
      ]
    },
    {
      "cell_type": "code",
      "metadata": {
        "application/vnd.databricks.v1+cell": {
          "title": "",
          "showTitle": false,
          "inputWidgets": {},
          "nuid": "a616d13f-a534-47c7-876e-9e3e2dcafd6e"
        },
        "id": "KGXTlHuqw-m3",
        "outputId": "c5abac7f-93ad-401b-9b39-73981c21df7b"
      },
      "source": [
        "from pyspark.ml.classification import LogisticRegression\n",
        "\n",
        "from pyspark.ml.tuning import ParamGridBuilder, CrossValidator\n",
        "import time"
      ],
      "execution_count": null,
      "outputs": [
        {
          "output_type": "display_data",
          "metadata": {
            "application/vnd.databricks.v1+output": {
              "datasetInfos": [],
              "data": "<div class=\"ansiout\"></div>",
              "removedWidgets": [],
              "addedWidgets": {},
              "metadata": {},
              "type": "html",
              "arguments": {}
            }
          },
          "data": {
            "text/html": [
              "<style scoped>\n  .ansiout {\n    display: block;\n    unicode-bidi: embed;\n    white-space: pre-wrap;\n    word-wrap: break-word;\n    word-break: break-all;\n    font-family: \"Source Code Pro\", \"Menlo\", monospace;;\n    font-size: 13px;\n    color: #555;\n    margin-left: 4px;\n    line-height: 19px;\n  }\n</style>\n<div class=\"ansiout\"></div>"
            ]
          },
          "transient": null
        }
      ]
    },
    {
      "cell_type": "markdown",
      "metadata": {
        "application/vnd.databricks.v1+cell": {
          "title": "",
          "showTitle": false,
          "inputWidgets": {},
          "nuid": "ab9d72a3-5e49-4678-8ca8-b883a425949a"
        },
        "id": "69mVJkVww-m4"
      },
      "source": [
        "### Import Data"
      ]
    },
    {
      "cell_type": "code",
      "metadata": {
        "application/vnd.databricks.v1+cell": {
          "title": "",
          "showTitle": false,
          "inputWidgets": {},
          "nuid": "02cb7108-13b9-4ceb-8120-42aa18832530"
        },
        "id": "Sq-9ulKqw-m6",
        "outputId": "9ad0bea8-e02d-492f-bcfd-d3747247a2ba"
      },
      "source": [
        "df = spark.read.csv(\"dbfs:/FileStore/shared_uploads/joel.ignatius@centurylink.com/Corona_NLP_train.csv\", sep=\",\", header=True, inferSchema=True)\n",
        "# df = spark.read.format(\"csv\").load(\"dbfs:/FileStore/shared_uploads/joel.ignatius@centurylink.com/Corona_NLP_train.csv\")"
      ],
      "execution_count": null,
      "outputs": [
        {
          "output_type": "display_data",
          "metadata": {
            "application/vnd.databricks.v1+output": {
              "datasetInfos": [
                {
                  "name": "df",
                  "typeStr": "pyspark.sql.dataframe.DataFrame",
                  "schema": {
                    "fields": [
                      {
                        "metadata": {},
                        "name": "UserName",
                        "nullable": true,
                        "type": "string"
                      },
                      {
                        "metadata": {},
                        "name": "ScreenName",
                        "nullable": true,
                        "type": "string"
                      },
                      {
                        "metadata": {},
                        "name": "Location",
                        "nullable": true,
                        "type": "string"
                      },
                      {
                        "metadata": {},
                        "name": "TweetAt",
                        "nullable": true,
                        "type": "string"
                      },
                      {
                        "metadata": {},
                        "name": "OriginalTweet",
                        "nullable": true,
                        "type": "string"
                      },
                      {
                        "metadata": {},
                        "name": "Sentiment",
                        "nullable": true,
                        "type": "string"
                      }
                    ],
                    "type": "struct"
                  },
                  "tableIdentifier": null
                }
              ],
              "data": "<div class=\"ansiout\"></div>",
              "removedWidgets": [],
              "addedWidgets": {},
              "metadata": {},
              "type": "html",
              "arguments": {}
            }
          },
          "data": {
            "text/html": [
              "<style scoped>\n  .ansiout {\n    display: block;\n    unicode-bidi: embed;\n    white-space: pre-wrap;\n    word-wrap: break-word;\n    word-break: break-all;\n    font-family: \"Source Code Pro\", \"Menlo\", monospace;;\n    font-size: 13px;\n    color: #555;\n    margin-left: 4px;\n    line-height: 19px;\n  }\n</style>\n<div class=\"ansiout\"></div>"
            ]
          },
          "transient": null
        }
      ]
    },
    {
      "cell_type": "markdown",
      "metadata": {
        "application/vnd.databricks.v1+cell": {
          "title": "",
          "showTitle": false,
          "inputWidgets": {},
          "nuid": "78a08f41-3da1-4247-8dea-c5e7e1a86dd3"
        },
        "id": "CNOsd68Gw-m8"
      },
      "source": [
        "### Data Exploration"
      ]
    },
    {
      "cell_type": "code",
      "metadata": {
        "application/vnd.databricks.v1+cell": {
          "title": "",
          "showTitle": false,
          "inputWidgets": {},
          "nuid": "487eae77-1dac-4534-a393-18b47930b643"
        },
        "id": "ZbH6nGrzw-m-",
        "outputId": "8d0a8046-dab4-43ee-d4da-775bcaa84b46"
      },
      "source": [
        "df.show()"
      ],
      "execution_count": null,
      "outputs": [
        {
          "output_type": "display_data",
          "metadata": {
            "application/vnd.databricks.v1+output": {
              "datasetInfos": [],
              "data": "<div class=\"ansiout\">+--------------------+--------------------+--------------------+--------------------+--------------------+---------+\n|            UserName|          ScreenName|            Location|             TweetAt|       OriginalTweet|Sentiment|\n+--------------------+--------------------+--------------------+--------------------+--------------------+---------+\n|                3799|               48751|              London|          16-03-2020|@MeNyrbie @Phil_G...|  Neutral|\n|                3800|               48752|                  UK|          16-03-2020|advice Talk to yo...| Positive|\n|                3801|               48753|           Vagabonds|          16-03-2020|Coronavirus Austr...| Positive|\n|                3802|               48754|                null|          16-03-2020|My food stock is ...|     null|\n|              PLEASE|         don&#39;t panic| THERE WILL BE EN...|                null|                null|     null|\n|           Stay calm|          stay safe.|                null|                null|                null|     null|\n|#COVID19france #C...|            Positive|                null|                null|                null|     null|\n|                3803|               48755|                null|          16-03-2020|Me, ready to go a...|     null|\n|Not because I&#39;m p...| but because my f...|          but please| don&#39;t panic. It ...|                null|     null|\n|#CoronavirusFranc...|  Extremely Negative|                null|                null|                null|     null|\n|                3804|               48756|ÜT: 36.319708,-82...|          16-03-2020|As news of the re...| Positive|\n|                3805|               48757|35.926541,-78.753267|          16-03-2020|&#34;Cashier at groce...| Positive|\n|                3806|               48758|             Austria|          16-03-2020|Was at the superm...|     null|\n|#toiletpapercrisi...|             Neutral|                null|                null|                null|     null|\n|                3807|               48759|     Atlanta, GA USA|          16-03-2020|Due to COVID-19 o...| Positive|\n|                3808|               48760|    BHAVNAGAR,GUJRAT|          16-03-2020|For corona preven...| Negative|\n|                3809|               48761|      Makati, Manila|          16-03-2020|All month there h...|  Neutral|\n|                3810|               48762|Pitt Meadows, BC,...|          16-03-2020|Due to the Covid-...|     null|\n|The wait time may...| particularly bee...|                null|                null|                null|     null|\n|We thank you for ...|  Extremely Positive|                null|                null|                null|     null|\n+--------------------+--------------------+--------------------+--------------------+--------------------+---------+\nonly showing top 20 rows\n\n</div>",
              "removedWidgets": [],
              "addedWidgets": {},
              "metadata": {},
              "type": "html",
              "arguments": {}
            }
          },
          "data": {
            "text/html": [
              "<style scoped>\n  .ansiout {\n    display: block;\n    unicode-bidi: embed;\n    white-space: pre-wrap;\n    word-wrap: break-word;\n    word-break: break-all;\n    font-family: \"Source Code Pro\", \"Menlo\", monospace;;\n    font-size: 13px;\n    color: #555;\n    margin-left: 4px;\n    line-height: 19px;\n  }\n</style>\n<div class=\"ansiout\">+--------------------+--------------------+--------------------+--------------------+--------------------+---------+\n            UserName|          ScreenName|            Location|             TweetAt|       OriginalTweet|Sentiment|\n+--------------------+--------------------+--------------------+--------------------+--------------------+---------+\n                3799|               48751|              London|          16-03-2020|@MeNyrbie @Phil_G...|  Neutral|\n                3800|               48752|                  UK|          16-03-2020|advice Talk to yo...| Positive|\n                3801|               48753|           Vagabonds|          16-03-2020|Coronavirus Austr...| Positive|\n                3802|               48754|                null|          16-03-2020|My food stock is ...|     null|\n              PLEASE|         don&#39;t panic| THERE WILL BE EN...|                null|                null|     null|\n           Stay calm|          stay safe.|                null|                null|                null|     null|\n#COVID19france #C...|            Positive|                null|                null|                null|     null|\n                3803|               48755|                null|          16-03-2020|Me, ready to go a...|     null|\nNot because I&#39;m p...| but because my f...|          but please| don&#39;t panic. It ...|                null|     null|\n#CoronavirusFranc...|  Extremely Negative|                null|                null|                null|     null|\n                3804|               48756|ÜT: 36.319708,-82...|          16-03-2020|As news of the re...| Positive|\n                3805|               48757|35.926541,-78.753267|          16-03-2020|&#34;Cashier at groce...| Positive|\n                3806|               48758|             Austria|          16-03-2020|Was at the superm...|     null|\n#toiletpapercrisi...|             Neutral|                null|                null|                null|     null|\n                3807|               48759|     Atlanta, GA USA|          16-03-2020|Due to COVID-19 o...| Positive|\n                3808|               48760|    BHAVNAGAR,GUJRAT|          16-03-2020|For corona preven...| Negative|\n                3809|               48761|      Makati, Manila|          16-03-2020|All month there h...|  Neutral|\n                3810|               48762|Pitt Meadows, BC,...|          16-03-2020|Due to the Covid-...|     null|\nThe wait time may...| particularly bee...|                null|                null|                null|     null|\nWe thank you for ...|  Extremely Positive|                null|                null|                null|     null|\n+--------------------+--------------------+--------------------+--------------------+--------------------+---------+\nonly showing top 20 rows\n\n</div>"
            ]
          },
          "transient": null
        }
      ]
    },
    {
      "cell_type": "code",
      "metadata": {
        "application/vnd.databricks.v1+cell": {
          "title": "",
          "showTitle": false,
          "inputWidgets": {},
          "nuid": "f12bfca5-d189-464a-a3bb-ad00bb931d80"
        },
        "id": "ooGQhQW2w-nB",
        "outputId": "36003198-ab1a-4552-8d84-401b0246fffe"
      },
      "source": [
        "df.columns"
      ],
      "execution_count": null,
      "outputs": [
        {
          "output_type": "display_data",
          "metadata": {
            "application/vnd.databricks.v1+output": {
              "datasetInfos": [],
              "data": "<div class=\"ansiout\">Out[19]: [&#39;UserName&#39;, &#39;ScreenName&#39;, &#39;Location&#39;, &#39;TweetAt&#39;, &#39;OriginalTweet&#39;, &#39;Sentiment&#39;]</div>",
              "removedWidgets": [],
              "addedWidgets": {},
              "metadata": {},
              "type": "html",
              "arguments": {}
            }
          },
          "data": {
            "text/html": [
              "<style scoped>\n  .ansiout {\n    display: block;\n    unicode-bidi: embed;\n    white-space: pre-wrap;\n    word-wrap: break-word;\n    word-break: break-all;\n    font-family: \"Source Code Pro\", \"Menlo\", monospace;;\n    font-size: 13px;\n    color: #555;\n    margin-left: 4px;\n    line-height: 19px;\n  }\n</style>\n<div class=\"ansiout\">Out[19]: [&#39;UserName&#39;, &#39;ScreenName&#39;, &#39;Location&#39;, &#39;TweetAt&#39;, &#39;OriginalTweet&#39;, &#39;Sentiment&#39;]</div>"
            ]
          },
          "transient": null
        }
      ]
    },
    {
      "cell_type": "code",
      "metadata": {
        "application/vnd.databricks.v1+cell": {
          "title": "",
          "showTitle": false,
          "inputWidgets": {},
          "nuid": "2a28c74c-600d-409f-8d17-7a5b700b9ca6"
        },
        "id": "L8sHUU-Bw-nC",
        "outputId": "508137de-ecf2-46b6-e99f-3ea5943a3963"
      },
      "source": [
        "len(df.columns)"
      ],
      "execution_count": null,
      "outputs": [
        {
          "output_type": "display_data",
          "metadata": {
            "application/vnd.databricks.v1+output": {
              "datasetInfos": [],
              "data": "<div class=\"ansiout\">Out[20]: 6</div>",
              "removedWidgets": [],
              "addedWidgets": {},
              "metadata": {},
              "type": "html",
              "arguments": {}
            }
          },
          "data": {
            "text/html": [
              "<style scoped>\n  .ansiout {\n    display: block;\n    unicode-bidi: embed;\n    white-space: pre-wrap;\n    word-wrap: break-word;\n    word-break: break-all;\n    font-family: \"Source Code Pro\", \"Menlo\", monospace;;\n    font-size: 13px;\n    color: #555;\n    margin-left: 4px;\n    line-height: 19px;\n  }\n</style>\n<div class=\"ansiout\">Out[20]: 6</div>"
            ]
          },
          "transient": null
        }
      ]
    },
    {
      "cell_type": "code",
      "metadata": {
        "application/vnd.databricks.v1+cell": {
          "title": "",
          "showTitle": false,
          "inputWidgets": {},
          "nuid": "99babdf3-a7bb-4a9f-b8c5-388e15ab601f"
        },
        "id": "s0NWYrftw-nD",
        "outputId": "4917d03f-b041-4499-cd79-36cc69bc366b"
      },
      "source": [
        "df.printSchema()"
      ],
      "execution_count": null,
      "outputs": [
        {
          "output_type": "display_data",
          "metadata": {
            "application/vnd.databricks.v1+output": {
              "datasetInfos": [],
              "data": "<div class=\"ansiout\">root\n |-- UserName: string (nullable = true)\n |-- ScreenName: string (nullable = true)\n |-- Location: string (nullable = true)\n |-- TweetAt: string (nullable = true)\n |-- OriginalTweet: string (nullable = true)\n |-- Sentiment: string (nullable = true)\n\n</div>",
              "removedWidgets": [],
              "addedWidgets": {},
              "metadata": {},
              "type": "html",
              "arguments": {}
            }
          },
          "data": {
            "text/html": [
              "<style scoped>\n  .ansiout {\n    display: block;\n    unicode-bidi: embed;\n    white-space: pre-wrap;\n    word-wrap: break-word;\n    word-break: break-all;\n    font-family: \"Source Code Pro\", \"Menlo\", monospace;;\n    font-size: 13px;\n    color: #555;\n    margin-left: 4px;\n    line-height: 19px;\n  }\n</style>\n<div class=\"ansiout\">root\n-- UserName: string (nullable = true)\n-- ScreenName: string (nullable = true)\n-- Location: string (nullable = true)\n-- TweetAt: string (nullable = true)\n-- OriginalTweet: string (nullable = true)\n-- Sentiment: string (nullable = true)\n\n</div>"
            ]
          },
          "transient": null
        }
      ]
    },
    {
      "cell_type": "code",
      "metadata": {
        "application/vnd.databricks.v1+cell": {
          "title": "",
          "showTitle": false,
          "inputWidgets": {},
          "nuid": "26e31883-09bc-4a8b-a3e7-7e687d67f86c"
        },
        "id": "ecHa5dTAw-nE",
        "outputId": "dcba882c-d812-4f87-953f-d42caffbc159"
      },
      "source": [
        "df.head()"
      ],
      "execution_count": null,
      "outputs": [
        {
          "output_type": "display_data",
          "metadata": {
            "application/vnd.databricks.v1+output": {
              "datasetInfos": [],
              "data": "<div class=\"ansiout\">Out[22]: Row(UserName=&#39;3799&#39;, ScreenName=&#39;48751&#39;, Location=&#39;London&#39;, TweetAt=&#39;16-03-2020&#39;, OriginalTweet=&#39;@MeNyrbie @Phil_Gahan @Chrisitv https://t.co/iFz9FAn2Pa and https://t.co/xX6ghGFzCC and https://t.co/I2NlzdxNo8&#39;, Sentiment=&#39;Neutral&#39;)</div>",
              "removedWidgets": [],
              "addedWidgets": {},
              "metadata": {},
              "type": "html",
              "arguments": {}
            }
          },
          "data": {
            "text/html": [
              "<style scoped>\n  .ansiout {\n    display: block;\n    unicode-bidi: embed;\n    white-space: pre-wrap;\n    word-wrap: break-word;\n    word-break: break-all;\n    font-family: \"Source Code Pro\", \"Menlo\", monospace;;\n    font-size: 13px;\n    color: #555;\n    margin-left: 4px;\n    line-height: 19px;\n  }\n</style>\n<div class=\"ansiout\">Out[22]: Row(UserName=&#39;3799&#39;, ScreenName=&#39;48751&#39;, Location=&#39;London&#39;, TweetAt=&#39;16-03-2020&#39;, OriginalTweet=&#39;@MeNyrbie @Phil_Gahan @Chrisitv https://t.co/iFz9FAn2Pa and https://t.co/xX6ghGFzCC and https://t.co/I2NlzdxNo8&#39;, Sentiment=&#39;Neutral&#39;)</div>"
            ]
          },
          "transient": null
        }
      ]
    },
    {
      "cell_type": "code",
      "metadata": {
        "application/vnd.databricks.v1+cell": {
          "title": "",
          "showTitle": false,
          "inputWidgets": {},
          "nuid": "f4ece271-1218-4921-8d79-358d0f718cd7"
        },
        "id": "37guPmumw-nE",
        "outputId": "249b59f1-88f3-4e23-82c9-f19ca0044b02"
      },
      "source": [
        "df.tail(3)"
      ],
      "execution_count": null,
      "outputs": [
        {
          "output_type": "display_data",
          "metadata": {
            "application/vnd.databricks.v1+output": {
              "datasetInfos": [],
              "data": "<div class=\"ansiout\">Out[23]: [Row(UserName=&#39;44954&#39;, ScreenName=&#39;89906&#39;, Location=None, TweetAt=&#39;14-04-2020&#39;, OriginalTweet=&#39;Is it wrong that the smell of hand sanitizer is starting to turn me on?\\n&#39;, Sentiment=None),\n Row(UserName=&#39;#coronavirus #COVID19 #coronavirus&#34;&#39;, ScreenName=&#39;Neutral&#39;, Location=None, TweetAt=None, OriginalTweet=None, Sentiment=None),\n Row(UserName=&#39;44955&#39;, ScreenName=&#39;89907&#39;, Location=&#39;i love you so much || he/him&#39;, TweetAt=&#39;14-04-2020&#39;, OriginalTweet=&#34;@TartiiCat Well new/used Rift S are going for $700.00 on Amazon rn although the normal market price is usually $400.00 . Prices are really crazy right now for vr headsets since HL Alex was announced and it&#39;s only been worse with COVID-19. Up to you whethe&#34;, Sentiment=&#39;Negative&#39;)]</div>",
              "removedWidgets": [],
              "addedWidgets": {},
              "metadata": {},
              "type": "html",
              "arguments": {}
            }
          },
          "data": {
            "text/html": [
              "<style scoped>\n  .ansiout {\n    display: block;\n    unicode-bidi: embed;\n    white-space: pre-wrap;\n    word-wrap: break-word;\n    word-break: break-all;\n    font-family: \"Source Code Pro\", \"Menlo\", monospace;;\n    font-size: 13px;\n    color: #555;\n    margin-left: 4px;\n    line-height: 19px;\n  }\n</style>\n<div class=\"ansiout\">Out[23]: [Row(UserName=&#39;44954&#39;, ScreenName=&#39;89906&#39;, Location=None, TweetAt=&#39;14-04-2020&#39;, OriginalTweet=&#39;Is it wrong that the smell of hand sanitizer is starting to turn me on?\\n&#39;, Sentiment=None),\n Row(UserName=&#39;#coronavirus #COVID19 #coronavirus&#34;&#39;, ScreenName=&#39;Neutral&#39;, Location=None, TweetAt=None, OriginalTweet=None, Sentiment=None),\n Row(UserName=&#39;44955&#39;, ScreenName=&#39;89907&#39;, Location=&#39;i love you so much || he/him&#39;, TweetAt=&#39;14-04-2020&#39;, OriginalTweet=&#34;@TartiiCat Well new/used Rift S are going for $700.00 on Amazon rn although the normal market price is usually $400.00 . Prices are really crazy right now for vr headsets since HL Alex was announced and it&#39;s only been worse with COVID-19. Up to you whethe&#34;, Sentiment=&#39;Negative&#39;)]</div>"
            ]
          },
          "transient": null
        }
      ]
    },
    {
      "cell_type": "code",
      "metadata": {
        "application/vnd.databricks.v1+cell": {
          "title": "",
          "showTitle": false,
          "inputWidgets": {},
          "nuid": "7295956e-16d2-4416-9f51-2ca5feccddf3"
        },
        "id": "q_uu7B1-w-nF",
        "outputId": "18dc21ef-2296-49b1-b5f3-3690d0d39ac2"
      },
      "source": [
        "df.count()"
      ],
      "execution_count": null,
      "outputs": [
        {
          "output_type": "display_data",
          "metadata": {
            "application/vnd.databricks.v1+output": {
              "datasetInfos": [],
              "data": "<div class=\"ansiout\">Out[24]: 68046</div>",
              "removedWidgets": [],
              "addedWidgets": {},
              "metadata": {},
              "type": "html",
              "arguments": {}
            }
          },
          "data": {
            "text/html": [
              "<style scoped>\n  .ansiout {\n    display: block;\n    unicode-bidi: embed;\n    white-space: pre-wrap;\n    word-wrap: break-word;\n    word-break: break-all;\n    font-family: \"Source Code Pro\", \"Menlo\", monospace;;\n    font-size: 13px;\n    color: #555;\n    margin-left: 4px;\n    line-height: 19px;\n  }\n</style>\n<div class=\"ansiout\">Out[24]: 68046</div>"
            ]
          },
          "transient": null
        }
      ]
    },
    {
      "cell_type": "code",
      "metadata": {
        "application/vnd.databricks.v1+cell": {
          "title": "",
          "showTitle": false,
          "inputWidgets": {},
          "nuid": "44fde187-d854-4872-b03d-81277716c32a"
        },
        "id": "2DvJ31Jlw-nG",
        "outputId": "1edc034b-490b-49da-bd22-79a0997942bb"
      },
      "source": [
        "df.describe().show()"
      ],
      "execution_count": null,
      "outputs": [
        {
          "output_type": "display_data",
          "metadata": {
            "application/vnd.databricks.v1+output": {
              "datasetInfos": [],
              "data": "<div class=\"ansiout\">+-------+--------------------+-------------------+--------------------+------------+--------------------+--------------------+\n|summary|            UserName|         ScreenName|            Location|     TweetAt|       OriginalTweet|           Sentiment|\n+-------+--------------------+-------------------+--------------------+------------+--------------------+--------------------+\n|  count|               68042|              55629|               34247|       41735|               41383|               28617|\n|   mean| 8.975066046523207E7| 150387.47623557984|    1.76800437504E10|        10.0|               682.0|              1016.0|\n| stddev|  9.10012357766514E9|1.645384113616883E7|8.839999088543759E10|         NaN|  1176.0629234866644|  1418.4562030602144|\n|    min|                 ...|                   |                    |            |      Coronavirus...| &#34;&#34; Well covid-19...|\n|    max|Ø  With April 1 d...|         but for us|ï? ???????&#39;? ????...| she says.&#34;|Ø  As buyers stoc...| when I also rece...|\n+-------+--------------------+-------------------+--------------------+------------+--------------------+--------------------+\n\n</div>",
              "removedWidgets": [],
              "addedWidgets": {},
              "metadata": {},
              "type": "html",
              "arguments": {}
            }
          },
          "data": {
            "text/html": [
              "<style scoped>\n  .ansiout {\n    display: block;\n    unicode-bidi: embed;\n    white-space: pre-wrap;\n    word-wrap: break-word;\n    word-break: break-all;\n    font-family: \"Source Code Pro\", \"Menlo\", monospace;;\n    font-size: 13px;\n    color: #555;\n    margin-left: 4px;\n    line-height: 19px;\n  }\n</style>\n<div class=\"ansiout\">+-------+--------------------+-------------------+--------------------+------------+--------------------+--------------------+\nsummary|            UserName|         ScreenName|            Location|     TweetAt|       OriginalTweet|           Sentiment|\n+-------+--------------------+-------------------+--------------------+------------+--------------------+--------------------+\n  count|               68042|              55629|               34247|       41735|               41383|               28617|\n   mean| 8.975066046523207E7| 150387.47623557984|    1.76800437504E10|        10.0|               682.0|              1016.0|\n stddev|  9.10012357766514E9|1.645384113616883E7|8.839999088543759E10|         NaN|  1176.0629234866644|  1418.4562030602144|\n    min|                 ...|                   |                    |            |      Coronavirus...| &#34;&#34; Well covid-19...|\n    max|Ø  With April 1 d...|         but for us|ï? ???????&#39;? ????...| she says.&#34;|Ø  As buyers stoc...| when I also rece...|\n+-------+--------------------+-------------------+--------------------+------------+--------------------+--------------------+\n\n</div>"
            ]
          },
          "transient": null
        }
      ]
    },
    {
      "cell_type": "code",
      "metadata": {
        "application/vnd.databricks.v1+cell": {
          "title": "",
          "showTitle": false,
          "inputWidgets": {},
          "nuid": "5a2ebe69-da56-4d43-8be9-e49d7148996e"
        },
        "id": "ZRejBVf8w-nG",
        "outputId": "eedb707f-9e2f-40d8-a229-cd0c3e97fec7"
      },
      "source": [
        "df.select('TweetAt','OriginalTweet','Sentiment').show()"
      ],
      "execution_count": null,
      "outputs": [
        {
          "output_type": "display_data",
          "metadata": {
            "application/vnd.databricks.v1+output": {
              "datasetInfos": [],
              "data": "<div class=\"ansiout\">+--------------------+--------------------+---------+\n|             TweetAt|       OriginalTweet|Sentiment|\n+--------------------+--------------------+---------+\n|          16-03-2020|@MeNyrbie @Phil_G...|  Neutral|\n|          16-03-2020|advice Talk to yo...| Positive|\n|          16-03-2020|Coronavirus Austr...| Positive|\n|          16-03-2020|My food stock is ...|     null|\n|                null|                null|     null|\n|                null|                null|     null|\n|                null|                null|     null|\n|          16-03-2020|Me, ready to go a...|     null|\n| don&#39;t panic. It ...|                null|     null|\n|                null|                null|     null|\n|          16-03-2020|As news of the re...| Positive|\n|          16-03-2020|&#34;Cashier at groce...| Positive|\n|          16-03-2020|Was at the superm...|     null|\n|                null|                null|     null|\n|          16-03-2020|Due to COVID-19 o...| Positive|\n|          16-03-2020|For corona preven...| Negative|\n|          16-03-2020|All month there h...|  Neutral|\n|          16-03-2020|Due to the Covid-...|     null|\n|                null|                null|     null|\n|                null|                null|     null|\n+--------------------+--------------------+---------+\nonly showing top 20 rows\n\n</div>",
              "removedWidgets": [],
              "addedWidgets": {},
              "metadata": {},
              "type": "html",
              "arguments": {}
            }
          },
          "data": {
            "text/html": [
              "<style scoped>\n  .ansiout {\n    display: block;\n    unicode-bidi: embed;\n    white-space: pre-wrap;\n    word-wrap: break-word;\n    word-break: break-all;\n    font-family: \"Source Code Pro\", \"Menlo\", monospace;;\n    font-size: 13px;\n    color: #555;\n    margin-left: 4px;\n    line-height: 19px;\n  }\n</style>\n<div class=\"ansiout\">+--------------------+--------------------+---------+\n             TweetAt|       OriginalTweet|Sentiment|\n+--------------------+--------------------+---------+\n          16-03-2020|@MeNyrbie @Phil_G...|  Neutral|\n          16-03-2020|advice Talk to yo...| Positive|\n          16-03-2020|Coronavirus Austr...| Positive|\n          16-03-2020|My food stock is ...|     null|\n                null|                null|     null|\n                null|                null|     null|\n                null|                null|     null|\n          16-03-2020|Me, ready to go a...|     null|\n don&#39;t panic. It ...|                null|     null|\n                null|                null|     null|\n          16-03-2020|As news of the re...| Positive|\n          16-03-2020|&#34;Cashier at groce...| Positive|\n          16-03-2020|Was at the superm...|     null|\n                null|                null|     null|\n          16-03-2020|Due to COVID-19 o...| Positive|\n          16-03-2020|For corona preven...| Negative|\n          16-03-2020|All month there h...|  Neutral|\n          16-03-2020|Due to the Covid-...|     null|\n                null|                null|     null|\n                null|                null|     null|\n+--------------------+--------------------+---------+\nonly showing top 20 rows\n\n</div>"
            ]
          },
          "transient": null
        }
      ]
    },
    {
      "cell_type": "code",
      "metadata": {
        "application/vnd.databricks.v1+cell": {
          "title": "",
          "showTitle": false,
          "inputWidgets": {},
          "nuid": "4ffd7bc3-b9fa-4405-a0e3-3b6686e46da4"
        },
        "id": "o9Ln3aHcw-nH",
        "outputId": "e6abc7fd-0f9c-4762-84d6-a141d7e51f7b"
      },
      "source": [
        "df = df.select('TweetAt','OriginalTweet','Sentiment')"
      ],
      "execution_count": null,
      "outputs": [
        {
          "output_type": "display_data",
          "metadata": {
            "application/vnd.databricks.v1+output": {
              "datasetInfos": [
                {
                  "name": "df",
                  "typeStr": "pyspark.sql.dataframe.DataFrame",
                  "schema": {
                    "fields": [
                      {
                        "metadata": {},
                        "name": "TweetAt",
                        "nullable": true,
                        "type": "string"
                      },
                      {
                        "metadata": {},
                        "name": "OriginalTweet",
                        "nullable": true,
                        "type": "string"
                      },
                      {
                        "metadata": {},
                        "name": "Sentiment",
                        "nullable": true,
                        "type": "string"
                      }
                    ],
                    "type": "struct"
                  },
                  "tableIdentifier": null
                }
              ],
              "data": "<div class=\"ansiout\"></div>",
              "removedWidgets": [],
              "addedWidgets": {},
              "metadata": {},
              "type": "html",
              "arguments": {}
            }
          },
          "data": {
            "text/html": [
              "<style scoped>\n  .ansiout {\n    display: block;\n    unicode-bidi: embed;\n    white-space: pre-wrap;\n    word-wrap: break-word;\n    word-break: break-all;\n    font-family: \"Source Code Pro\", \"Menlo\", monospace;;\n    font-size: 13px;\n    color: #555;\n    margin-left: 4px;\n    line-height: 19px;\n  }\n</style>\n<div class=\"ansiout\"></div>"
            ]
          },
          "transient": null
        }
      ]
    },
    {
      "cell_type": "code",
      "metadata": {
        "application/vnd.databricks.v1+cell": {
          "title": "",
          "showTitle": false,
          "inputWidgets": {},
          "nuid": "d13f09d3-69e3-42de-a253-3aff583d1606"
        },
        "id": "4cOIjVrlw-nH",
        "outputId": "914d37a2-724d-405f-ad44-9109295dba75"
      },
      "source": [
        "df.toPandas()['OriginalTweet'].isnull().sum()"
      ],
      "execution_count": null,
      "outputs": [
        {
          "output_type": "display_data",
          "metadata": {
            "application/vnd.databricks.v1+output": {
              "datasetInfos": [],
              "data": "<div class=\"ansiout\">Out[28]: 26663</div>",
              "removedWidgets": [],
              "addedWidgets": {},
              "metadata": {},
              "type": "html",
              "arguments": {}
            }
          },
          "data": {
            "text/html": [
              "<style scoped>\n  .ansiout {\n    display: block;\n    unicode-bidi: embed;\n    white-space: pre-wrap;\n    word-wrap: break-word;\n    word-break: break-all;\n    font-family: \"Source Code Pro\", \"Menlo\", monospace;;\n    font-size: 13px;\n    color: #555;\n    margin-left: 4px;\n    line-height: 19px;\n  }\n</style>\n<div class=\"ansiout\">Out[28]: 26663</div>"
            ]
          },
          "transient": null
        }
      ]
    },
    {
      "cell_type": "code",
      "metadata": {
        "application/vnd.databricks.v1+cell": {
          "title": "",
          "showTitle": false,
          "inputWidgets": {},
          "nuid": "3360a63a-ca53-4f48-95ef-8396559c69d0"
        },
        "id": "5pLVAyWWw-nI",
        "outputId": "b486545a-ab59-412a-b1f0-cb89b5c3fdb5"
      },
      "source": [
        "df = df.dropna(subset=('OriginalTweet'))"
      ],
      "execution_count": null,
      "outputs": [
        {
          "output_type": "display_data",
          "metadata": {
            "application/vnd.databricks.v1+output": {
              "datasetInfos": [
                {
                  "name": "df",
                  "typeStr": "pyspark.sql.dataframe.DataFrame",
                  "schema": {
                    "fields": [
                      {
                        "metadata": {},
                        "name": "TweetAt",
                        "nullable": true,
                        "type": "string"
                      },
                      {
                        "metadata": {},
                        "name": "OriginalTweet",
                        "nullable": true,
                        "type": "string"
                      },
                      {
                        "metadata": {},
                        "name": "Sentiment",
                        "nullable": true,
                        "type": "string"
                      }
                    ],
                    "type": "struct"
                  },
                  "tableIdentifier": null
                }
              ],
              "data": "<div class=\"ansiout\"></div>",
              "removedWidgets": [],
              "addedWidgets": {},
              "metadata": {},
              "type": "html",
              "arguments": {}
            }
          },
          "data": {
            "text/html": [
              "<style scoped>\n  .ansiout {\n    display: block;\n    unicode-bidi: embed;\n    white-space: pre-wrap;\n    word-wrap: break-word;\n    word-break: break-all;\n    font-family: \"Source Code Pro\", \"Menlo\", monospace;;\n    font-size: 13px;\n    color: #555;\n    margin-left: 4px;\n    line-height: 19px;\n  }\n</style>\n<div class=\"ansiout\"></div>"
            ]
          },
          "transient": null
        }
      ]
    },
    {
      "cell_type": "code",
      "metadata": {
        "application/vnd.databricks.v1+cell": {
          "title": "",
          "showTitle": false,
          "inputWidgets": {},
          "nuid": "3be1e6ef-8968-4037-9107-0438818b2083"
        },
        "id": "reDyw9PMw-nI",
        "outputId": "55416ca6-60b0-4d5a-d042-996807464868"
      },
      "source": [
        "df.show()"
      ],
      "execution_count": null,
      "outputs": [
        {
          "output_type": "display_data",
          "metadata": {
            "application/vnd.databricks.v1+output": {
              "datasetInfos": [],
              "data": "<div class=\"ansiout\">+----------+--------------------+------------------+\n|   TweetAt|       OriginalTweet|         Sentiment|\n+----------+--------------------+------------------+\n|16-03-2020|@MeNyrbie @Phil_G...|           Neutral|\n|16-03-2020|advice Talk to yo...|          Positive|\n|16-03-2020|Coronavirus Austr...|          Positive|\n|16-03-2020|My food stock is ...|              null|\n|16-03-2020|Me, ready to go a...|              null|\n|16-03-2020|As news of the re...|          Positive|\n|16-03-2020|&#34;Cashier at groce...|          Positive|\n|16-03-2020|Was at the superm...|              null|\n|16-03-2020|Due to COVID-19 o...|          Positive|\n|16-03-2020|For corona preven...|          Negative|\n|16-03-2020|All month there h...|           Neutral|\n|16-03-2020|Due to the Covid-...|              null|\n|16-03-2020|#horningsea is a ...|Extremely Positive|\n|16-03-2020|Me: I don&#39;t need ...|              null|\n|16-03-2020|ADARA Releases CO...|          Positive|\n|16-03-2020|Lines at the groc...|              null|\n|16-03-2020|????? ????? ?????...|              null|\n|16-03-2020|&#34;@eyeonthearctic ...|              null|\n|16-03-2020|Amazon Glitch Sty...|              null|\n|16-03-2020|For those who are...|          Positive|\n+----------+--------------------+------------------+\nonly showing top 20 rows\n\n</div>",
              "removedWidgets": [],
              "addedWidgets": {},
              "metadata": {},
              "type": "html",
              "arguments": {}
            }
          },
          "data": {
            "text/html": [
              "<style scoped>\n  .ansiout {\n    display: block;\n    unicode-bidi: embed;\n    white-space: pre-wrap;\n    word-wrap: break-word;\n    word-break: break-all;\n    font-family: \"Source Code Pro\", \"Menlo\", monospace;;\n    font-size: 13px;\n    color: #555;\n    margin-left: 4px;\n    line-height: 19px;\n  }\n</style>\n<div class=\"ansiout\">+----------+--------------------+------------------+\n   TweetAt|       OriginalTweet|         Sentiment|\n+----------+--------------------+------------------+\n16-03-2020|@MeNyrbie @Phil_G...|           Neutral|\n16-03-2020|advice Talk to yo...|          Positive|\n16-03-2020|Coronavirus Austr...|          Positive|\n16-03-2020|My food stock is ...|              null|\n16-03-2020|Me, ready to go a...|              null|\n16-03-2020|As news of the re...|          Positive|\n16-03-2020|&#34;Cashier at groce...|          Positive|\n16-03-2020|Was at the superm...|              null|\n16-03-2020|Due to COVID-19 o...|          Positive|\n16-03-2020|For corona preven...|          Negative|\n16-03-2020|All month there h...|           Neutral|\n16-03-2020|Due to the Covid-...|              null|\n16-03-2020|#horningsea is a ...|Extremely Positive|\n16-03-2020|Me: I don&#39;t need ...|              null|\n16-03-2020|ADARA Releases CO...|          Positive|\n16-03-2020|Lines at the groc...|              null|\n16-03-2020|????? ????? ?????...|              null|\n16-03-2020|&#34;@eyeonthearctic ...|              null|\n16-03-2020|Amazon Glitch Sty...|              null|\n16-03-2020|For those who are...|          Positive|\n+----------+--------------------+------------------+\nonly showing top 20 rows\n\n</div>"
            ]
          },
          "transient": null
        }
      ]
    },
    {
      "cell_type": "code",
      "metadata": {
        "application/vnd.databricks.v1+cell": {
          "title": "",
          "showTitle": false,
          "inputWidgets": {},
          "nuid": "09b755e1-a8c3-4da2-8cd0-7c0bb58ac951"
        },
        "id": "TJtzwiY0w-nI",
        "outputId": "15773a51-b44b-466c-8397-f984e1cd785e"
      },
      "source": [
        "df.toPandas()['Sentiment'].isnull().sum()"
      ],
      "execution_count": null,
      "outputs": [
        {
          "output_type": "display_data",
          "metadata": {
            "application/vnd.databricks.v1+output": {
              "datasetInfos": [],
              "data": "<div class=\"ansiout\">Out[31]: 12766</div>",
              "removedWidgets": [],
              "addedWidgets": {},
              "metadata": {},
              "type": "html",
              "arguments": {}
            }
          },
          "data": {
            "text/html": [
              "<style scoped>\n  .ansiout {\n    display: block;\n    unicode-bidi: embed;\n    white-space: pre-wrap;\n    word-wrap: break-word;\n    word-break: break-all;\n    font-family: \"Source Code Pro\", \"Menlo\", monospace;;\n    font-size: 13px;\n    color: #555;\n    margin-left: 4px;\n    line-height: 19px;\n  }\n</style>\n<div class=\"ansiout\">Out[31]: 12766</div>"
            ]
          },
          "transient": null
        }
      ]
    },
    {
      "cell_type": "code",
      "metadata": {
        "application/vnd.databricks.v1+cell": {
          "title": "",
          "showTitle": false,
          "inputWidgets": {},
          "nuid": "bd442676-6618-414c-9243-410eac86d9a0"
        },
        "id": "DLuLOpsyw-nJ",
        "outputId": "d7d1df3c-c000-45fb-b874-0415608573a5"
      },
      "source": [
        "df = df.dropna(subset=('Sentiment'))"
      ],
      "execution_count": null,
      "outputs": [
        {
          "output_type": "display_data",
          "metadata": {
            "application/vnd.databricks.v1+output": {
              "datasetInfos": [
                {
                  "name": "df",
                  "typeStr": "pyspark.sql.dataframe.DataFrame",
                  "schema": {
                    "fields": [
                      {
                        "metadata": {},
                        "name": "TweetAt",
                        "nullable": true,
                        "type": "string"
                      },
                      {
                        "metadata": {},
                        "name": "OriginalTweet",
                        "nullable": true,
                        "type": "string"
                      },
                      {
                        "metadata": {},
                        "name": "Sentiment",
                        "nullable": true,
                        "type": "string"
                      }
                    ],
                    "type": "struct"
                  },
                  "tableIdentifier": null
                }
              ],
              "data": "<div class=\"ansiout\"></div>",
              "removedWidgets": [],
              "addedWidgets": {},
              "metadata": {},
              "type": "html",
              "arguments": {}
            }
          },
          "data": {
            "text/html": [
              "<style scoped>\n  .ansiout {\n    display: block;\n    unicode-bidi: embed;\n    white-space: pre-wrap;\n    word-wrap: break-word;\n    word-break: break-all;\n    font-family: \"Source Code Pro\", \"Menlo\", monospace;;\n    font-size: 13px;\n    color: #555;\n    margin-left: 4px;\n    line-height: 19px;\n  }\n</style>\n<div class=\"ansiout\"></div>"
            ]
          },
          "transient": null
        }
      ]
    },
    {
      "cell_type": "code",
      "metadata": {
        "application/vnd.databricks.v1+cell": {
          "title": "",
          "showTitle": false,
          "inputWidgets": {},
          "nuid": "0bc91fbc-c790-44f8-abef-92ff60b28f6d"
        },
        "id": "UwVqfBTSw-nJ",
        "outputId": "3de4e706-65ed-41f5-cbfd-62d49fddd57a"
      },
      "source": [
        "df.show()"
      ],
      "execution_count": null,
      "outputs": [
        {
          "output_type": "display_data",
          "metadata": {
            "application/vnd.databricks.v1+output": {
              "datasetInfos": [],
              "data": "<div class=\"ansiout\">+----------+--------------------+------------------+\n|   TweetAt|       OriginalTweet|         Sentiment|\n+----------+--------------------+------------------+\n|16-03-2020|@MeNyrbie @Phil_G...|           Neutral|\n|16-03-2020|advice Talk to yo...|          Positive|\n|16-03-2020|Coronavirus Austr...|          Positive|\n|16-03-2020|As news of the re...|          Positive|\n|16-03-2020|&#34;Cashier at groce...|          Positive|\n|16-03-2020|Due to COVID-19 o...|          Positive|\n|16-03-2020|For corona preven...|          Negative|\n|16-03-2020|All month there h...|           Neutral|\n|16-03-2020|#horningsea is a ...|Extremely Positive|\n|16-03-2020|ADARA Releases CO...|          Positive|\n|16-03-2020|For those who are...|          Positive|\n|16-03-2020|with 100  nations...|Extremely Negative|\n|16-03-2020|@10DowningStreet ...|          Negative|\n|16-03-2020|UK #consumer poll...|Extremely Positive|\n|16-03-2020|In preparation fo...|          Negative|\n|16-03-2020|This morning I te...|Extremely Negative|\n|16-03-2020|There Is of in th...|          Negative|\n|16-03-2020|Went to the super...|           Neutral|\n|16-03-2020|Worried about the...|          Positive|\n|16-03-2020|my wife works ret...|          Negative|\n+----------+--------------------+------------------+\nonly showing top 20 rows\n\n</div>",
              "removedWidgets": [],
              "addedWidgets": {},
              "metadata": {},
              "type": "html",
              "arguments": {}
            }
          },
          "data": {
            "text/html": [
              "<style scoped>\n  .ansiout {\n    display: block;\n    unicode-bidi: embed;\n    white-space: pre-wrap;\n    word-wrap: break-word;\n    word-break: break-all;\n    font-family: \"Source Code Pro\", \"Menlo\", monospace;;\n    font-size: 13px;\n    color: #555;\n    margin-left: 4px;\n    line-height: 19px;\n  }\n</style>\n<div class=\"ansiout\">+----------+--------------------+------------------+\n   TweetAt|       OriginalTweet|         Sentiment|\n+----------+--------------------+------------------+\n16-03-2020|@MeNyrbie @Phil_G...|           Neutral|\n16-03-2020|advice Talk to yo...|          Positive|\n16-03-2020|Coronavirus Austr...|          Positive|\n16-03-2020|As news of the re...|          Positive|\n16-03-2020|&#34;Cashier at groce...|          Positive|\n16-03-2020|Due to COVID-19 o...|          Positive|\n16-03-2020|For corona preven...|          Negative|\n16-03-2020|All month there h...|           Neutral|\n16-03-2020|#horningsea is a ...|Extremely Positive|\n16-03-2020|ADARA Releases CO...|          Positive|\n16-03-2020|For those who are...|          Positive|\n16-03-2020|with 100  nations...|Extremely Negative|\n16-03-2020|@10DowningStreet ...|          Negative|\n16-03-2020|UK #consumer poll...|Extremely Positive|\n16-03-2020|In preparation fo...|          Negative|\n16-03-2020|This morning I te...|Extremely Negative|\n16-03-2020|There Is of in th...|          Negative|\n16-03-2020|Went to the super...|           Neutral|\n16-03-2020|Worried about the...|          Positive|\n16-03-2020|my wife works ret...|          Negative|\n+----------+--------------------+------------------+\nonly showing top 20 rows\n\n</div>"
            ]
          },
          "transient": null
        }
      ]
    },
    {
      "cell_type": "code",
      "metadata": {
        "application/vnd.databricks.v1+cell": {
          "title": "",
          "showTitle": false,
          "inputWidgets": {},
          "nuid": "f8954f29-11f8-4f2f-991e-8e6d5bfaae31"
        },
        "id": "V2GU7dRFw-nJ",
        "outputId": "5094cd7f-baa2-4009-ed62-843c38addfd9"
      },
      "source": [
        "import re\n",
        "from pyspark.sql.functions import regexp_replace"
      ],
      "execution_count": null,
      "outputs": [
        {
          "output_type": "display_data",
          "metadata": {
            "application/vnd.databricks.v1+output": {
              "datasetInfos": [],
              "data": "<div class=\"ansiout\"></div>",
              "removedWidgets": [],
              "addedWidgets": {},
              "metadata": {},
              "type": "html",
              "arguments": {}
            }
          },
          "data": {
            "text/html": [
              "<style scoped>\n  .ansiout {\n    display: block;\n    unicode-bidi: embed;\n    white-space: pre-wrap;\n    word-wrap: break-word;\n    word-break: break-all;\n    font-family: \"Source Code Pro\", \"Menlo\", monospace;;\n    font-size: 13px;\n    color: #555;\n    margin-left: 4px;\n    line-height: 19px;\n  }\n</style>\n<div class=\"ansiout\"></div>"
            ]
          },
          "transient": null
        }
      ]
    },
    {
      "cell_type": "code",
      "metadata": {
        "application/vnd.databricks.v1+cell": {
          "title": "",
          "showTitle": false,
          "inputWidgets": {},
          "nuid": "0e2ea39d-487c-4b02-afde-11539f625f8e"
        },
        "id": "3aqqcV-8w-nK",
        "outputId": "47b0b02c-7f94-46a0-d776-564ed5ca2651"
      },
      "source": [
        "df.withColumn(\"OriginalTweet\", regexp_replace(col(\"OriginalTweet\"), \"/[^0-9A-Za-z t]+/\" , \"\"))"
      ],
      "execution_count": null,
      "outputs": [
        {
          "output_type": "display_data",
          "metadata": {
            "application/vnd.databricks.v1+output": {
              "datasetInfos": [],
              "data": "<div class=\"ansiout\">Out[35]: DataFrame[TweetAt: string, OriginalTweet: string, Sentiment: string]</div>",
              "removedWidgets": [],
              "addedWidgets": {},
              "metadata": {},
              "type": "html",
              "arguments": {}
            }
          },
          "data": {
            "text/html": [
              "<style scoped>\n  .ansiout {\n    display: block;\n    unicode-bidi: embed;\n    white-space: pre-wrap;\n    word-wrap: break-word;\n    word-break: break-all;\n    font-family: \"Source Code Pro\", \"Menlo\", monospace;;\n    font-size: 13px;\n    color: #555;\n    margin-left: 4px;\n    line-height: 19px;\n  }\n</style>\n<div class=\"ansiout\">Out[35]: DataFrame[TweetAt: string, OriginalTweet: string, Sentiment: string]</div>"
            ]
          },
          "transient": null
        }
      ]
    },
    {
      "cell_type": "markdown",
      "metadata": {
        "application/vnd.databricks.v1+cell": {
          "title": "",
          "showTitle": false,
          "inputWidgets": {},
          "nuid": "db7b194f-52ed-492d-8808-3ba981dbe3ab"
        },
        "id": "H3BLkTfew-nK"
      },
      "source": [
        "### Feature Engineering"
      ]
    },
    {
      "cell_type": "code",
      "metadata": {
        "application/vnd.databricks.v1+cell": {
          "title": "",
          "showTitle": false,
          "inputWidgets": {},
          "nuid": "fee77467-3c0d-40ec-9bbd-2a459b0e707b"
        },
        "id": "AA-AEpaEw-nK",
        "outputId": "513b6dff-2997-4e50-99d7-f13e49f983a3"
      },
      "source": [
        "import pyspark.ml.feature\n",
        "from pyspark.ml.feature import IDF"
      ],
      "execution_count": null,
      "outputs": [
        {
          "output_type": "display_data",
          "metadata": {
            "application/vnd.databricks.v1+output": {
              "datasetInfos": [],
              "data": "<div class=\"ansiout\"></div>",
              "removedWidgets": [],
              "addedWidgets": {},
              "metadata": {},
              "type": "html",
              "arguments": {}
            }
          },
          "data": {
            "text/html": [
              "<style scoped>\n  .ansiout {\n    display: block;\n    unicode-bidi: embed;\n    white-space: pre-wrap;\n    word-wrap: break-word;\n    word-break: break-all;\n    font-family: \"Source Code Pro\", \"Menlo\", monospace;;\n    font-size: 13px;\n    color: #555;\n    margin-left: 4px;\n    line-height: 19px;\n  }\n</style>\n<div class=\"ansiout\"></div>"
            ]
          },
          "transient": null
        }
      ]
    },
    {
      "cell_type": "code",
      "metadata": {
        "application/vnd.databricks.v1+cell": {
          "title": "",
          "showTitle": false,
          "inputWidgets": {},
          "nuid": "f496b48e-8c04-4791-8488-47b7133bc029"
        },
        "id": "Kcj_6ppRw-nL",
        "outputId": "f8ab90f1-5234-408c-eb3d-a1a6f1050daa"
      },
      "source": [
        "####Initialising the pipeline stages\n",
        "tokenizer = Tokenizer(inputCol='OriginalTweet' , outputCol='words')\n",
        "stopwords_remover = StopWordsRemover(inputCol='words', outputCol='filtered_words')\n",
        "vectorizer = CountVectorizer(inputCol='filtered_words' , outputCol='vector_words')\n",
        "idf = IDF(inputCol='vector_words' , outputCol='vectorized_features')"
      ],
      "execution_count": null,
      "outputs": [
        {
          "output_type": "display_data",
          "metadata": {
            "application/vnd.databricks.v1+output": {
              "datasetInfos": [],
              "data": "<div class=\"ansiout\"></div>",
              "removedWidgets": [],
              "addedWidgets": {},
              "metadata": {},
              "type": "html",
              "arguments": {}
            }
          },
          "data": {
            "text/html": [
              "<style scoped>\n  .ansiout {\n    display: block;\n    unicode-bidi: embed;\n    white-space: pre-wrap;\n    word-wrap: break-word;\n    word-break: break-all;\n    font-family: \"Source Code Pro\", \"Menlo\", monospace;;\n    font-size: 13px;\n    color: #555;\n    margin-left: 4px;\n    line-height: 19px;\n  }\n</style>\n<div class=\"ansiout\"></div>"
            ]
          },
          "transient": null
        }
      ]
    },
    {
      "cell_type": "code",
      "metadata": {
        "application/vnd.databricks.v1+cell": {
          "title": "",
          "showTitle": false,
          "inputWidgets": {},
          "nuid": "5fa44715-79b6-43b9-a722-79e837c8ec05"
        },
        "id": "jpvw5mEew-nL",
        "outputId": "f9ff39e7-6773-4aa5-ebc9-3362ffe676d1"
      },
      "source": [
        "####Adding Labels\n",
        "labelEncoder = StringIndexer(inputCol='Sentiment' , outputCol='label').fit(df)"
      ],
      "execution_count": null,
      "outputs": [
        {
          "output_type": "display_data",
          "metadata": {
            "application/vnd.databricks.v1+output": {
              "datasetInfos": [],
              "data": "<div class=\"ansiout\"></div>",
              "removedWidgets": [],
              "addedWidgets": {},
              "metadata": {},
              "type": "html",
              "arguments": {}
            }
          },
          "data": {
            "text/html": [
              "<style scoped>\n  .ansiout {\n    display: block;\n    unicode-bidi: embed;\n    white-space: pre-wrap;\n    word-wrap: break-word;\n    word-break: break-all;\n    font-family: \"Source Code Pro\", \"Menlo\", monospace;;\n    font-size: 13px;\n    color: #555;\n    margin-left: 4px;\n    line-height: 19px;\n  }\n</style>\n<div class=\"ansiout\"></div>"
            ]
          },
          "transient": null
        }
      ]
    },
    {
      "cell_type": "code",
      "metadata": {
        "application/vnd.databricks.v1+cell": {
          "title": "",
          "showTitle": false,
          "inputWidgets": {},
          "nuid": "31e288e1-d43d-4c0f-834a-f660b547dabd"
        },
        "id": "2IRKV6XIw-nM",
        "outputId": "b7694895-6c87-4297-e9ae-38cb4faa20f2"
      },
      "source": [
        "labelEncoder.transform(df).show(10)"
      ],
      "execution_count": null,
      "outputs": [
        {
          "output_type": "display_data",
          "metadata": {
            "application/vnd.databricks.v1+output": {
              "datasetInfos": [],
              "data": "<div class=\"ansiout\">+----------+--------------------+------------------+-----+\n|   TweetAt|       OriginalTweet|         Sentiment|label|\n+----------+--------------------+------------------+-----+\n|16-03-2020|@MeNyrbie @Phil_G...|           Neutral|  2.0|\n|16-03-2020|advice Talk to yo...|          Positive|  0.0|\n|16-03-2020|Coronavirus Austr...|          Positive|  0.0|\n|16-03-2020|As news of the re...|          Positive|  0.0|\n|16-03-2020|&#34;Cashier at groce...|          Positive|  0.0|\n|16-03-2020|Due to COVID-19 o...|          Positive|  0.0|\n|16-03-2020|For corona preven...|          Negative|  1.0|\n|16-03-2020|All month there h...|           Neutral|  2.0|\n|16-03-2020|#horningsea is a ...|Extremely Positive|  3.0|\n|16-03-2020|ADARA Releases CO...|          Positive|  0.0|\n+----------+--------------------+------------------+-----+\nonly showing top 10 rows\n\n</div>",
              "removedWidgets": [],
              "addedWidgets": {},
              "metadata": {},
              "type": "html",
              "arguments": {}
            }
          },
          "data": {
            "text/html": [
              "<style scoped>\n  .ansiout {\n    display: block;\n    unicode-bidi: embed;\n    white-space: pre-wrap;\n    word-wrap: break-word;\n    word-break: break-all;\n    font-family: \"Source Code Pro\", \"Menlo\", monospace;;\n    font-size: 13px;\n    color: #555;\n    margin-left: 4px;\n    line-height: 19px;\n  }\n</style>\n<div class=\"ansiout\">+----------+--------------------+------------------+-----+\n   TweetAt|       OriginalTweet|         Sentiment|label|\n+----------+--------------------+------------------+-----+\n16-03-2020|@MeNyrbie @Phil_G...|           Neutral|  2.0|\n16-03-2020|advice Talk to yo...|          Positive|  0.0|\n16-03-2020|Coronavirus Austr...|          Positive|  0.0|\n16-03-2020|As news of the re...|          Positive|  0.0|\n16-03-2020|&#34;Cashier at groce...|          Positive|  0.0|\n16-03-2020|Due to COVID-19 o...|          Positive|  0.0|\n16-03-2020|For corona preven...|          Negative|  1.0|\n16-03-2020|All month there h...|           Neutral|  2.0|\n16-03-2020|#horningsea is a ...|Extremely Positive|  3.0|\n16-03-2020|ADARA Releases CO...|          Positive|  0.0|\n+----------+--------------------+------------------+-----+\nonly showing top 10 rows\n\n</div>"
            ]
          },
          "transient": null
        }
      ]
    },
    {
      "cell_type": "code",
      "metadata": {
        "application/vnd.databricks.v1+cell": {
          "title": "",
          "showTitle": false,
          "inputWidgets": {},
          "nuid": "03f7951a-f850-484f-be18-13a32246ebb2"
        },
        "id": "BmU1j315w-nM",
        "outputId": "ede8a763-af42-4e6d-d73b-bd1ea9ff5a37"
      },
      "source": [
        "df = labelEncoder.transform(df)"
      ],
      "execution_count": null,
      "outputs": [
        {
          "output_type": "display_data",
          "metadata": {
            "application/vnd.databricks.v1+output": {
              "datasetInfos": [
                {
                  "name": "df",
                  "typeStr": "pyspark.sql.dataframe.DataFrame",
                  "schema": {
                    "fields": [
                      {
                        "metadata": {},
                        "name": "TweetAt",
                        "nullable": true,
                        "type": "string"
                      },
                      {
                        "metadata": {},
                        "name": "OriginalTweet",
                        "nullable": true,
                        "type": "string"
                      },
                      {
                        "metadata": {},
                        "name": "Sentiment",
                        "nullable": true,
                        "type": "string"
                      },
                      {
                        "metadata": {
                          "ml_attr": {
                            "name": "label",
                            "type": "nominal",
                            "vals": [
                              "Positive",
                              "Negative",
                              "Neutral",
                              "Extremely Positive",
                              "Extremely Negative",
                              "social distancing",
                              " N. Y. - April 10",
                              " Corona Virus",
                              " Stay with us",
                              " but we also need to change other activities that demand more and more forest land",
                              " delivery",
                              " ecological collapse",
                              " however",
                              " just \"\"selfish pigs who only think about themselves\"\".",
                              " not going to the pharmacy",
                              " of course",
                              " or click the links\"\" #AlwaysWatchingOutForYou",
                              " state governors say theyre now bidding against federal agencies and each other for scarce supplies",
                              " supermarket workers",
                              " \"\" Well covid-19...\"\"  She rolled her eyes and \"",
                              " \"\"1 lakh beds already prepared for COVID-19 testing.\"\" and \"\"India has enough medicine and food stock\"\"",
                              " \"\"We'll be https://t.co/e49zUcJV70\"",
                              " \"\"Who needs BlackFriday anyway with steep discounts to cream it when you got COVID?\"\" #GreedyBastards https://t.co/cz7v14RzzA\"",
                              " \"\"You stay at home for Us\"\". ",
                              " \"\"You'd better stock up!\"\"",
                              " #Boris. #coronavirus #blackmarket #spivs\"",
                              " #China stockpiled around 2.4 billion pieces of protective equipment",
                              " #Eurozone",
                              " #ImpactInvesting",
                              " #Newsnight. If people can't afford rising food prices",
                              " #QuaratineAndChill",
                              " #Trump is urging the cartel to do just that.\"\"",
                              " #covid19",
                              " #shoemaking",
                              " #virus",
                              " #wheat prices exploded",
                              " $AZO",
                              " &amp; others who are literally out there.",
                              " 'Im pretty sure I have it; Im going to the doctor now. I just have to stop at Whole Foods first.'\"\" #covid19 #coronavirus https://t.co/LWq4QokAbn\"",
                              " 1 USD pays for 5 (!) meals https://t.co/TIB7WXWRov\"",
                              " 13",
                              " 2019",
                              " 2020 - US &amp; Canadian Border Closure &amp; Economic Impact of Oil Prices\"\" on @Spreaker #borderclosure #brampton #caledon #coronavirus #covid_19 #mississauga #oilprices #peelregion #sauga960am #us_canada https://t.co/0anwAGDI1G\"",
                              " 2020 at 08:20AM #Coronavirus https://t.co/MnMM69d9u5\"",
                              " 2020.\"\" #coronavirus",
                              " 2nd wave",
                              " 4 weeks after COVID-19 began to spread",
                              " 6 ft apart STAY HOME\"",
                              " 7th Edition\"\" ",
                              " ???????? ????????? ?? YouTube ???? ?? ???? ??????? ????????? ???????. ??? ?????? ??????",
                              " @KatrinaAClarke reports #HamOnt #COVID19",
                              " @PtRightsAdvoc via @LasVegasSun ",
                              " @Sendiks and @AWGCorporate! #grocery #supermarket #covid19 #coronavirus #grocers #foodretail #retail https://t.co/FglsnPoj4k\"",
                              " AND WHAT THEY MEAN FOR MARKETERS\"\" @adage\"",
                              " Agencies Say\"\"; \"\"COVID-19 Pandemic",
                              " Amazon announced March 16 that it will open 100",
                              " April 7",
                              " April 9th",
                              " As Buffer Stock Has Enough Food Stored - CEO - Vimnewsgh\"\" https://t.co/HKDf8E98au\"",
                              " Ashley Young shares Covid-19 advice - https://t.co/7RojE92CdG https://t.co/8xPGp9fbag\"",
                              " BESCOM works 24*7 to ensure uniterrupted electricity. During COVID-19 pandemic",
                              " Bakery etc. This isour \"\"Islamic Republic of Pakistan\"\". Shameful moment for #PTI government #Covid_19\"",
                              " Big Tech could benefit from changes in consumer habits.\"\" https://t.co/ZHO48KP0LI GATE is here to provide you with the tech-saavy staff that you need to keep your business successful",
                              " CDC recommends wearing cloth face coverings to slow spread of #COVID19 in public settings where other social distancing measures are difficult to maintain (e.g.",
                              " COVID-19 related disruptions such as travel and movement restrictions have caused artisanal gold supply chains to collapse",
                              " Chairman &amp; CEO",
                              " Corps like @Boeing @united @trumphotels etc",
                              " Costco and Target fell for the first time in weeks as coronavirus stockpiling behavior shifts\"\" #coronavirus #COVID19",
                              " D2C #ecommerce sales reached $14.28 billion in US. Per forecast 2020 sales will grow by 24.3%",
                              " Devastating\"\" https://t.co/HjVwbTAd1P @ClimateNexus @nytimes #oilcompanies #prices #coronavirus #oilandgas #budgets #gasoline #diesel #jetfuel #pipeline #crudeoil #pipeline #storagetanks #frackingcrews https://t.co/FkIl0IWOyF\"",
                              " Even as Food Demand Skyrockets",
                              " France",
                              " Hand Sanitizer",
                              " I am regretting tht shit ):",
                              " I am sure that they will not get to work in the office..\"\"",
                              " I drove out to the farm Ive supported through a CSA program the past few years. I wanted to stock the fridge as calls for social distancing were ramping up due to COVID-19...\"\"",
                              " I presume that you won't jack up prices.\"",
                              " I'm currently more concerned about the people panic buying and the rest of us being unable to access food than I am about catching the actual virus.\"",
                              " I'm happy to help you with it at a factory price. https://t.co/kaSBHka0V3\"",
                              " IFB vice president: https://t.co/oe6lKTyjku https://t.co/YW7KJMEHPC\"",
                              " Im sure you have been touched by the videos of people applauding #healthworkers from their balconies",
                              " Jordan",
                              " Jubilee Orchards",
                              " M.D.",
                              " Mohamed Kaahin. https://t.co/pCQa3fK9ru\"",
                              " Mumbai or Pune",
                              " N. Y. - March 20",
                              " N.Y. Hospital Converts Sleep Apnea Machines Into Ventilators\"\"",
                              " Nenshi says: public health impact of COVID-19",
                              " New Jerseys biggest health-care network",
                              " No Service\"\" policies in place",
                              " No!",
                              " Phillips66 and former Continental CEO Harold Hamm.\"",
                              " Pick-Up",
                              " Rattles Producers\"\" https://t.co/wu24I1SsBI @SuccessfulFarm #chicken #stockpile #food #quarantine #Covid_19 #restaurants #supermarket #StayAtHomeOrder #foodprices #globaleconomy #virus #pandemic #diet\"",
                              " San Pedro City",
                              " Spain",
                              " Stay Home-Be Safe\"\"",
                              " Sub-Saharan Africa Consumer Research Analyst  ",
                              " Teachers",
                              " Thank You for your services. Everyone is sitting at home and #coronavirus #UKLockdownNow #COVID19 .\"",
                              " Totino's would like all of our customers to know that since half of America will not leave the house for weeks during this covid-19 crisis",
                              " Utilities etc\"",
                              " VP",
                              " Va. -- home of @realdonaldtrump's Virginia golf club.",
                              " Vaccines and Treatments\"\" https://t.co/upvPXU8IEa\"",
                              " Vaccines and Treatments\"\": Because #COVID19 has never been seen in humans before",
                              " Woodstock sanctuary",
                              " [food bank] demand has quintupled this season. Almost half of Rapaports customers are new",
                              " a Coronavirus Companion\"\"",
                              " a complex web of interactions involving farmers",
                              " a consumer-driven global recession could be the next threat posed by the pandemic",
                              " a manager at the market tells me. ",
                              " a new at-home interactive food experience in Los Angeles that has been designed specifically for this current COVID-19 quarantine life. \"\" Strange times demand strange pizza. Sign me up!  https://t.co/UjhdRLTYaK\"",
                              " a new dawn of supermarket #logistics is at hand. After 40 years of just-in-time delivery model",
                              " a new dawn of supermarket logistics is at hand. Old rivals are going to have to (...) kickstart a new system that involves working together to keep the country fed.\"\" reports @WiredUK",
                              " a reminder that we're seeing signs that the opposite is actually happening. https://t.co/9Dt6EQ6FU2\"",
                              " a salesperson from @abt facetimed us and sold us new appliances. @salesfloor is now offering its tech stack to do this at scale for free. Great way to keep retail associates productive! https://t.co/v145JN3EGm\"",
                              " a stock market nose-dive",
                              " according to various reports",
                              " acts of #kindness during the #coronavirus #pandemic are providing #uplifting moments of #joy in a #UnitedStates beset by #anxiety.\"\" https://t.co/RefLNn8cL0\"",
                              " after 2 weeks of extreme isolation new case numbers/day should \"",
                              " after panic-buying amid the #coronavirus outbreak",
                              " again",
                              " against the advice of Canadian officials. https://t.co/n0yw9aKJ55\"",
                              " all skyrocket in use",
                              " along with a comprehensive benefits package. ",
                              " along with a pair of sunglasses. I'm sure I looked creepy",
                              " also vowing to roll back all Trump administration regulations and executive orders that harm the environment and \"",
                              " and @lloydblankfein arguing that stock prices are more important than ~1M American lives.\"",
                              " and Attorney General Paxton advises all Texans to be on alert for electronic communications with dangerous attachments or fraudulent website links.\"\" #txlege #COVID19",
                              " and consider if you really do need a delivery",
                              " and consumer discretionary spending will be WAY down. @JimCramer\"",
                              " and could shape consumer sentiment and future policy decisions.\"\" #OWHealth https://t.co/vPgoT6CWjl\"",
                              " and fairer.",
                              " and fairer. They are immune to oil prices",
                              " and generally just being damned selfish!!! #coronavirus #SelfIsolation #Hoarding #BeKind https://t.co/zUu4XGvqY6\"",
                              " and government impostor scams are all on the rise.",
                              " and imagine someone blowing mouth water onto your face like these two staffs at the grocery store did.   #Covid_19\"",
                              " and lynx's doorstep visit delights social media users. https://t.co/ZqetoX6Xrs\"",
                              " and not through choice. so please self isolate in our place",
                              " and now food banks all across the country are facing a great demand.\"\" @RobinRoberts",
                              " and once the crisis is over",
                              " and things are never going to go back to the way they were\"\"",
                              " and those who are more concerned with having fun shopping are t\"",
                              " and tried to sell me their CD. This is PEAK WTF level for me.",
                              " and what does that mean for broader consumer behavior?\"\"",
                              " and what they mean for marketers\"\"",
                              " and yesterday oil prices fell to their lowest level since 2002 in a sign of the deep distress our economy is facing.\"\"",
                              " and you're not even an American!\"\"\"",
                              " announced ...click on image to read on...pls retweet :-) https://t.co/RhSMXTfX9C\"",
                              " anti-government protests",
                              " apparently that's all you need to ensure your death",
                              " appliances",
                              " appreciate that President Conte puts his face;  use time at home to contemplate and reflect on the really important things!\"\" F 37",
                              " arrested for licking food items in a supermarket and posting video of it.",
                              " as COVID-19 forces food assistance organizations to manage dwindling inventories",
                              " as U.S. companies and government officials seek a smooth-flowing food-supply chain without causing panic over potential shortages and worker safety.\"\"",
                              " as businesses across the nation face disruptions amid the ongoing #lockdown",
                              " as lower oil prices and a dip in economic activity amid the #coronavirus pandemic more than offset upward pressure from the liras depreciation.\"\" @cagankoc's @economics report:",
                              " as of late March",
                              " as the restaurant and food service demand crumbled rapidly due to COVID-19. ( Ben Butler",
                              " as the world grapples with Coronavirus contagion. I'm not saying we should mercilessly beat people who do this but....yeah. #coronavirus https://t.co/MfmVeBoe3R\"",
                              " as we follow guidelines...\"\" HELP",
                              " as well as posting online! #COVID2019 #EssentialWorkers\"",
                              " at prices that dont already reflect the possibility of a bailout.\"\" https://t.co/2FDfj5qV6T\"",
                              " avoid pubs",
                              " bank managers. The list is endless.",
                              " be #healthy &amp; #immune",
                              " be a man. Use your hand\"\"  If you don't know",
                              " be more hygenic in times of #coronavirus This is Unacceptable",
                              " be safe out there people!! #cribdelacurse #universe #transforming #coronavirus #corvid19 #besafeeveryone #sanitizer #mask #roland https://t.co/KRInBVhPK0\"",
                              " because almost everywhere other utilities",
                              " before assuring Australians the country has food security. https://t.co/UKKl1qzpkQ\"",
                              " between each #tenant and their respective #landlord. But whttps://t.co/M9irxZEghg https://t.co/idnyot1thv\"",
                              " bev &amp; consumer packaged goods are exempted from the gathering &amp; curfew bans that are starting to take effect. https://t.co/pxjldZ9oSh https://t.co/rNO2Va9NBp\"",
                              " billdesk",
                              " bizarrely it had no filters on it",
                              " blaming #coronavirus on USA and Italy",
                              " bus drivers",
                              " business relief",
                              " but 32% are shifting to completely buying online rather than shopping in physical stores\"\"",
                              " but I'm on one today and every day hereafter when it comes to anything even tangentially related to #COVID19/#Coronavirus. If I see you selling disinfecting wipes/sprays",
                              " but also by environmental",
                              " but also on its ability to forge a seamless connection between millions of individuals and #Amazon.\"\"",
                              " but also to the interests of others.\"\" -Philippians 2:4",
                              " but as Keynes pointed out this would be socially unjust. The correct alternative would be higher taxes on wealth and incomes\"\" @RSkidelsky https://t.co/6cXSk11iul via @prospect_uk\"",
                              " but because it was the only thing in abundance. #COVID2019 #TotinosAreLifeNow\"",
                              " but for a limited time! For every merch sold",
                              " but if stores had doubled the price of #toiletpaper early on",
                              " but in the supermarket this morning",
                              " but instead of brick",
                              " but masks aren't available to them",
                              " but not any of the\"",
                              " but not vulnerable countries: the pandemic poses a serious threat to food security at the local level.\"\" Read more here: https://t.co/ykY4CuGdoZ https://t.co/wh6IFGXl7z\"",
                              " but orders from food-service operators fell.\"\" https://t.co/I96mBOfdZ8 @BurnabyNOW_News\"",
                              " but sad\"\" story: the average #onlineshopping conversion rate has",
                              " but some are calling on the network to cut wholesale prices. https://t.co/T2rcs18ML4 h/t LightReading\"",
                              " but the company cannot control the prices dealers or retailers charge for 3M respirators.\"\" https://t.co/AGlPcRqw40\"",
                              " but there is no need to stockpile at this point.\"\" #COVID19 #Coronavirus\"",
                              " but theres no need to hoard products or panic about food during this coronavirus (COVID-19) pandemic.\"\" https://t.co/CHgEIYRyfh @AgWebEditor #COVID19\"",
                              " but theyre already reporting changes in their income",
                              " but very few were able to predict consumers would want their own safety stock. https://t.co/9htwkj9DNi\"",
                              " but wanted to highlight some major ones: https://t.co/1whYfIal70\"",
                              " but we are happy to help",
                              " but we have to acknowledge life is weird right now. That from a place where life is still relatively unchanged thus far.  #Covid_19\"",
                              " but weve certainly flattened the economy.\"\" https://t.co/YF0GnOZHJ5\"",
                              " but you still need to eat. @amandamull untangles the physical and moral hazards of ordering takeout or going to the grocery store during a pandemic.\"\" https://t.co/ke8c4iKD0j #coronavirus\"",
                              " but\"",
                              " buy and hoard masks that are most appropriately used and necessary for the front-line health care workers who do need it for the clear and present danger\"\" they face.",
                              " cash-points",
                              " claiming the news station",
                              " cleaned",
                              " closed the borders",
                              " co-owner says\"\"",
                              " cold beaches and toilet paper: COVID-19 and sudden",
                              " come gather round friends",
                              " companies strategies will need to focus on fortifying their web presence and",
                              " connected global city\"\" shows @GladysB doesn't understand that the #coronavirus and its future versions have just changed the world. Not to mention that low oil prices will trigger another oil crisis\"",
                              " consume media and how they regard the brands they do business with.\"\" Find out how here: https://t.co/4hEUjUNJtY https://t.co/h4xtvzePI5\"",
                              " consumed more",
                              " consumer and more. Please RT!",
                              " consumer behavior turns out to be remarkably unaccommodating to civilizing tendencies.\"\" -Benjamin Barber",
                              " consumer capitalism and #coronavirus\"",
                              " consumer spending in grocery stores surged dramatically",
                              " containing chloroquine phosphate",
                              " counterintuitively falling as the #coronavirus economic hit has become horribly apparent.  A rebound is now afoot. Get your market update from DavidCottleFX here:  https://t.co/1xgeIF2vrq\"\"\"",
                              " creating more trouble for Calgary landlords already struggling with huge vacancy rates.\"\" https://t.co/Ilq1wqn0bF #CRE @westerninvestor\"",
                              " cruise",
                              " custodial staff",
                              " despite #coronavirus impact\"\"  Consumer sector businesses  say they will maintain previously planned investments  at 46%  and 8% saying they would increase planned investments https://t.co/gGh3HCy7jH\"",
                              " die from hunger.854 million people worldwide are estimated to be undernourished",
                              " dir. of L.A. County Dept of Public Health. https://t.co/lFFIgWuTYk\"",
                              " disinfectants &amp; other products needed to combat the spread of the #coronavirus are being exacerbated by the Trump admin's tariffs on Chinese imports",
                              " does it? #coronavirus #WuhanCoronaVirus #COVID?19\"",
                              " dramatically curtailing consumer demand.\"\"",
                              " e-commerce and away from brick and mortar",
                              " eat more meals at home and stockpile essentials",
                              " ensuring that low oil prices  [will] force all producers to [cut production].\"\"",
                              " especially #nurses #Doctors as I wore a #facemask to the grocery store and got anxiety just for wearing it for 1 hour.?",
                              " etc #coronavirus https://t.co/lqItAHT4vD\"",
                              " etc please contact Cheney Brothers at 478-250-3699. Office: 352-291-7800",
                              " etc.? #COVID2019\"",
                              " even among the best of times.",
                              " even if it means giving up on their own privacy in the process.\"\" https://t.co/24YkJ5HZMd\"",
                              " even now",
                              " everybody else had clothes on\"\" (@metalli445 and @PattyeLJ",
                              " expands its home delivery and creates an extra 3500 jobs.\"\"",
                              " experts in the food supply chain say the system is built to endure",
                              " experts say.",
                              " factories to run",
                              " falling 2.2% from the day before",
                              " farmers and ranchers are eager to work with the Agriculture Department to bridge the supply gap and get farm products to those in need...\"\"",
                              " fast food workers",
                              " financial markets were in an inherently unstable condition. Years of.. https://t.co/rofXLLBbwL\"",
                              " find them here: https://t.co/c6GYaMNdvM\"",
                              " firefighters etc.... ?",
                              " food prices",
                              " for elderly and vulnerable customers.\"\" #coronavirus #sainsburys https://t.co/UOQqrxTiPo\"",
                              " for example",
                              " for the purposes of collecting unemployment insurance",
                              " forcing the store to throw out an estimated $35",
                              " frailties that",
                              " fresh",
                              " giving the elderly and disabled a dedicated hour to shop amid the #Coronavirus pandemic",
                              " gloves",
                              " gloves bad",
                              " grocery store employees",
                              " grocery store shortages",
                              " grocery workers increasingly fear showing up at work https://t.co/FZf7zhCxYM\"",
                              " hand sanitiser and other products which never arrived.\"\" @FT https://t.co/IoSiiHH9II\"",
                              " handing you food",
                              " hang up! https://t.co/Y6WDfvweoW https://t.co/sXMyuMgVa7\"",
                              " har de her harrr...\"\" as they frantically try to restock products w/out getting trampled by greedy assholes in the process. Not even a little funny. Fuckers.",
                              " harvesting as many chickens as we can",
                              " have you got any paracetamol in still?\"\"",
                              " he used a voucher to get a discount... Absolutely disgusting! ",
                              " he'll bash #Coronavirus up.",
                              " here are some tips for protecting your devices and personal information.\"\" https://t.co/YwRLhoIfsM https://t.co/dxHBk3UCNu\"",
                              " hereby",
                              " higher for other plays. Halliburton reportedly said low oil prices would lead to 2/3 of rigs gone by Q4. US oil sb in good decline when COVID-19 eases #OOTT https://t.co/Ob44oCvWw1\"",
                              " hotels...)",
                              " how salty could it be?\"\"",
                              " however you're putting yourself at risk just by ordering outside food.\"",
                              " https://t.co/bYJirZ1OZ7 #intermarkgroup #psychologymarketing #covid19\"",
                              " humans and other animals can have an increased drive toward hoarding behaviors.  However",
                              " hunger relief organizations",
                              " if people get exposed to the virus in supermarket queues today! So please keep distance ?",
                              " in a survey of 1068 Americans",
                              " in particular",
                              " in these times when so many people are worried about the security of our food supply",
                              " in this case it appears to have strengthened them.\"\"",
                              " including because of \"\"massive suicides",
                              " including comfy bras",
                              " including farmers markets",
                              " including isopropyl alcohol",
                              " including loan guarantees\"\"",
                              " including medicines.",
                              " including trips to the grocery store. What was previously a mundane task has turned into a nerve-wracking ordeal that b\"",
                              " increased demand long way off. @LSUResearch @LSUNews #oilandgas #coronavirus https://t.co/22ZNy1ShxW\"",
                              " instead of shopping online",
                              " investment bankers have been candid on investor calls and during health care conferences about the opportunity to raise drug prices.\"\" #coronavirus",
                              " it gave us a chance to slowly do our shop.\"\"",
                              " it is very respectful to me as a consumer. #MaddensMethods\"",
                              " it proved to be the worshttps://t.co/KpWd5TWoVu\"",
                              " it was an administrative error\"\" Pure BS!\"",
                              " it was possible to at least wishfully imagine that grocery stores were somehow immune to the virus. Now the risk has become even more apparent: Yes",
                              " it's a little vial bottle with drops.",
                              " it's going to kill people.\"\"",
                              " it's important to note that @auspost Post is still operational... you'll still be able to send and receive domestic parcels and mail",
                              " it's never gonna happen",
                              " it's the beginning of the end for #fracking\"\"",
                              " its good for our customers as we can deliver within hours ",
                              " just keeping track.\"\"",
                              " just want to say thank you. Thank you to everyone specially the driver! ? #Covid_19\"",
                              " keeping specialists away from infected patients when applicable.\"\" https://t.co/Aysl3AR06o InteliChart is offering telehealth services at no cost through July 31. https://t.co/tcd4xn86iQ #telehealth #COVID19 #coronavirus https://t.co/nIJSP4PLcu\"",
                              " keeping them open is important.\"\"",
                              " kindness..",
                              " led by economist Jack Mintz",
                              " let's not hoard. Consider dropping food at the local Food Bank; the poor can't afford to stock up. There CAN be love in the time of COVID-19.\"\"",
                              " levels of sustained",
                              " like",
                              " like after 9/11. That's ok because change is constant....and sometimes good. #covidchange #postcovidworld #newnormal The consumer after COVID-19 https://t.co/k7XMRYovmk via @marketingdive\"",
                              " like ocean freight to keep costs down. But bc of ??demand",
                              " linked to at the top of the retweeted article",
                              " listen to the doctors and even then",
                              " lol...\"",
                              " lorry drivers",
                              " major retailers and experts say",
                              " major retailers and experts say. https://t.co/ThpOJ1znVd https://t.co/ZMlp4WDSmN\"",
                              " major retailers and experts say.\"\" https://t.co/0pNxcGVWvi\"",
                              " mama mboga",
                              " managed to get nothing I wanted. People need to stop this ridiculous panic buying! Some of us have to still work which gives us no time to shop! This country is a joke! #coronavirus\"",
                              " managing director at Mizuho Securities",
                              " many are striking and joining sick-outs to demand better conditions and pay. @thecut has more: https://t.co/6vjpRmUtZl https://t.co/nVWVKkUprP\"",
                              " many observers hold that normal consumer behavior will promptly reassert itself",
                              " masks",
                              " masks are still being listed! #PriceGouging #Hoarding #COVIDIOTS #COVID19 #coronavirus https://t.co/RaEbR6V6mg\"",
                              " meaningful connection between a brand and a consumer. #InfluencerMarketing helps reinforce this bond because people really buy into people's stories",
                              " mechanics etc still out there too!",
                              " medics cannot do miracles.  Going to supermarket - coughing on the handle of a trolley",
                              " meditation",
                              " milk and paper items are taking off the racks as quick as they are restocked after the interest for staple things flooded since the World Health Organization (WHO)  https://t.co/0BY8vLhET6\"\"\"",
                              " milk powder gone\"\"",
                              " more people will move out of their houses and crowd shops",
                              " need urgent help - please keep price stable while peoples are staying at home to confront #coronavirus challenge. https://t.co/7owfqSpEmw\"",
                              " needed medical supplies",
                              " neither will milk.\"\"",
                              " no flour. At least In 1 supermarket",
                              " no respect for social distancing or the law. Wales is closed. You are endangering local residents. #StayHomeSaveLives\"",
                              " no will to draw\"",
                              " normalcy pre-and-post coronavirus will be different.\"\"",
                              " not Church.",
                              " not even grocery stores can keep up the facade of normalcy. As many health experts have feared",
                              " not going to sit at home whilst my wife works saving lives in this crisis\"\" rather than \"\"working in a supermarket is shameful\"\"\"",
                              " not leave it to grocery store \"",
                              " now he needs our help fighting Corona",
                              " now that the economy dumped and supermarkets/online retailers can't keep up with demand. Fruit/veg plants/seeds sales are through the roof as everyone plans to grow their own food. #coronavirus #COVID2019 https://t.co/rZXfpl5i0g\"",
                              " nurses",
                              " oil prices fall",
                              " on a per capita basis",
                              " one thing is clear: stockpiling is not an option for the economically vulnerable.\"\" @amyvhaddad  #COVID19 #COVIDaus #stockpiling https://t.co/ZpKRzNty0A https://t.co/LfAaeA2PDB\"",
                              " online education",
                              " online retailers are leveraging the cost-effective value of #AffiliateMarketing ever more to help reach todays consumer and fuel online revenue growth.\"\" https://t.co/zKuKIRDCjf @LinkConnector https://t.co/UMXi0pc3Lf\"",
                              " only a few preliminary conclusions can be cautiously advanced. Firstly",
                              " openings due to COVID-19\"\" https://t.co/DDoUT6Qdpf #Supermarketnews\"",
                              " or a range bc wait times are up #COVID19nz\"",
                              " or as normal as we'll be after this",
                              " or companies will have to figure out new ways to move things around.\"\" https://t.co/jlZXZyvn9O #coronavirus\"",
                              " or give me death!\"\" speech.",
                              " or grocery store",
                              " our bank tellers",
                              " our cars",
                              " our forecast of annual growth in dividends is down 28% in the US and 25% in the EU",
                              " our incredible store teams are exhausted and co\"",
                              " our prices are now...\"\" notices. After the \"\"welcome back\"\" specials",
                              " overwhelming majority of customers were buying a few extra items because they and their families must now eat every meal at home.\"\" NickCohen #coronavirus @mrjamesob\"",
                              " pangolin sales falter with Covid-19\"\"",
                              " pants and jocks that I was wearing on that particular day.\"\" #YouCantAskThat - Tonight 9pm. https://t.co/o58GSj7xqY\"",
                              " particularly for emergency pantry items and health supplies\"\"",
                              " pasta",
                              " pay for childcare and stock up on food.\"\"  https://t.co/VSJA1hp6RF\"",
                              " pay with cash and pack bags over the top of you. #coronavirusuk #Covid_19 https://t.co/JqVzmUC3Fy\"",
                              " people that I talk to now have a completely different opinion on what things were two weeks ago.\"\" https://t.co/F29DCCpWgm\"",
                              " pharmacy",
                              " physical spaces",
                              " pills",
                              " please don't toss them in the supermarket parking lots. Some poor kid has to pick them up! https://t.co/cCLVIlTCDe\"",
                              " please refrain from entering the store\"\"",
                              " please remember that if you are loading up on processed foods during this time",
                              " please save them from this COVID-19. Please sustain them and let them feel your comfort and love ??\"",
                              " please take pics or video and make them famous. Let's see how many use them after the crisis has passed. #pricegougers #pricegouging #pricerises #CoronaCrisis #CoronavirusPandemic #Covid_19 https://t.co/IukgDamLFO\"",
                              " police officers",
                              " potatoes &amp; vegetables??",
                              " prices may drop far below where they were before. #coronavirus\"",
                              " public gatherings limit of 10",
                              " pushing my cart down a row of refrigerators in the dairy section",
                              " putting all grocery workers at great risk? @OutnumberedOT\"",
                              " queues",
                              " racism",
                              " re-engage your customers in meaningful ways rather than pushing products.\"",
                              " recession",
                              " reduces operations in S.A. due to #Covid_19 https://t.co/0BFEsLmltQ https://t.co/NQOUJjKkd3\"",
                              " reduces operations in S.A. due to #Covid_19 \"",
                              " refuses to close despite government orders in the wake of coronavirus: https://t.co/3l9ITqzzEn #Gamestop #coronavirus https://t.co/kAHJ7ZwaWc\"",
                              " remember: Rupert Murdoch produces a wide range...\"\"",
                              " rising real estate prices in urban clusters &amp; visa restrictions in a de-globalising world may all make remote collaboration more valuable than ever",
                              " rolled up the window and bounced. She's \"",
                              " sanitizing intensive care units",
                              " says authors who spoke out \"\"should know better\"\" https://t.co/zMYoDo3BnV\"",
                              " says that as a result of covid-19 his company has brought forward by several years the time when it expects the share of shopping done online in Britain to double from its current 20% already among the highest in the world\"\" https://t.co/UgcjI0EU7m\"",
                              " scammers are preying on your fears. Canadians are being warned to be careful of the scams that are circulating. Read more here: https://t.co/kEynPu36XZ\"",
                              " school staff and delivery drivers.\"\" ",
                              " short supplies",
                              " shrinking habitat",
                              " similar to what CCAs are offering in CA https://t.co/OlHkyldwqH @ebce_ceo\"",
                              " sir.\"\"",
                              " smile as she loads multiple boxes of toilet paper and paper towels after buying out the entire local 'Dollar Tree' store so that no one else can buy any.",
                              " so",
                              " so I am happy we are able to help out in this way",
                              " so do the scams associated with it.\"\"  they have listed 6 recommendations to follow.",
                              " so doesn't understand all the fuss! Cognitive dissonance is real",
                              " so supermarkets keep operating",
                              " so the de\"",
                              " so there'll be a lot of online shopping I assume! #coronavirus\"",
                              " so would be any other consumer goods company that produces cleaning and sanitary products which was earlier a \"\"kind of\"\" commodity market. #coronavirus\"",
                              " some 6 million barrels per day of \"\"homeless crude\"\" might literally have nowhere to go.\"\" Repeat: ENGINEERED ECONOMIC CRASH.",
                              " soon",
                              " sources said on Thursday. ",
                              " spirits",
                              " spot the scams\"\" https://t.co/UvLZ9lOO0v #FTC #scams #coronavirus\"",
                              " staff our hospitals",
                              " starting 3 weeks ago",
                              " state governors say they're now bidding against federal agencies and each other for scarce supplies",
                              " stock food and supplies",
                              " stockroom staff",
                              " stocks will rebound but fr 20%-30% below current prices. Like 2008...investors...slow to return...stocks may well underperform as high P/E ratios...normalize",
                              " subsidy is an elitist thing because it is the elites that benefit. They are the ones that have SUVs",
                              " such as distillery making hand sanitizer",
                              " such as shops",
                              " supermarket staff",
                              " supermarket workers -",
                              " supermarket workers and delivery riders are among the unsung heroes of this crisis  frequently unprotected",
                              " switch places with me. #COVID19 #coronavirus #StayHome\"",
                              " teachers",
                              " teachers and grocery store attendants.",
                              " terminals were shuttered",
                              " tests",
                              " than with @realDonaldTrump under the #CoronaVirus threat.",
                              " that are currently doing all the panic buying and hoarding of goods. People on benefits can barely afford the essentials let alone hoard food and toilet rolls",
                              " that online shopping/grocery delivery would become easier &amp; faster",
                              " thats why someone still trying to go to work. Realizing not all can have at least one week of food stock. Hoping covid-19 will leave our country...\"",
                              " the COVID-19 pandemic creates an obligation for payers to offer people  customers",
                              " the Morning Consult Index of Consumer Sentiment (ICS) is at 89.41",
                              " the UK property market is very robust",
                              " the benchmark crude price for tar-sands producers",
                              " the company producing remdesivir",
                              " the economy is basically the stock market. Hes obsessed with it",
                              " the fall in oil and stock prices has widened bond spreads and put pressure on the Naira.\"\"",
                              " the first step in that direction would be seeing sellers drop their listing prices. 'That hasn't happened.' \"\" https://t.co/EpIzl5CZsh\"",
                              " the gas store workers",
                              " the largest food retailer in #SouthAfrica with a R150.4 billion turnover &amp; a 30% market share",
                              " the man in charge of coronavirus-proofing Walmart stores in Canada. Though dressed like a store clerk",
                              " the more lives were saved.\"\" Great read via @NPR ?? https://t.co/0QcNWNSwgm\"",
                              " the ones who have currently lost their jobs",
                              " the panic may wane even more.\"",
                              " the price of food and other supplies has doubled in Kabul markets over the past 24 hours\"\" #COVID2019 ",
                              " the social distancing and deprivation is really intense. We will all be craving a bit of entertainment",
                              " the style of Covid-19 Mortality presentation reminds of the awful football results program on Saturday afternoons in the 1970s. In a house await... https://t.co/QW9tLG3a3j\"",
                              " the system collapses...\"\"",
                              " the virus that causes COVID-19",
                              " the week seems to go on forever",
                              " the world will be changed. Crisis-buying patterns will spark permanent changes in consumer behavior. The work you do now will lay the foundation for ongoing success on the other side. \"\"",
                              " then another copy of \"\"Contagion\"\" and moved it to the top",
                              " then the image of an empty shelf is the exception",
                              " then there will be no such expected recovery. consumer consumption may spike",
                              " then youre going to think that theres no food available. Ive seen a lot of that imagery when really thats not indicative of the actual availability of food.\"\"  @aubsn ",
                              " there are a lot of people who are working overtime to meet the needs of their communities.\"\" @AjitPaiFCC https://t.co/WEp57Pf19a #coronavirus\"",
                              " there are smart steps to take to keep your baby healthy and fed.\"\"",
                              " there is a good chance that inflation will be negative for a period of time this year",
                              " there is enough food.\"\" ",
                              " there's plenty for everyone and please BACK OFF!! 2 metre rule ?\"\" #SocialDistancing #CoronaCrisis please don't #panicbuy and there would be enough to go round\"",
                              " thermometers and baby formula despite crackdown\"\"",
                              " they are saying police didn't allow us to open.  They said \"\"We will give u particular time to open\"\"  just think of Rush of people at that time..(1/\"",
                              " they have potatoes now! That's a good meal right there!\"\" ",
                              " they should add \"\"moronic attacks\"\". https://t.co/Efyg77aw6L\"",
                              " theyre also buying their fair share of alcohol. Sales at liquor stores are up  amid the COVID-19 pandemic.\"\"",
                              " this Email is to assure you that we are looking after you during the #coronavirus pandemic. By no longer accepting returns",
                              " this could trigger the decision to purchase more product upfront. ",
                              " this is nothing to do w/ socialism and everything to do with panic",
                              " those retail business without the right treatment will not survive.\"\"",
                              " those who have lost their jobs due to all the shutdowns\"",
                              " though also quietly sad.\"\" https://t.co/DXwKJt0Q5G\"",
                              " to bars and restaurants",
                              " to move to online/remote learning. But children of essential workers will still be able to go to school",
                              " to protect each other",
                              " to the supermarket",
                              " to work",
                              " toilet paper and other items are in demand because of COVID-19...The Consumer Protection Act prevents businesses from grossly raising prices with no explanation beyond what is reasonable and available elsewhere.\"\" https://t.co/mkWNO9JmqQ\"",
                              " transportation",
                              " travel",
                              " truck drivers",
                              " tubers",
                              " unprecedented backdrop",
                              " upcoming stress from collapsing demand will reflect economics of \"\"sudden stops\"\"",
                              " upset about the inconvenience of the new rules or angry about a missing product or a long wait to get in.\"\"",
                              " utility techs",
                              " veterinary medicines could affect agricultural production. Closures of restaurants and less frequent grocery shopping [will likely] diminish demand for fresh produce and fisheries products",
                              " vicious and uncaring\"\" way.\"",
                              " viewings",
                              " views of meditation-related videos are 51% higher than the same period in 2019",
                              " vigilantes and police filter migrants' entrance to the supermarket because of #coronavirus\"\".",
                              " visors",
                              " volunteers abandoning charities to practice social distancing",
                              " w/ HSD EPS growth. Good for $MO",
                              " wait until people are fighting over food\"\" - the worst people are in charge at the worst possible time. #COVID19 #coronavirus #BorisJohnson #ToriesOut\"",
                              " wash your hands. https://t.co/GFQIk6Gr5x\"",
                              " water and toilet paper. Some consumers are also panic shopping for life insurance.\"\"",
                              " we are confronted by microbes and microchips: the infinitesimal enemy and the computer-programmed selling triggered by downward spirals in prices.\"\" https://t.co/JabAT70sD9 #coronavirus\"",
                              " we are in a freaking pandemic",
                              " we are monitoring the impact of #coronavirus on #online #consumer behaviors.\"\"",
                              " we are not seeing discretionary purchases taking place. We are seeing transactions which are focused on critical purchases. ",
                              " we can overcome fear and panic - and as a community",
                              " we can't live without you. [14 euro minimum wage.]\"\" https://t.co/fQBH8qPMVZ https://t.co/GIG09ldzKM\"",
                              " we expect the cannabis companies who can weather the storm today to continue on their rapid growth trajectories once the pandemic is under control.\"\" https://t.co/fqzZ1rynYT https://t.co/kqvHRuRbzJ\"",
                              " we have a petition\"",
                              " we have a testimonial of a grocery store worker.",
                              " we hope people's purchasing power remains stable\"\" - Riden Hatam Azis",
                              " we know best",
                              " we need a period of less business activity and less consumer demand.\"\" https://t.co/gGRtpkFeaX\"",
                              " we need to start thinking about what this will look like \"\"after.\"\" What changes do we need to make? How will our customers be different or buy differently? &gt;&gt; The consumer after COVID-19 https://t.co/Z5GIXJvJgL\"",
                              " we often let fear drive our purchase behavior. Here is an example re those needing gluten free items",
                              " we take a look at how the supply chains are changing in other parts of the world.",
                              " we think that this could negatively impact them and that they could become a whole new population of people living in poverty",
                              " we will come to the travel consumer\"\": https://t.co/uAffw42Hyh\"",
                              " we will get through this.\"\" ",
                              " we've recently seen an increase in people shopping online which has had an impact on how we serve our customers. So in the short term",
                              " we've sold enough #toiletpaper for every American to have their own roll\"\":  #coronavirus #stayhome #panicbuying #hoarding",
                              " weve come to see that theres a very specific kind of alcohol that pretty much everybody needs",
                              " what will we do to each other when we are short of food?\"\" - Coban Coban Burma (FB) #coronavirus #Quarantine\"",
                              " whats being left behind shows us what people just wont eat",
                              " where about half of all cannabis consumptions happens anyway.\"\" @forbes @melanie_warner",
                              " where drug prices typically are the highest in the world",
                              " where marijuana is not legal",
                              " where professionals across all levels and across Ireland are needed.\"\" Read; https://t.co/GGSkQ36tmq https://t.co/k2Y2zX39qC\"",
                              " whether thats direct-to-consumer",
                              " which could have a lasting effect on how people consume Hollywood entertainment\"\" https://t.co/iNk3gvUrQK\"",
                              " which had to be thrown out",
                              " which then converts every bottle into an active Liquidator\"",
                              " which will ultimately drive down demand",
                              " which would increase shortages and prices",
                              " while food service in Italy is virtually shut down",
                              " while the #coronavirus DOES come from China and its communist regime IS re\"",
                              " while there's some concern in #India over how low #shrimp prices could fall",
                              " while transactions are down -15% from last week due largely to abandoned shopping carts as result of fully booked delivery services.\"\" - @MarTechAdvisor ",
                              " while unemployment skyrockets and food pantries suffer. But solutions exist.",
                              " while workers in New York and Chicago say that Amazon isnt taking enough precautions as orders mount.\"\" ?? remember virus can survive 24 hours on cardboard. #COVID19 https://t.co/CYwrFW3FPE\"",
                              " whiskey &amp; #cosmetics to producing #medical supplies",
                              " who had died from #CoronaVirus. Now it started snowing. #Signs...listen to them!",
                              " why aren't there similar laws against hoarding",
                              " why aren't they listening to the stay at home advice\"\" ",
                              " why were the parks so crowded?\"",
                              " will continue offering online shopping\"\" https://t.co/znVBAKJ44E\"",
                              " wipe the door knob - go wash. It'\"",
                              " wise words via @morhafalachkar  @UWMedicine \"\"If you have two rolls of toilet paper or two containers of hand sanitizer",
                              " with #crudeoil prices down more than 60% this year. #oilpricewar https://t.co/qvKZNh0ocS\"",
                              " with a threefold increase in bonus for the next 12 months.\"\" #ukemplaw https://t.co/iWKyFzxfCS\"",
                              " with an emphasis on the Chinese administration",
                              " with a record 204 billion downloads in 2019 and $120 billion in consumer spending in 2019",
                              " with consumers trying new models",
                              " with even #ecommerce operations shutting down due to #coronavirus concerns",
                              " with hundreds more expected to close on Wednesday as the situation accelerates.\"\" https://t.co/1g5LytnTQX @RetailInsider_\"",
                              " with particularly aggressive cuts from countries hit hardest by the outbreak.\"\"",
                              " work from home",
                              " yet keeping all shops open  on original opening hours and not providing staff with proper PPE during a pandemic? Excellent display of employee loyalty. Not. #Disgrace\"",
                              " you are an absolute moron. It's simple",
                              " you know",
                              " you may have to pay higher fees ?",
                              " you must be quarantined at a designated center. #CoronaVirus\"",
                              " you should advertise. When times are bad you MUST advertise\"\".",
                              " you will find flies\"\". In this case its parasites - AKA #scammers https://t.co/dOx4Feq46P #scam #scamdemic #Phishing #CyberAware #securityawareness #cybersecurity #coronavirus #pandemic\"",
                              " you'll be able to offer the right solutions.",
                              "\"\" \"\"pharmacy",
                              "\"\" @Citi strategists say. However the speed of this decline is unprecedented &amp; may not reverse until #coronavirus peaks in US. https://t.co/gfatOf0sMr https://t.co/LXudOMMlXA\"",
                              "\"\" @PNCBank's chief economist @GusFaucherPNC",
                              "\"\" @RapidanEnergy's Bob McNally discusses the new OPEC+ agreement",
                              "\"\" Allen McBroom shares how his music store is adapting to the COVID-19 crisis and the new normal of retail shutdowns and social distancing https://t.co/U5t0F8TPrX https://t.co/ZJqgkFFmqx\"",
                              "\"\" Beri said. \"\"For them",
                              "\"\" Birx said. \"\"This is the moment to not be going to the grocery store",
                              "\"\" Farnworth reassures British Columbians. State of emergency gives the province the power to ration supplies if needed",
                              "\"\" Ford says of the gouging. We are coming after you.\"\"\"",
                              "\"\" Grubhub officials said in a statement Monday. https://t.co/ltueKpL5Pz\"",
                              "\"\" Sonny's Super Foods Store Manager Donald Glanz told @NewsChannelNE. \"\"We're going to have food here. People aren't going to starve to death.\"\" ",
                              "\"\" a virtual food drive with @ntfb. \"\"With thousands of people facing furloughs and layoffs",
                              "\"\" and added",
                              "\"\" and trying to find some \"\"medium ground.\"\" Very harmful for Russia. To get involved at \"\"appropriate time.\"\" #Trump #oil #coronavirus @anthonymace\"",
                              "\"\" as shoppers across the country empty supermarket shelves amid rising alarm over the rapid spread of the novel coronavirus",
                              "\"\" but people need to STOP discarding their gloves in supermarket parking lots and on the floors of some local post offices. #coronavirus\"",
                              "\"\" by Gary Schnitkey.  https://t.co/gu6B4XpqP4",
                              "\"\" driving #Bitcoin prices down over 40 percent.",
                              "\"\" grocery store CEO says https://t.co/FM5mJc7ftL\"",
                              "\"\" https://t.co/15hXYLlu0g",
                              "\"\" https://t.co/q4RrAiz8KZ",
                              "\"\" like cameras",
                              "\"\" recovering coronavirus survivor Lara Woolfson says. Woolfson contracted the virus after attending a medical conference in Boston in February. https://t.co/vfbvxe73Nz\"",
                              "\"\" said @DrAlexaMieses COVID-19 Infection Likely Worse for Vapers",
                              "\"\" said Independent Grocer Association president and CEO Josh Ross. #foodsupply #coronavirus #groceryshopping #consumers #grocers https://t.co/9C066pEdkN\"",
                              "\"\" said an FBI agent in the Newark office of coronavirus-related scams. https://t.co/qitYO7rFr9\"",
                              "\"\" says @Girotrak. \"\"Overall",
                              "\"\" says @RaminToloui",
                              "\"\" the food &amp; drink giant is ramping up hiring and offering more benefits to workers: https://t.co/GJhr0qMlOg\"",
                              "\"\" the person filming the exchange said as the couple left the grocery store.\"\"",
                              "\"\" the statue capturing the face of our economy now. And",
                              "\"\" w/earnings hit much harder in developed markets than EM: UBS Global Wealth Management's Claudia Panseri . \"\"We also expect dividends to be hurt as companies focus on balance sheet and cash preservation.\"\" https://t.co/ICxLRTQzIW\"",
                              "\"\" what comes to mind is an active shooter on the loose.  This COVID-19 reference just fuels uncertainty.  What can I do?  Where can I go? Did that trip to the grocery store infect me?  I despise you @realDonal\"",
                              "\"\" writes @BessLevin https://t.co/5w99jYd4hm\"",
                              "\"\" writes @marcscribner.",
                              "#coronavirustip\"",
                              "000 employees in the U.S. to meet the surge in demand from online shopping amid the #coronavirus outbreak",
                              "000 on Sunday.\"\" https://t.co/uVO77Wte9v #COVID19 #Amazon\"",
                              "000 people who are going to die because you only sent 400 ventilators.\"\" https://t.co/oRJYqAZEa2\"",
                              "000 tests for COVID-19 to 13 states....",
                              "000 to help food banks in Greater Manchester meet increased demand from vulnerable people as a result of the coronavirus (COVID-19) pandemic ? \"\" via /r/MCFC \"",
                              "000 troops in Afghanistan; now hes making sure you dont run out of food during the #coronavirus crisis.\"\" @kgilsinan reports: https://t.co/uu5bI3pgxX\"",
                              "000 warehouse and delivery workers across the country to handle the online shopping surge caused by the COVID-19 outbreak.\"\" https://t.co/YIVTNWiCTA\"",
                              "000 workers to its fulfillment and delivery network to deal with a surge in online shopping",
                              "000 yuan a tonne means nearly 70% of the Chinese producers will be under water",
                              "000. @sto... https://t.co/Ug3LJcaHVP https://t.co/fB1q8lxfFu\"",
                              "500 new staff - and boost its home delivery service",
                              "900 in business\"",
                              "900 selling accounts in its U.S. store for... 'coronavirus-based #price gouging'\"\" https://t.co/yQPKnruHEl #consumer #consumerprotection #pricing #covid19 #pandemic #coronavirus https://t.co/kK4czdQvb9\"",
                              "@BobbyHeehaw",
                              "Bread",
                              "Social Distancing",
                              "apple sauce and gravy.",
                              "can I stock her up before lockdown comes then no food available",
                              "fulfillment centers",
                              "grocery store workers",
                              "it would be  as if they've saved all mankind\"\"",
                              "said DCP Surat",
                              " the government plan said. The plan warned of significant shortages for government",
                              " when I also received a letter today saying you're putting your prices up"
                            ]
                          }
                        },
                        "name": "label",
                        "nullable": false,
                        "type": "double"
                      }
                    ],
                    "type": "struct"
                  },
                  "tableIdentifier": null
                }
              ],
              "data": "<div class=\"ansiout\"></div>",
              "removedWidgets": [],
              "addedWidgets": {},
              "metadata": {},
              "type": "html",
              "arguments": {}
            }
          },
          "data": {
            "text/html": [
              "<style scoped>\n  .ansiout {\n    display: block;\n    unicode-bidi: embed;\n    white-space: pre-wrap;\n    word-wrap: break-word;\n    word-break: break-all;\n    font-family: \"Source Code Pro\", \"Menlo\", monospace;;\n    font-size: 13px;\n    color: #555;\n    margin-left: 4px;\n    line-height: 19px;\n  }\n</style>\n<div class=\"ansiout\"></div>"
            ]
          },
          "transient": null
        }
      ]
    },
    {
      "cell_type": "code",
      "metadata": {
        "application/vnd.databricks.v1+cell": {
          "title": "",
          "showTitle": false,
          "inputWidgets": {},
          "nuid": "35c04b76-bf4e-481b-a529-0dcf575abc59"
        },
        "id": "_yId60OJw-nN",
        "outputId": "6b59d7ee-5843-4379-d132-70c173ff6aae"
      },
      "source": [
        "df.show()"
      ],
      "execution_count": null,
      "outputs": [
        {
          "output_type": "display_data",
          "metadata": {
            "application/vnd.databricks.v1+output": {
              "datasetInfos": [],
              "data": "<div class=\"ansiout\">+----------+--------------------+------------------+-----+\n|   TweetAt|       OriginalTweet|         Sentiment|label|\n+----------+--------------------+------------------+-----+\n|16-03-2020|@MeNyrbie @Phil_G...|           Neutral|  2.0|\n|16-03-2020|advice Talk to yo...|          Positive|  0.0|\n|16-03-2020|Coronavirus Austr...|          Positive|  0.0|\n|16-03-2020|As news of the re...|          Positive|  0.0|\n|16-03-2020|&#34;Cashier at groce...|          Positive|  0.0|\n|16-03-2020|Due to COVID-19 o...|          Positive|  0.0|\n|16-03-2020|For corona preven...|          Negative|  1.0|\n|16-03-2020|All month there h...|           Neutral|  2.0|\n|16-03-2020|#horningsea is a ...|Extremely Positive|  3.0|\n|16-03-2020|ADARA Releases CO...|          Positive|  0.0|\n|16-03-2020|For those who are...|          Positive|  0.0|\n|16-03-2020|with 100  nations...|Extremely Negative|  4.0|\n|16-03-2020|@10DowningStreet ...|          Negative|  1.0|\n|16-03-2020|UK #consumer poll...|Extremely Positive|  3.0|\n|16-03-2020|In preparation fo...|          Negative|  1.0|\n|16-03-2020|This morning I te...|Extremely Negative|  4.0|\n|16-03-2020|There Is of in th...|          Negative|  1.0|\n|16-03-2020|Went to the super...|           Neutral|  2.0|\n|16-03-2020|Worried about the...|          Positive|  0.0|\n|16-03-2020|my wife works ret...|          Negative|  1.0|\n+----------+--------------------+------------------+-----+\nonly showing top 20 rows\n\n</div>",
              "removedWidgets": [],
              "addedWidgets": {},
              "metadata": {},
              "type": "html",
              "arguments": {}
            }
          },
          "data": {
            "text/html": [
              "<style scoped>\n  .ansiout {\n    display: block;\n    unicode-bidi: embed;\n    white-space: pre-wrap;\n    word-wrap: break-word;\n    word-break: break-all;\n    font-family: \"Source Code Pro\", \"Menlo\", monospace;;\n    font-size: 13px;\n    color: #555;\n    margin-left: 4px;\n    line-height: 19px;\n  }\n</style>\n<div class=\"ansiout\">+----------+--------------------+------------------+-----+\n   TweetAt|       OriginalTweet|         Sentiment|label|\n+----------+--------------------+------------------+-----+\n16-03-2020|@MeNyrbie @Phil_G...|           Neutral|  2.0|\n16-03-2020|advice Talk to yo...|          Positive|  0.0|\n16-03-2020|Coronavirus Austr...|          Positive|  0.0|\n16-03-2020|As news of the re...|          Positive|  0.0|\n16-03-2020|&#34;Cashier at groce...|          Positive|  0.0|\n16-03-2020|Due to COVID-19 o...|          Positive|  0.0|\n16-03-2020|For corona preven...|          Negative|  1.0|\n16-03-2020|All month there h...|           Neutral|  2.0|\n16-03-2020|#horningsea is a ...|Extremely Positive|  3.0|\n16-03-2020|ADARA Releases CO...|          Positive|  0.0|\n16-03-2020|For those who are...|          Positive|  0.0|\n16-03-2020|with 100  nations...|Extremely Negative|  4.0|\n16-03-2020|@10DowningStreet ...|          Negative|  1.0|\n16-03-2020|UK #consumer poll...|Extremely Positive|  3.0|\n16-03-2020|In preparation fo...|          Negative|  1.0|\n16-03-2020|This morning I te...|Extremely Negative|  4.0|\n16-03-2020|There Is of in th...|          Negative|  1.0|\n16-03-2020|Went to the super...|           Neutral|  2.0|\n16-03-2020|Worried about the...|          Positive|  0.0|\n16-03-2020|my wife works ret...|          Negative|  1.0|\n+----------+--------------------+------------------+-----+\nonly showing top 20 rows\n\n</div>"
            ]
          },
          "transient": null
        }
      ]
    },
    {
      "cell_type": "code",
      "metadata": {
        "application/vnd.databricks.v1+cell": {
          "title": "",
          "showTitle": false,
          "inputWidgets": {},
          "nuid": "0eb48bf6-d1ca-4de6-92f6-8a233c57dc7b"
        },
        "id": "-EpBVl0Ww-nN",
        "outputId": "d16e795b-7807-491d-9278-144a364ce608"
      },
      "source": [
        "### Positive = 0.0\n",
        "### Negative = 1.0\n",
        "### Neutral  = 2.0\n",
        "### Extermely Positive = 3.0\n",
        "### Extremely Negative = 4.0"
      ],
      "execution_count": null,
      "outputs": [
        {
          "output_type": "display_data",
          "metadata": {
            "application/vnd.databricks.v1+output": {
              "datasetInfos": [],
              "data": "<div class=\"ansiout\"></div>",
              "removedWidgets": [],
              "addedWidgets": {},
              "metadata": {},
              "type": "html",
              "arguments": {}
            }
          },
          "data": {
            "text/html": [
              "<style scoped>\n  .ansiout {\n    display: block;\n    unicode-bidi: embed;\n    white-space: pre-wrap;\n    word-wrap: break-word;\n    word-break: break-all;\n    font-family: \"Source Code Pro\", \"Menlo\", monospace;;\n    font-size: 13px;\n    color: #555;\n    margin-left: 4px;\n    line-height: 19px;\n  }\n</style>\n<div class=\"ansiout\"></div>"
            ]
          },
          "transient": null
        }
      ]
    },
    {
      "cell_type": "markdown",
      "metadata": {
        "application/vnd.databricks.v1+cell": {
          "title": "",
          "showTitle": false,
          "inputWidgets": {},
          "nuid": "b54c24c2-214e-43f1-83f5-469b6b69f4e8"
        },
        "id": "0-Lzf8fcw-nO"
      },
      "source": [
        "### Model"
      ]
    },
    {
      "cell_type": "code",
      "metadata": {
        "application/vnd.databricks.v1+cell": {
          "title": "",
          "showTitle": false,
          "inputWidgets": {},
          "nuid": "df7d0f02-c395-422e-b121-ad72512e5a08"
        },
        "id": "1rKqpJLUw-nO",
        "outputId": "3be026cd-4cc0-490c-b018-4372b64b2925"
      },
      "source": [
        "train,test = df.randomSplit([0.6,0.4])"
      ],
      "execution_count": null,
      "outputs": [
        {
          "output_type": "display_data",
          "metadata": {
            "application/vnd.databricks.v1+output": {
              "datasetInfos": [
                {
                  "name": "train",
                  "typeStr": "pyspark.sql.dataframe.DataFrame",
                  "schema": {
                    "fields": [
                      {
                        "metadata": {},
                        "name": "TweetAt",
                        "nullable": true,
                        "type": "string"
                      },
                      {
                        "metadata": {},
                        "name": "OriginalTweet",
                        "nullable": true,
                        "type": "string"
                      },
                      {
                        "metadata": {},
                        "name": "Sentiment",
                        "nullable": true,
                        "type": "string"
                      },
                      {
                        "metadata": {
                          "ml_attr": {
                            "name": "label",
                            "type": "nominal",
                            "vals": [
                              "Positive",
                              "Negative",
                              "Neutral",
                              "Extremely Positive",
                              "Extremely Negative",
                              "social distancing",
                              " N. Y. - April 10",
                              " Corona Virus",
                              " Stay with us",
                              " but we also need to change other activities that demand more and more forest land",
                              " delivery",
                              " ecological collapse",
                              " however",
                              " just \"\"selfish pigs who only think about themselves\"\".",
                              " not going to the pharmacy",
                              " of course",
                              " or click the links\"\" #AlwaysWatchingOutForYou",
                              " state governors say theyre now bidding against federal agencies and each other for scarce supplies",
                              " supermarket workers",
                              " \"\" Well covid-19...\"\"  She rolled her eyes and \"",
                              " \"\"1 lakh beds already prepared for COVID-19 testing.\"\" and \"\"India has enough medicine and food stock\"\"",
                              " \"\"We'll be https://t.co/e49zUcJV70\"",
                              " \"\"Who needs BlackFriday anyway with steep discounts to cream it when you got COVID?\"\" #GreedyBastards https://t.co/cz7v14RzzA\"",
                              " \"\"You stay at home for Us\"\". ",
                              " \"\"You'd better stock up!\"\"",
                              " #Boris. #coronavirus #blackmarket #spivs\"",
                              " #China stockpiled around 2.4 billion pieces of protective equipment",
                              " #Eurozone",
                              " #ImpactInvesting",
                              " #Newsnight. If people can't afford rising food prices",
                              " #QuaratineAndChill",
                              " #Trump is urging the cartel to do just that.\"\"",
                              " #covid19",
                              " #shoemaking",
                              " #virus",
                              " #wheat prices exploded",
                              " $AZO",
                              " &amp; others who are literally out there.",
                              " 'Im pretty sure I have it; Im going to the doctor now. I just have to stop at Whole Foods first.'\"\" #covid19 #coronavirus https://t.co/LWq4QokAbn\"",
                              " 1 USD pays for 5 (!) meals https://t.co/TIB7WXWRov\"",
                              " 13",
                              " 2019",
                              " 2020 - US &amp; Canadian Border Closure &amp; Economic Impact of Oil Prices\"\" on @Spreaker #borderclosure #brampton #caledon #coronavirus #covid_19 #mississauga #oilprices #peelregion #sauga960am #us_canada https://t.co/0anwAGDI1G\"",
                              " 2020 at 08:20AM #Coronavirus https://t.co/MnMM69d9u5\"",
                              " 2020.\"\" #coronavirus",
                              " 2nd wave",
                              " 4 weeks after COVID-19 began to spread",
                              " 6 ft apart STAY HOME\"",
                              " 7th Edition\"\" ",
                              " ???????? ????????? ?? YouTube ???? ?? ???? ??????? ????????? ???????. ??? ?????? ??????",
                              " @KatrinaAClarke reports #HamOnt #COVID19",
                              " @PtRightsAdvoc via @LasVegasSun ",
                              " @Sendiks and @AWGCorporate! #grocery #supermarket #covid19 #coronavirus #grocers #foodretail #retail https://t.co/FglsnPoj4k\"",
                              " AND WHAT THEY MEAN FOR MARKETERS\"\" @adage\"",
                              " Agencies Say\"\"; \"\"COVID-19 Pandemic",
                              " Amazon announced March 16 that it will open 100",
                              " April 7",
                              " April 9th",
                              " As Buffer Stock Has Enough Food Stored - CEO - Vimnewsgh\"\" https://t.co/HKDf8E98au\"",
                              " Ashley Young shares Covid-19 advice - https://t.co/7RojE92CdG https://t.co/8xPGp9fbag\"",
                              " BESCOM works 24*7 to ensure uniterrupted electricity. During COVID-19 pandemic",
                              " Bakery etc. This isour \"\"Islamic Republic of Pakistan\"\". Shameful moment for #PTI government #Covid_19\"",
                              " Big Tech could benefit from changes in consumer habits.\"\" https://t.co/ZHO48KP0LI GATE is here to provide you with the tech-saavy staff that you need to keep your business successful",
                              " CDC recommends wearing cloth face coverings to slow spread of #COVID19 in public settings where other social distancing measures are difficult to maintain (e.g.",
                              " COVID-19 related disruptions such as travel and movement restrictions have caused artisanal gold supply chains to collapse",
                              " Chairman &amp; CEO",
                              " Corps like @Boeing @united @trumphotels etc",
                              " Costco and Target fell for the first time in weeks as coronavirus stockpiling behavior shifts\"\" #coronavirus #COVID19",
                              " D2C #ecommerce sales reached $14.28 billion in US. Per forecast 2020 sales will grow by 24.3%",
                              " Devastating\"\" https://t.co/HjVwbTAd1P @ClimateNexus @nytimes #oilcompanies #prices #coronavirus #oilandgas #budgets #gasoline #diesel #jetfuel #pipeline #crudeoil #pipeline #storagetanks #frackingcrews https://t.co/FkIl0IWOyF\"",
                              " Even as Food Demand Skyrockets",
                              " France",
                              " Hand Sanitizer",
                              " I am regretting tht shit ):",
                              " I am sure that they will not get to work in the office..\"\"",
                              " I drove out to the farm Ive supported through a CSA program the past few years. I wanted to stock the fridge as calls for social distancing were ramping up due to COVID-19...\"\"",
                              " I presume that you won't jack up prices.\"",
                              " I'm currently more concerned about the people panic buying and the rest of us being unable to access food than I am about catching the actual virus.\"",
                              " I'm happy to help you with it at a factory price. https://t.co/kaSBHka0V3\"",
                              " IFB vice president: https://t.co/oe6lKTyjku https://t.co/YW7KJMEHPC\"",
                              " Im sure you have been touched by the videos of people applauding #healthworkers from their balconies",
                              " Jordan",
                              " Jubilee Orchards",
                              " M.D.",
                              " Mohamed Kaahin. https://t.co/pCQa3fK9ru\"",
                              " Mumbai or Pune",
                              " N. Y. - March 20",
                              " N.Y. Hospital Converts Sleep Apnea Machines Into Ventilators\"\"",
                              " Nenshi says: public health impact of COVID-19",
                              " New Jerseys biggest health-care network",
                              " No Service\"\" policies in place",
                              " No!",
                              " Phillips66 and former Continental CEO Harold Hamm.\"",
                              " Pick-Up",
                              " Rattles Producers\"\" https://t.co/wu24I1SsBI @SuccessfulFarm #chicken #stockpile #food #quarantine #Covid_19 #restaurants #supermarket #StayAtHomeOrder #foodprices #globaleconomy #virus #pandemic #diet\"",
                              " San Pedro City",
                              " Spain",
                              " Stay Home-Be Safe\"\"",
                              " Sub-Saharan Africa Consumer Research Analyst  ",
                              " Teachers",
                              " Thank You for your services. Everyone is sitting at home and #coronavirus #UKLockdownNow #COVID19 .\"",
                              " Totino's would like all of our customers to know that since half of America will not leave the house for weeks during this covid-19 crisis",
                              " Utilities etc\"",
                              " VP",
                              " Va. -- home of @realdonaldtrump's Virginia golf club.",
                              " Vaccines and Treatments\"\" https://t.co/upvPXU8IEa\"",
                              " Vaccines and Treatments\"\": Because #COVID19 has never been seen in humans before",
                              " Woodstock sanctuary",
                              " [food bank] demand has quintupled this season. Almost half of Rapaports customers are new",
                              " a Coronavirus Companion\"\"",
                              " a complex web of interactions involving farmers",
                              " a consumer-driven global recession could be the next threat posed by the pandemic",
                              " a manager at the market tells me. ",
                              " a new at-home interactive food experience in Los Angeles that has been designed specifically for this current COVID-19 quarantine life. \"\" Strange times demand strange pizza. Sign me up!  https://t.co/UjhdRLTYaK\"",
                              " a new dawn of supermarket #logistics is at hand. After 40 years of just-in-time delivery model",
                              " a new dawn of supermarket logistics is at hand. Old rivals are going to have to (...) kickstart a new system that involves working together to keep the country fed.\"\" reports @WiredUK",
                              " a reminder that we're seeing signs that the opposite is actually happening. https://t.co/9Dt6EQ6FU2\"",
                              " a salesperson from @abt facetimed us and sold us new appliances. @salesfloor is now offering its tech stack to do this at scale for free. Great way to keep retail associates productive! https://t.co/v145JN3EGm\"",
                              " a stock market nose-dive",
                              " according to various reports",
                              " acts of #kindness during the #coronavirus #pandemic are providing #uplifting moments of #joy in a #UnitedStates beset by #anxiety.\"\" https://t.co/RefLNn8cL0\"",
                              " after 2 weeks of extreme isolation new case numbers/day should \"",
                              " after panic-buying amid the #coronavirus outbreak",
                              " again",
                              " against the advice of Canadian officials. https://t.co/n0yw9aKJ55\"",
                              " all skyrocket in use",
                              " along with a comprehensive benefits package. ",
                              " along with a pair of sunglasses. I'm sure I looked creepy",
                              " also vowing to roll back all Trump administration regulations and executive orders that harm the environment and \"",
                              " and @lloydblankfein arguing that stock prices are more important than ~1M American lives.\"",
                              " and Attorney General Paxton advises all Texans to be on alert for electronic communications with dangerous attachments or fraudulent website links.\"\" #txlege #COVID19",
                              " and consider if you really do need a delivery",
                              " and consumer discretionary spending will be WAY down. @JimCramer\"",
                              " and could shape consumer sentiment and future policy decisions.\"\" #OWHealth https://t.co/vPgoT6CWjl\"",
                              " and fairer.",
                              " and fairer. They are immune to oil prices",
                              " and generally just being damned selfish!!! #coronavirus #SelfIsolation #Hoarding #BeKind https://t.co/zUu4XGvqY6\"",
                              " and government impostor scams are all on the rise.",
                              " and imagine someone blowing mouth water onto your face like these two staffs at the grocery store did.   #Covid_19\"",
                              " and lynx's doorstep visit delights social media users. https://t.co/ZqetoX6Xrs\"",
                              " and not through choice. so please self isolate in our place",
                              " and now food banks all across the country are facing a great demand.\"\" @RobinRoberts",
                              " and once the crisis is over",
                              " and things are never going to go back to the way they were\"\"",
                              " and those who are more concerned with having fun shopping are t\"",
                              " and tried to sell me their CD. This is PEAK WTF level for me.",
                              " and what does that mean for broader consumer behavior?\"\"",
                              " and what they mean for marketers\"\"",
                              " and yesterday oil prices fell to their lowest level since 2002 in a sign of the deep distress our economy is facing.\"\"",
                              " and you're not even an American!\"\"\"",
                              " announced ...click on image to read on...pls retweet :-) https://t.co/RhSMXTfX9C\"",
                              " anti-government protests",
                              " apparently that's all you need to ensure your death",
                              " appliances",
                              " appreciate that President Conte puts his face;  use time at home to contemplate and reflect on the really important things!\"\" F 37",
                              " arrested for licking food items in a supermarket and posting video of it.",
                              " as COVID-19 forces food assistance organizations to manage dwindling inventories",
                              " as U.S. companies and government officials seek a smooth-flowing food-supply chain without causing panic over potential shortages and worker safety.\"\"",
                              " as businesses across the nation face disruptions amid the ongoing #lockdown",
                              " as lower oil prices and a dip in economic activity amid the #coronavirus pandemic more than offset upward pressure from the liras depreciation.\"\" @cagankoc's @economics report:",
                              " as of late March",
                              " as the restaurant and food service demand crumbled rapidly due to COVID-19. ( Ben Butler",
                              " as the world grapples with Coronavirus contagion. I'm not saying we should mercilessly beat people who do this but....yeah. #coronavirus https://t.co/MfmVeBoe3R\"",
                              " as we follow guidelines...\"\" HELP",
                              " as well as posting online! #COVID2019 #EssentialWorkers\"",
                              " at prices that dont already reflect the possibility of a bailout.\"\" https://t.co/2FDfj5qV6T\"",
                              " avoid pubs",
                              " bank managers. The list is endless.",
                              " be #healthy &amp; #immune",
                              " be a man. Use your hand\"\"  If you don't know",
                              " be more hygenic in times of #coronavirus This is Unacceptable",
                              " be safe out there people!! #cribdelacurse #universe #transforming #coronavirus #corvid19 #besafeeveryone #sanitizer #mask #roland https://t.co/KRInBVhPK0\"",
                              " because almost everywhere other utilities",
                              " before assuring Australians the country has food security. https://t.co/UKKl1qzpkQ\"",
                              " between each #tenant and their respective #landlord. But whttps://t.co/M9irxZEghg https://t.co/idnyot1thv\"",
                              " bev &amp; consumer packaged goods are exempted from the gathering &amp; curfew bans that are starting to take effect. https://t.co/pxjldZ9oSh https://t.co/rNO2Va9NBp\"",
                              " billdesk",
                              " bizarrely it had no filters on it",
                              " blaming #coronavirus on USA and Italy",
                              " bus drivers",
                              " business relief",
                              " but 32% are shifting to completely buying online rather than shopping in physical stores\"\"",
                              " but I'm on one today and every day hereafter when it comes to anything even tangentially related to #COVID19/#Coronavirus. If I see you selling disinfecting wipes/sprays",
                              " but also by environmental",
                              " but also on its ability to forge a seamless connection between millions of individuals and #Amazon.\"\"",
                              " but also to the interests of others.\"\" -Philippians 2:4",
                              " but as Keynes pointed out this would be socially unjust. The correct alternative would be higher taxes on wealth and incomes\"\" @RSkidelsky https://t.co/6cXSk11iul via @prospect_uk\"",
                              " but because it was the only thing in abundance. #COVID2019 #TotinosAreLifeNow\"",
                              " but for a limited time! For every merch sold",
                              " but if stores had doubled the price of #toiletpaper early on",
                              " but in the supermarket this morning",
                              " but instead of brick",
                              " but masks aren't available to them",
                              " but not any of the\"",
                              " but not vulnerable countries: the pandemic poses a serious threat to food security at the local level.\"\" Read more here: https://t.co/ykY4CuGdoZ https://t.co/wh6IFGXl7z\"",
                              " but orders from food-service operators fell.\"\" https://t.co/I96mBOfdZ8 @BurnabyNOW_News\"",
                              " but sad\"\" story: the average #onlineshopping conversion rate has",
                              " but some are calling on the network to cut wholesale prices. https://t.co/T2rcs18ML4 h/t LightReading\"",
                              " but the company cannot control the prices dealers or retailers charge for 3M respirators.\"\" https://t.co/AGlPcRqw40\"",
                              " but there is no need to stockpile at this point.\"\" #COVID19 #Coronavirus\"",
                              " but theres no need to hoard products or panic about food during this coronavirus (COVID-19) pandemic.\"\" https://t.co/CHgEIYRyfh @AgWebEditor #COVID19\"",
                              " but theyre already reporting changes in their income",
                              " but very few were able to predict consumers would want their own safety stock. https://t.co/9htwkj9DNi\"",
                              " but wanted to highlight some major ones: https://t.co/1whYfIal70\"",
                              " but we are happy to help",
                              " but we have to acknowledge life is weird right now. That from a place where life is still relatively unchanged thus far.  #Covid_19\"",
                              " but weve certainly flattened the economy.\"\" https://t.co/YF0GnOZHJ5\"",
                              " but you still need to eat. @amandamull untangles the physical and moral hazards of ordering takeout or going to the grocery store during a pandemic.\"\" https://t.co/ke8c4iKD0j #coronavirus\"",
                              " but\"",
                              " buy and hoard masks that are most appropriately used and necessary for the front-line health care workers who do need it for the clear and present danger\"\" they face.",
                              " cash-points",
                              " claiming the news station",
                              " cleaned",
                              " closed the borders",
                              " co-owner says\"\"",
                              " cold beaches and toilet paper: COVID-19 and sudden",
                              " come gather round friends",
                              " companies strategies will need to focus on fortifying their web presence and",
                              " connected global city\"\" shows @GladysB doesn't understand that the #coronavirus and its future versions have just changed the world. Not to mention that low oil prices will trigger another oil crisis\"",
                              " consume media and how they regard the brands they do business with.\"\" Find out how here: https://t.co/4hEUjUNJtY https://t.co/h4xtvzePI5\"",
                              " consumed more",
                              " consumer and more. Please RT!",
                              " consumer behavior turns out to be remarkably unaccommodating to civilizing tendencies.\"\" -Benjamin Barber",
                              " consumer capitalism and #coronavirus\"",
                              " consumer spending in grocery stores surged dramatically",
                              " containing chloroquine phosphate",
                              " counterintuitively falling as the #coronavirus economic hit has become horribly apparent.  A rebound is now afoot. Get your market update from DavidCottleFX here:  https://t.co/1xgeIF2vrq\"\"\"",
                              " creating more trouble for Calgary landlords already struggling with huge vacancy rates.\"\" https://t.co/Ilq1wqn0bF #CRE @westerninvestor\"",
                              " cruise",
                              " custodial staff",
                              " despite #coronavirus impact\"\"  Consumer sector businesses  say they will maintain previously planned investments  at 46%  and 8% saying they would increase planned investments https://t.co/gGh3HCy7jH\"",
                              " die from hunger.854 million people worldwide are estimated to be undernourished",
                              " dir. of L.A. County Dept of Public Health. https://t.co/lFFIgWuTYk\"",
                              " disinfectants &amp; other products needed to combat the spread of the #coronavirus are being exacerbated by the Trump admin's tariffs on Chinese imports",
                              " does it? #coronavirus #WuhanCoronaVirus #COVID?19\"",
                              " dramatically curtailing consumer demand.\"\"",
                              " e-commerce and away from brick and mortar",
                              " eat more meals at home and stockpile essentials",
                              " ensuring that low oil prices  [will] force all producers to [cut production].\"\"",
                              " especially #nurses #Doctors as I wore a #facemask to the grocery store and got anxiety just for wearing it for 1 hour.?",
                              " etc #coronavirus https://t.co/lqItAHT4vD\"",
                              " etc please contact Cheney Brothers at 478-250-3699. Office: 352-291-7800",
                              " etc.? #COVID2019\"",
                              " even among the best of times.",
                              " even if it means giving up on their own privacy in the process.\"\" https://t.co/24YkJ5HZMd\"",
                              " even now",
                              " everybody else had clothes on\"\" (@metalli445 and @PattyeLJ",
                              " expands its home delivery and creates an extra 3500 jobs.\"\"",
                              " experts in the food supply chain say the system is built to endure",
                              " experts say.",
                              " factories to run",
                              " falling 2.2% from the day before",
                              " farmers and ranchers are eager to work with the Agriculture Department to bridge the supply gap and get farm products to those in need...\"\"",
                              " fast food workers",
                              " financial markets were in an inherently unstable condition. Years of.. https://t.co/rofXLLBbwL\"",
                              " find them here: https://t.co/c6GYaMNdvM\"",
                              " firefighters etc.... ?",
                              " food prices",
                              " for elderly and vulnerable customers.\"\" #coronavirus #sainsburys https://t.co/UOQqrxTiPo\"",
                              " for example",
                              " for the purposes of collecting unemployment insurance",
                              " forcing the store to throw out an estimated $35",
                              " frailties that",
                              " fresh",
                              " giving the elderly and disabled a dedicated hour to shop amid the #Coronavirus pandemic",
                              " gloves",
                              " gloves bad",
                              " grocery store employees",
                              " grocery store shortages",
                              " grocery workers increasingly fear showing up at work https://t.co/FZf7zhCxYM\"",
                              " hand sanitiser and other products which never arrived.\"\" @FT https://t.co/IoSiiHH9II\"",
                              " handing you food",
                              " hang up! https://t.co/Y6WDfvweoW https://t.co/sXMyuMgVa7\"",
                              " har de her harrr...\"\" as they frantically try to restock products w/out getting trampled by greedy assholes in the process. Not even a little funny. Fuckers.",
                              " harvesting as many chickens as we can",
                              " have you got any paracetamol in still?\"\"",
                              " he used a voucher to get a discount... Absolutely disgusting! ",
                              " he'll bash #Coronavirus up.",
                              " here are some tips for protecting your devices and personal information.\"\" https://t.co/YwRLhoIfsM https://t.co/dxHBk3UCNu\"",
                              " hereby",
                              " higher for other plays. Halliburton reportedly said low oil prices would lead to 2/3 of rigs gone by Q4. US oil sb in good decline when COVID-19 eases #OOTT https://t.co/Ob44oCvWw1\"",
                              " hotels...)",
                              " how salty could it be?\"\"",
                              " however you're putting yourself at risk just by ordering outside food.\"",
                              " https://t.co/bYJirZ1OZ7 #intermarkgroup #psychologymarketing #covid19\"",
                              " humans and other animals can have an increased drive toward hoarding behaviors.  However",
                              " hunger relief organizations",
                              " if people get exposed to the virus in supermarket queues today! So please keep distance ?",
                              " in a survey of 1068 Americans",
                              " in particular",
                              " in these times when so many people are worried about the security of our food supply",
                              " in this case it appears to have strengthened them.\"\"",
                              " including because of \"\"massive suicides",
                              " including comfy bras",
                              " including farmers markets",
                              " including isopropyl alcohol",
                              " including loan guarantees\"\"",
                              " including medicines.",
                              " including trips to the grocery store. What was previously a mundane task has turned into a nerve-wracking ordeal that b\"",
                              " increased demand long way off. @LSUResearch @LSUNews #oilandgas #coronavirus https://t.co/22ZNy1ShxW\"",
                              " instead of shopping online",
                              " investment bankers have been candid on investor calls and during health care conferences about the opportunity to raise drug prices.\"\" #coronavirus",
                              " it gave us a chance to slowly do our shop.\"\"",
                              " it is very respectful to me as a consumer. #MaddensMethods\"",
                              " it proved to be the worshttps://t.co/KpWd5TWoVu\"",
                              " it was an administrative error\"\" Pure BS!\"",
                              " it was possible to at least wishfully imagine that grocery stores were somehow immune to the virus. Now the risk has become even more apparent: Yes",
                              " it's a little vial bottle with drops.",
                              " it's going to kill people.\"\"",
                              " it's important to note that @auspost Post is still operational... you'll still be able to send and receive domestic parcels and mail",
                              " it's never gonna happen",
                              " it's the beginning of the end for #fracking\"\"",
                              " its good for our customers as we can deliver within hours ",
                              " just keeping track.\"\"",
                              " just want to say thank you. Thank you to everyone specially the driver! ? #Covid_19\"",
                              " keeping specialists away from infected patients when applicable.\"\" https://t.co/Aysl3AR06o InteliChart is offering telehealth services at no cost through July 31. https://t.co/tcd4xn86iQ #telehealth #COVID19 #coronavirus https://t.co/nIJSP4PLcu\"",
                              " keeping them open is important.\"\"",
                              " kindness..",
                              " led by economist Jack Mintz",
                              " let's not hoard. Consider dropping food at the local Food Bank; the poor can't afford to stock up. There CAN be love in the time of COVID-19.\"\"",
                              " levels of sustained",
                              " like",
                              " like after 9/11. That's ok because change is constant....and sometimes good. #covidchange #postcovidworld #newnormal The consumer after COVID-19 https://t.co/k7XMRYovmk via @marketingdive\"",
                              " like ocean freight to keep costs down. But bc of ??demand",
                              " linked to at the top of the retweeted article",
                              " listen to the doctors and even then",
                              " lol...\"",
                              " lorry drivers",
                              " major retailers and experts say",
                              " major retailers and experts say. https://t.co/ThpOJ1znVd https://t.co/ZMlp4WDSmN\"",
                              " major retailers and experts say.\"\" https://t.co/0pNxcGVWvi\"",
                              " mama mboga",
                              " managed to get nothing I wanted. People need to stop this ridiculous panic buying! Some of us have to still work which gives us no time to shop! This country is a joke! #coronavirus\"",
                              " managing director at Mizuho Securities",
                              " many are striking and joining sick-outs to demand better conditions and pay. @thecut has more: https://t.co/6vjpRmUtZl https://t.co/nVWVKkUprP\"",
                              " many observers hold that normal consumer behavior will promptly reassert itself",
                              " masks",
                              " masks are still being listed! #PriceGouging #Hoarding #COVIDIOTS #COVID19 #coronavirus https://t.co/RaEbR6V6mg\"",
                              " meaningful connection between a brand and a consumer. #InfluencerMarketing helps reinforce this bond because people really buy into people's stories",
                              " mechanics etc still out there too!",
                              " medics cannot do miracles.  Going to supermarket - coughing on the handle of a trolley",
                              " meditation",
                              " milk and paper items are taking off the racks as quick as they are restocked after the interest for staple things flooded since the World Health Organization (WHO)  https://t.co/0BY8vLhET6\"\"\"",
                              " milk powder gone\"\"",
                              " more people will move out of their houses and crowd shops",
                              " need urgent help - please keep price stable while peoples are staying at home to confront #coronavirus challenge. https://t.co/7owfqSpEmw\"",
                              " needed medical supplies",
                              " neither will milk.\"\"",
                              " no flour. At least In 1 supermarket",
                              " no respect for social distancing or the law. Wales is closed. You are endangering local residents. #StayHomeSaveLives\"",
                              " no will to draw\"",
                              " normalcy pre-and-post coronavirus will be different.\"\"",
                              " not Church.",
                              " not even grocery stores can keep up the facade of normalcy. As many health experts have feared",
                              " not going to sit at home whilst my wife works saving lives in this crisis\"\" rather than \"\"working in a supermarket is shameful\"\"\"",
                              " not leave it to grocery store \"",
                              " now he needs our help fighting Corona",
                              " now that the economy dumped and supermarkets/online retailers can't keep up with demand. Fruit/veg plants/seeds sales are through the roof as everyone plans to grow their own food. #coronavirus #COVID2019 https://t.co/rZXfpl5i0g\"",
                              " nurses",
                              " oil prices fall",
                              " on a per capita basis",
                              " one thing is clear: stockpiling is not an option for the economically vulnerable.\"\" @amyvhaddad  #COVID19 #COVIDaus #stockpiling https://t.co/ZpKRzNty0A https://t.co/LfAaeA2PDB\"",
                              " online education",
                              " online retailers are leveraging the cost-effective value of #AffiliateMarketing ever more to help reach todays consumer and fuel online revenue growth.\"\" https://t.co/zKuKIRDCjf @LinkConnector https://t.co/UMXi0pc3Lf\"",
                              " only a few preliminary conclusions can be cautiously advanced. Firstly",
                              " openings due to COVID-19\"\" https://t.co/DDoUT6Qdpf #Supermarketnews\"",
                              " or a range bc wait times are up #COVID19nz\"",
                              " or as normal as we'll be after this",
                              " or companies will have to figure out new ways to move things around.\"\" https://t.co/jlZXZyvn9O #coronavirus\"",
                              " or give me death!\"\" speech.",
                              " or grocery store",
                              " our bank tellers",
                              " our cars",
                              " our forecast of annual growth in dividends is down 28% in the US and 25% in the EU",
                              " our incredible store teams are exhausted and co\"",
                              " our prices are now...\"\" notices. After the \"\"welcome back\"\" specials",
                              " overwhelming majority of customers were buying a few extra items because they and their families must now eat every meal at home.\"\" NickCohen #coronavirus @mrjamesob\"",
                              " pangolin sales falter with Covid-19\"\"",
                              " pants and jocks that I was wearing on that particular day.\"\" #YouCantAskThat - Tonight 9pm. https://t.co/o58GSj7xqY\"",
                              " particularly for emergency pantry items and health supplies\"\"",
                              " pasta",
                              " pay for childcare and stock up on food.\"\"  https://t.co/VSJA1hp6RF\"",
                              " pay with cash and pack bags over the top of you. #coronavirusuk #Covid_19 https://t.co/JqVzmUC3Fy\"",
                              " people that I talk to now have a completely different opinion on what things were two weeks ago.\"\" https://t.co/F29DCCpWgm\"",
                              " pharmacy",
                              " physical spaces",
                              " pills",
                              " please don't toss them in the supermarket parking lots. Some poor kid has to pick them up! https://t.co/cCLVIlTCDe\"",
                              " please refrain from entering the store\"\"",
                              " please remember that if you are loading up on processed foods during this time",
                              " please save them from this COVID-19. Please sustain them and let them feel your comfort and love ??\"",
                              " please take pics or video and make them famous. Let's see how many use them after the crisis has passed. #pricegougers #pricegouging #pricerises #CoronaCrisis #CoronavirusPandemic #Covid_19 https://t.co/IukgDamLFO\"",
                              " police officers",
                              " potatoes &amp; vegetables??",
                              " prices may drop far below where they were before. #coronavirus\"",
                              " public gatherings limit of 10",
                              " pushing my cart down a row of refrigerators in the dairy section",
                              " putting all grocery workers at great risk? @OutnumberedOT\"",
                              " queues",
                              " racism",
                              " re-engage your customers in meaningful ways rather than pushing products.\"",
                              " recession",
                              " reduces operations in S.A. due to #Covid_19 https://t.co/0BFEsLmltQ https://t.co/NQOUJjKkd3\"",
                              " reduces operations in S.A. due to #Covid_19 \"",
                              " refuses to close despite government orders in the wake of coronavirus: https://t.co/3l9ITqzzEn #Gamestop #coronavirus https://t.co/kAHJ7ZwaWc\"",
                              " remember: Rupert Murdoch produces a wide range...\"\"",
                              " rising real estate prices in urban clusters &amp; visa restrictions in a de-globalising world may all make remote collaboration more valuable than ever",
                              " rolled up the window and bounced. She's \"",
                              " sanitizing intensive care units",
                              " says authors who spoke out \"\"should know better\"\" https://t.co/zMYoDo3BnV\"",
                              " says that as a result of covid-19 his company has brought forward by several years the time when it expects the share of shopping done online in Britain to double from its current 20% already among the highest in the world\"\" https://t.co/UgcjI0EU7m\"",
                              " scammers are preying on your fears. Canadians are being warned to be careful of the scams that are circulating. Read more here: https://t.co/kEynPu36XZ\"",
                              " school staff and delivery drivers.\"\" ",
                              " short supplies",
                              " shrinking habitat",
                              " similar to what CCAs are offering in CA https://t.co/OlHkyldwqH @ebce_ceo\"",
                              " sir.\"\"",
                              " smile as she loads multiple boxes of toilet paper and paper towels after buying out the entire local 'Dollar Tree' store so that no one else can buy any.",
                              " so",
                              " so I am happy we are able to help out in this way",
                              " so do the scams associated with it.\"\"  they have listed 6 recommendations to follow.",
                              " so doesn't understand all the fuss! Cognitive dissonance is real",
                              " so supermarkets keep operating",
                              " so the de\"",
                              " so there'll be a lot of online shopping I assume! #coronavirus\"",
                              " so would be any other consumer goods company that produces cleaning and sanitary products which was earlier a \"\"kind of\"\" commodity market. #coronavirus\"",
                              " some 6 million barrels per day of \"\"homeless crude\"\" might literally have nowhere to go.\"\" Repeat: ENGINEERED ECONOMIC CRASH.",
                              " soon",
                              " sources said on Thursday. ",
                              " spirits",
                              " spot the scams\"\" https://t.co/UvLZ9lOO0v #FTC #scams #coronavirus\"",
                              " staff our hospitals",
                              " starting 3 weeks ago",
                              " state governors say they're now bidding against federal agencies and each other for scarce supplies",
                              " stock food and supplies",
                              " stockroom staff",
                              " stocks will rebound but fr 20%-30% below current prices. Like 2008...investors...slow to return...stocks may well underperform as high P/E ratios...normalize",
                              " subsidy is an elitist thing because it is the elites that benefit. They are the ones that have SUVs",
                              " such as distillery making hand sanitizer",
                              " such as shops",
                              " supermarket staff",
                              " supermarket workers -",
                              " supermarket workers and delivery riders are among the unsung heroes of this crisis  frequently unprotected",
                              " switch places with me. #COVID19 #coronavirus #StayHome\"",
                              " teachers",
                              " teachers and grocery store attendants.",
                              " terminals were shuttered",
                              " tests",
                              " than with @realDonaldTrump under the #CoronaVirus threat.",
                              " that are currently doing all the panic buying and hoarding of goods. People on benefits can barely afford the essentials let alone hoard food and toilet rolls",
                              " that online shopping/grocery delivery would become easier &amp; faster",
                              " thats why someone still trying to go to work. Realizing not all can have at least one week of food stock. Hoping covid-19 will leave our country...\"",
                              " the COVID-19 pandemic creates an obligation for payers to offer people  customers",
                              " the Morning Consult Index of Consumer Sentiment (ICS) is at 89.41",
                              " the UK property market is very robust",
                              " the benchmark crude price for tar-sands producers",
                              " the company producing remdesivir",
                              " the economy is basically the stock market. Hes obsessed with it",
                              " the fall in oil and stock prices has widened bond spreads and put pressure on the Naira.\"\"",
                              " the first step in that direction would be seeing sellers drop their listing prices. 'That hasn't happened.' \"\" https://t.co/EpIzl5CZsh\"",
                              " the gas store workers",
                              " the largest food retailer in #SouthAfrica with a R150.4 billion turnover &amp; a 30% market share",
                              " the man in charge of coronavirus-proofing Walmart stores in Canada. Though dressed like a store clerk",
                              " the more lives were saved.\"\" Great read via @NPR ?? https://t.co/0QcNWNSwgm\"",
                              " the ones who have currently lost their jobs",
                              " the panic may wane even more.\"",
                              " the price of food and other supplies has doubled in Kabul markets over the past 24 hours\"\" #COVID2019 ",
                              " the social distancing and deprivation is really intense. We will all be craving a bit of entertainment",
                              " the style of Covid-19 Mortality presentation reminds of the awful football results program on Saturday afternoons in the 1970s. In a house await... https://t.co/QW9tLG3a3j\"",
                              " the system collapses...\"\"",
                              " the virus that causes COVID-19",
                              " the week seems to go on forever",
                              " the world will be changed. Crisis-buying patterns will spark permanent changes in consumer behavior. The work you do now will lay the foundation for ongoing success on the other side. \"\"",
                              " then another copy of \"\"Contagion\"\" and moved it to the top",
                              " then the image of an empty shelf is the exception",
                              " then there will be no such expected recovery. consumer consumption may spike",
                              " then youre going to think that theres no food available. Ive seen a lot of that imagery when really thats not indicative of the actual availability of food.\"\"  @aubsn ",
                              " there are a lot of people who are working overtime to meet the needs of their communities.\"\" @AjitPaiFCC https://t.co/WEp57Pf19a #coronavirus\"",
                              " there are smart steps to take to keep your baby healthy and fed.\"\"",
                              " there is a good chance that inflation will be negative for a period of time this year",
                              " there is enough food.\"\" ",
                              " there's plenty for everyone and please BACK OFF!! 2 metre rule ?\"\" #SocialDistancing #CoronaCrisis please don't #panicbuy and there would be enough to go round\"",
                              " thermometers and baby formula despite crackdown\"\"",
                              " they are saying police didn't allow us to open.  They said \"\"We will give u particular time to open\"\"  just think of Rush of people at that time..(1/\"",
                              " they have potatoes now! That's a good meal right there!\"\" ",
                              " they should add \"\"moronic attacks\"\". https://t.co/Efyg77aw6L\"",
                              " theyre also buying their fair share of alcohol. Sales at liquor stores are up  amid the COVID-19 pandemic.\"\"",
                              " this Email is to assure you that we are looking after you during the #coronavirus pandemic. By no longer accepting returns",
                              " this could trigger the decision to purchase more product upfront. ",
                              " this is nothing to do w/ socialism and everything to do with panic",
                              " those retail business without the right treatment will not survive.\"\"",
                              " those who have lost their jobs due to all the shutdowns\"",
                              " though also quietly sad.\"\" https://t.co/DXwKJt0Q5G\"",
                              " to bars and restaurants",
                              " to move to online/remote learning. But children of essential workers will still be able to go to school",
                              " to protect each other",
                              " to the supermarket",
                              " to work",
                              " toilet paper and other items are in demand because of COVID-19...The Consumer Protection Act prevents businesses from grossly raising prices with no explanation beyond what is reasonable and available elsewhere.\"\" https://t.co/mkWNO9JmqQ\"",
                              " transportation",
                              " travel",
                              " truck drivers",
                              " tubers",
                              " unprecedented backdrop",
                              " upcoming stress from collapsing demand will reflect economics of \"\"sudden stops\"\"",
                              " upset about the inconvenience of the new rules or angry about a missing product or a long wait to get in.\"\"",
                              " utility techs",
                              " veterinary medicines could affect agricultural production. Closures of restaurants and less frequent grocery shopping [will likely] diminish demand for fresh produce and fisheries products",
                              " vicious and uncaring\"\" way.\"",
                              " viewings",
                              " views of meditation-related videos are 51% higher than the same period in 2019",
                              " vigilantes and police filter migrants' entrance to the supermarket because of #coronavirus\"\".",
                              " visors",
                              " volunteers abandoning charities to practice social distancing",
                              " w/ HSD EPS growth. Good for $MO",
                              " wait until people are fighting over food\"\" - the worst people are in charge at the worst possible time. #COVID19 #coronavirus #BorisJohnson #ToriesOut\"",
                              " wash your hands. https://t.co/GFQIk6Gr5x\"",
                              " water and toilet paper. Some consumers are also panic shopping for life insurance.\"\"",
                              " we are confronted by microbes and microchips: the infinitesimal enemy and the computer-programmed selling triggered by downward spirals in prices.\"\" https://t.co/JabAT70sD9 #coronavirus\"",
                              " we are in a freaking pandemic",
                              " we are monitoring the impact of #coronavirus on #online #consumer behaviors.\"\"",
                              " we are not seeing discretionary purchases taking place. We are seeing transactions which are focused on critical purchases. ",
                              " we can overcome fear and panic - and as a community",
                              " we can't live without you. [14 euro minimum wage.]\"\" https://t.co/fQBH8qPMVZ https://t.co/GIG09ldzKM\"",
                              " we expect the cannabis companies who can weather the storm today to continue on their rapid growth trajectories once the pandemic is under control.\"\" https://t.co/fqzZ1rynYT https://t.co/kqvHRuRbzJ\"",
                              " we have a petition\"",
                              " we have a testimonial of a grocery store worker.",
                              " we hope people's purchasing power remains stable\"\" - Riden Hatam Azis",
                              " we know best",
                              " we need a period of less business activity and less consumer demand.\"\" https://t.co/gGRtpkFeaX\"",
                              " we need to start thinking about what this will look like \"\"after.\"\" What changes do we need to make? How will our customers be different or buy differently? &gt;&gt; The consumer after COVID-19 https://t.co/Z5GIXJvJgL\"",
                              " we often let fear drive our purchase behavior. Here is an example re those needing gluten free items",
                              " we take a look at how the supply chains are changing in other parts of the world.",
                              " we think that this could negatively impact them and that they could become a whole new population of people living in poverty",
                              " we will come to the travel consumer\"\": https://t.co/uAffw42Hyh\"",
                              " we will get through this.\"\" ",
                              " we've recently seen an increase in people shopping online which has had an impact on how we serve our customers. So in the short term",
                              " we've sold enough #toiletpaper for every American to have their own roll\"\":  #coronavirus #stayhome #panicbuying #hoarding",
                              " weve come to see that theres a very specific kind of alcohol that pretty much everybody needs",
                              " what will we do to each other when we are short of food?\"\" - Coban Coban Burma (FB) #coronavirus #Quarantine\"",
                              " whats being left behind shows us what people just wont eat",
                              " where about half of all cannabis consumptions happens anyway.\"\" @forbes @melanie_warner",
                              " where drug prices typically are the highest in the world",
                              " where marijuana is not legal",
                              " where professionals across all levels and across Ireland are needed.\"\" Read; https://t.co/GGSkQ36tmq https://t.co/k2Y2zX39qC\"",
                              " whether thats direct-to-consumer",
                              " which could have a lasting effect on how people consume Hollywood entertainment\"\" https://t.co/iNk3gvUrQK\"",
                              " which had to be thrown out",
                              " which then converts every bottle into an active Liquidator\"",
                              " which will ultimately drive down demand",
                              " which would increase shortages and prices",
                              " while food service in Italy is virtually shut down",
                              " while the #coronavirus DOES come from China and its communist regime IS re\"",
                              " while there's some concern in #India over how low #shrimp prices could fall",
                              " while transactions are down -15% from last week due largely to abandoned shopping carts as result of fully booked delivery services.\"\" - @MarTechAdvisor ",
                              " while unemployment skyrockets and food pantries suffer. But solutions exist.",
                              " while workers in New York and Chicago say that Amazon isnt taking enough precautions as orders mount.\"\" ?? remember virus can survive 24 hours on cardboard. #COVID19 https://t.co/CYwrFW3FPE\"",
                              " whiskey &amp; #cosmetics to producing #medical supplies",
                              " who had died from #CoronaVirus. Now it started snowing. #Signs...listen to them!",
                              " why aren't there similar laws against hoarding",
                              " why aren't they listening to the stay at home advice\"\" ",
                              " why were the parks so crowded?\"",
                              " will continue offering online shopping\"\" https://t.co/znVBAKJ44E\"",
                              " wipe the door knob - go wash. It'\"",
                              " wise words via @morhafalachkar  @UWMedicine \"\"If you have two rolls of toilet paper or two containers of hand sanitizer",
                              " with #crudeoil prices down more than 60% this year. #oilpricewar https://t.co/qvKZNh0ocS\"",
                              " with a threefold increase in bonus for the next 12 months.\"\" #ukemplaw https://t.co/iWKyFzxfCS\"",
                              " with an emphasis on the Chinese administration",
                              " with a record 204 billion downloads in 2019 and $120 billion in consumer spending in 2019",
                              " with consumers trying new models",
                              " with even #ecommerce operations shutting down due to #coronavirus concerns",
                              " with hundreds more expected to close on Wednesday as the situation accelerates.\"\" https://t.co/1g5LytnTQX @RetailInsider_\"",
                              " with particularly aggressive cuts from countries hit hardest by the outbreak.\"\"",
                              " work from home",
                              " yet keeping all shops open  on original opening hours and not providing staff with proper PPE during a pandemic? Excellent display of employee loyalty. Not. #Disgrace\"",
                              " you are an absolute moron. It's simple",
                              " you know",
                              " you may have to pay higher fees ?",
                              " you must be quarantined at a designated center. #CoronaVirus\"",
                              " you should advertise. When times are bad you MUST advertise\"\".",
                              " you will find flies\"\". In this case its parasites - AKA #scammers https://t.co/dOx4Feq46P #scam #scamdemic #Phishing #CyberAware #securityawareness #cybersecurity #coronavirus #pandemic\"",
                              " you'll be able to offer the right solutions.",
                              "\"\" \"\"pharmacy",
                              "\"\" @Citi strategists say. However the speed of this decline is unprecedented &amp; may not reverse until #coronavirus peaks in US. https://t.co/gfatOf0sMr https://t.co/LXudOMMlXA\"",
                              "\"\" @PNCBank's chief economist @GusFaucherPNC",
                              "\"\" @RapidanEnergy's Bob McNally discusses the new OPEC+ agreement",
                              "\"\" Allen McBroom shares how his music store is adapting to the COVID-19 crisis and the new normal of retail shutdowns and social distancing https://t.co/U5t0F8TPrX https://t.co/ZJqgkFFmqx\"",
                              "\"\" Beri said. \"\"For them",
                              "\"\" Birx said. \"\"This is the moment to not be going to the grocery store",
                              "\"\" Farnworth reassures British Columbians. State of emergency gives the province the power to ration supplies if needed",
                              "\"\" Ford says of the gouging. We are coming after you.\"\"\"",
                              "\"\" Grubhub officials said in a statement Monday. https://t.co/ltueKpL5Pz\"",
                              "\"\" Sonny's Super Foods Store Manager Donald Glanz told @NewsChannelNE. \"\"We're going to have food here. People aren't going to starve to death.\"\" ",
                              "\"\" a virtual food drive with @ntfb. \"\"With thousands of people facing furloughs and layoffs",
                              "\"\" and added",
                              "\"\" and trying to find some \"\"medium ground.\"\" Very harmful for Russia. To get involved at \"\"appropriate time.\"\" #Trump #oil #coronavirus @anthonymace\"",
                              "\"\" as shoppers across the country empty supermarket shelves amid rising alarm over the rapid spread of the novel coronavirus",
                              "\"\" but people need to STOP discarding their gloves in supermarket parking lots and on the floors of some local post offices. #coronavirus\"",
                              "\"\" by Gary Schnitkey.  https://t.co/gu6B4XpqP4",
                              "\"\" driving #Bitcoin prices down over 40 percent.",
                              "\"\" grocery store CEO says https://t.co/FM5mJc7ftL\"",
                              "\"\" https://t.co/15hXYLlu0g",
                              "\"\" https://t.co/q4RrAiz8KZ",
                              "\"\" like cameras",
                              "\"\" recovering coronavirus survivor Lara Woolfson says. Woolfson contracted the virus after attending a medical conference in Boston in February. https://t.co/vfbvxe73Nz\"",
                              "\"\" said @DrAlexaMieses COVID-19 Infection Likely Worse for Vapers",
                              "\"\" said Independent Grocer Association president and CEO Josh Ross. #foodsupply #coronavirus #groceryshopping #consumers #grocers https://t.co/9C066pEdkN\"",
                              "\"\" said an FBI agent in the Newark office of coronavirus-related scams. https://t.co/qitYO7rFr9\"",
                              "\"\" says @Girotrak. \"\"Overall",
                              "\"\" says @RaminToloui",
                              "\"\" the food &amp; drink giant is ramping up hiring and offering more benefits to workers: https://t.co/GJhr0qMlOg\"",
                              "\"\" the person filming the exchange said as the couple left the grocery store.\"\"",
                              "\"\" the statue capturing the face of our economy now. And",
                              "\"\" w/earnings hit much harder in developed markets than EM: UBS Global Wealth Management's Claudia Panseri . \"\"We also expect dividends to be hurt as companies focus on balance sheet and cash preservation.\"\" https://t.co/ICxLRTQzIW\"",
                              "\"\" what comes to mind is an active shooter on the loose.  This COVID-19 reference just fuels uncertainty.  What can I do?  Where can I go? Did that trip to the grocery store infect me?  I despise you @realDonal\"",
                              "\"\" writes @BessLevin https://t.co/5w99jYd4hm\"",
                              "\"\" writes @marcscribner.",
                              "#coronavirustip\"",
                              "000 employees in the U.S. to meet the surge in demand from online shopping amid the #coronavirus outbreak",
                              "000 on Sunday.\"\" https://t.co/uVO77Wte9v #COVID19 #Amazon\"",
                              "000 people who are going to die because you only sent 400 ventilators.\"\" https://t.co/oRJYqAZEa2\"",
                              "000 tests for COVID-19 to 13 states....",
                              "000 to help food banks in Greater Manchester meet increased demand from vulnerable people as a result of the coronavirus (COVID-19) pandemic ? \"\" via /r/MCFC \"",
                              "000 troops in Afghanistan; now hes making sure you dont run out of food during the #coronavirus crisis.\"\" @kgilsinan reports: https://t.co/uu5bI3pgxX\"",
                              "000 warehouse and delivery workers across the country to handle the online shopping surge caused by the COVID-19 outbreak.\"\" https://t.co/YIVTNWiCTA\"",
                              "000 workers to its fulfillment and delivery network to deal with a surge in online shopping",
                              "000 yuan a tonne means nearly 70% of the Chinese producers will be under water",
                              "000. @sto... https://t.co/Ug3LJcaHVP https://t.co/fB1q8lxfFu\"",
                              "500 new staff - and boost its home delivery service",
                              "900 in business\"",
                              "900 selling accounts in its U.S. store for... 'coronavirus-based #price gouging'\"\" https://t.co/yQPKnruHEl #consumer #consumerprotection #pricing #covid19 #pandemic #coronavirus https://t.co/kK4czdQvb9\"",
                              "@BobbyHeehaw",
                              "Bread",
                              "Social Distancing",
                              "apple sauce and gravy.",
                              "can I stock her up before lockdown comes then no food available",
                              "fulfillment centers",
                              "grocery store workers",
                              "it would be  as if they've saved all mankind\"\"",
                              "said DCP Surat",
                              " the government plan said. The plan warned of significant shortages for government",
                              " when I also received a letter today saying you're putting your prices up"
                            ]
                          }
                        },
                        "name": "label",
                        "nullable": false,
                        "type": "double"
                      }
                    ],
                    "type": "struct"
                  },
                  "tableIdentifier": null
                },
                {
                  "name": "test",
                  "typeStr": "pyspark.sql.dataframe.DataFrame",
                  "schema": {
                    "fields": [
                      {
                        "metadata": {},
                        "name": "TweetAt",
                        "nullable": true,
                        "type": "string"
                      },
                      {
                        "metadata": {},
                        "name": "OriginalTweet",
                        "nullable": true,
                        "type": "string"
                      },
                      {
                        "metadata": {},
                        "name": "Sentiment",
                        "nullable": true,
                        "type": "string"
                      },
                      {
                        "metadata": {
                          "ml_attr": {
                            "name": "label",
                            "type": "nominal",
                            "vals": [
                              "Positive",
                              "Negative",
                              "Neutral",
                              "Extremely Positive",
                              "Extremely Negative",
                              "social distancing",
                              " N. Y. - April 10",
                              " Corona Virus",
                              " Stay with us",
                              " but we also need to change other activities that demand more and more forest land",
                              " delivery",
                              " ecological collapse",
                              " however",
                              " just \"\"selfish pigs who only think about themselves\"\".",
                              " not going to the pharmacy",
                              " of course",
                              " or click the links\"\" #AlwaysWatchingOutForYou",
                              " state governors say theyre now bidding against federal agencies and each other for scarce supplies",
                              " supermarket workers",
                              " \"\" Well covid-19...\"\"  She rolled her eyes and \"",
                              " \"\"1 lakh beds already prepared for COVID-19 testing.\"\" and \"\"India has enough medicine and food stock\"\"",
                              " \"\"We'll be https://t.co/e49zUcJV70\"",
                              " \"\"Who needs BlackFriday anyway with steep discounts to cream it when you got COVID?\"\" #GreedyBastards https://t.co/cz7v14RzzA\"",
                              " \"\"You stay at home for Us\"\". ",
                              " \"\"You'd better stock up!\"\"",
                              " #Boris. #coronavirus #blackmarket #spivs\"",
                              " #China stockpiled around 2.4 billion pieces of protective equipment",
                              " #Eurozone",
                              " #ImpactInvesting",
                              " #Newsnight. If people can't afford rising food prices",
                              " #QuaratineAndChill",
                              " #Trump is urging the cartel to do just that.\"\"",
                              " #covid19",
                              " #shoemaking",
                              " #virus",
                              " #wheat prices exploded",
                              " $AZO",
                              " &amp; others who are literally out there.",
                              " 'Im pretty sure I have it; Im going to the doctor now. I just have to stop at Whole Foods first.'\"\" #covid19 #coronavirus https://t.co/LWq4QokAbn\"",
                              " 1 USD pays for 5 (!) meals https://t.co/TIB7WXWRov\"",
                              " 13",
                              " 2019",
                              " 2020 - US &amp; Canadian Border Closure &amp; Economic Impact of Oil Prices\"\" on @Spreaker #borderclosure #brampton #caledon #coronavirus #covid_19 #mississauga #oilprices #peelregion #sauga960am #us_canada https://t.co/0anwAGDI1G\"",
                              " 2020 at 08:20AM #Coronavirus https://t.co/MnMM69d9u5\"",
                              " 2020.\"\" #coronavirus",
                              " 2nd wave",
                              " 4 weeks after COVID-19 began to spread",
                              " 6 ft apart STAY HOME\"",
                              " 7th Edition\"\" ",
                              " ???????? ????????? ?? YouTube ???? ?? ???? ??????? ????????? ???????. ??? ?????? ??????",
                              " @KatrinaAClarke reports #HamOnt #COVID19",
                              " @PtRightsAdvoc via @LasVegasSun ",
                              " @Sendiks and @AWGCorporate! #grocery #supermarket #covid19 #coronavirus #grocers #foodretail #retail https://t.co/FglsnPoj4k\"",
                              " AND WHAT THEY MEAN FOR MARKETERS\"\" @adage\"",
                              " Agencies Say\"\"; \"\"COVID-19 Pandemic",
                              " Amazon announced March 16 that it will open 100",
                              " April 7",
                              " April 9th",
                              " As Buffer Stock Has Enough Food Stored - CEO - Vimnewsgh\"\" https://t.co/HKDf8E98au\"",
                              " Ashley Young shares Covid-19 advice - https://t.co/7RojE92CdG https://t.co/8xPGp9fbag\"",
                              " BESCOM works 24*7 to ensure uniterrupted electricity. During COVID-19 pandemic",
                              " Bakery etc. This isour \"\"Islamic Republic of Pakistan\"\". Shameful moment for #PTI government #Covid_19\"",
                              " Big Tech could benefit from changes in consumer habits.\"\" https://t.co/ZHO48KP0LI GATE is here to provide you with the tech-saavy staff that you need to keep your business successful",
                              " CDC recommends wearing cloth face coverings to slow spread of #COVID19 in public settings where other social distancing measures are difficult to maintain (e.g.",
                              " COVID-19 related disruptions such as travel and movement restrictions have caused artisanal gold supply chains to collapse",
                              " Chairman &amp; CEO",
                              " Corps like @Boeing @united @trumphotels etc",
                              " Costco and Target fell for the first time in weeks as coronavirus stockpiling behavior shifts\"\" #coronavirus #COVID19",
                              " D2C #ecommerce sales reached $14.28 billion in US. Per forecast 2020 sales will grow by 24.3%",
                              " Devastating\"\" https://t.co/HjVwbTAd1P @ClimateNexus @nytimes #oilcompanies #prices #coronavirus #oilandgas #budgets #gasoline #diesel #jetfuel #pipeline #crudeoil #pipeline #storagetanks #frackingcrews https://t.co/FkIl0IWOyF\"",
                              " Even as Food Demand Skyrockets",
                              " France",
                              " Hand Sanitizer",
                              " I am regretting tht shit ):",
                              " I am sure that they will not get to work in the office..\"\"",
                              " I drove out to the farm Ive supported through a CSA program the past few years. I wanted to stock the fridge as calls for social distancing were ramping up due to COVID-19...\"\"",
                              " I presume that you won't jack up prices.\"",
                              " I'm currently more concerned about the people panic buying and the rest of us being unable to access food than I am about catching the actual virus.\"",
                              " I'm happy to help you with it at a factory price. https://t.co/kaSBHka0V3\"",
                              " IFB vice president: https://t.co/oe6lKTyjku https://t.co/YW7KJMEHPC\"",
                              " Im sure you have been touched by the videos of people applauding #healthworkers from their balconies",
                              " Jordan",
                              " Jubilee Orchards",
                              " M.D.",
                              " Mohamed Kaahin. https://t.co/pCQa3fK9ru\"",
                              " Mumbai or Pune",
                              " N. Y. - March 20",
                              " N.Y. Hospital Converts Sleep Apnea Machines Into Ventilators\"\"",
                              " Nenshi says: public health impact of COVID-19",
                              " New Jerseys biggest health-care network",
                              " No Service\"\" policies in place",
                              " No!",
                              " Phillips66 and former Continental CEO Harold Hamm.\"",
                              " Pick-Up",
                              " Rattles Producers\"\" https://t.co/wu24I1SsBI @SuccessfulFarm #chicken #stockpile #food #quarantine #Covid_19 #restaurants #supermarket #StayAtHomeOrder #foodprices #globaleconomy #virus #pandemic #diet\"",
                              " San Pedro City",
                              " Spain",
                              " Stay Home-Be Safe\"\"",
                              " Sub-Saharan Africa Consumer Research Analyst  ",
                              " Teachers",
                              " Thank You for your services. Everyone is sitting at home and #coronavirus #UKLockdownNow #COVID19 .\"",
                              " Totino's would like all of our customers to know that since half of America will not leave the house for weeks during this covid-19 crisis",
                              " Utilities etc\"",
                              " VP",
                              " Va. -- home of @realdonaldtrump's Virginia golf club.",
                              " Vaccines and Treatments\"\" https://t.co/upvPXU8IEa\"",
                              " Vaccines and Treatments\"\": Because #COVID19 has never been seen in humans before",
                              " Woodstock sanctuary",
                              " [food bank] demand has quintupled this season. Almost half of Rapaports customers are new",
                              " a Coronavirus Companion\"\"",
                              " a complex web of interactions involving farmers",
                              " a consumer-driven global recession could be the next threat posed by the pandemic",
                              " a manager at the market tells me. ",
                              " a new at-home interactive food experience in Los Angeles that has been designed specifically for this current COVID-19 quarantine life. \"\" Strange times demand strange pizza. Sign me up!  https://t.co/UjhdRLTYaK\"",
                              " a new dawn of supermarket #logistics is at hand. After 40 years of just-in-time delivery model",
                              " a new dawn of supermarket logistics is at hand. Old rivals are going to have to (...) kickstart a new system that involves working together to keep the country fed.\"\" reports @WiredUK",
                              " a reminder that we're seeing signs that the opposite is actually happening. https://t.co/9Dt6EQ6FU2\"",
                              " a salesperson from @abt facetimed us and sold us new appliances. @salesfloor is now offering its tech stack to do this at scale for free. Great way to keep retail associates productive! https://t.co/v145JN3EGm\"",
                              " a stock market nose-dive",
                              " according to various reports",
                              " acts of #kindness during the #coronavirus #pandemic are providing #uplifting moments of #joy in a #UnitedStates beset by #anxiety.\"\" https://t.co/RefLNn8cL0\"",
                              " after 2 weeks of extreme isolation new case numbers/day should \"",
                              " after panic-buying amid the #coronavirus outbreak",
                              " again",
                              " against the advice of Canadian officials. https://t.co/n0yw9aKJ55\"",
                              " all skyrocket in use",
                              " along with a comprehensive benefits package. ",
                              " along with a pair of sunglasses. I'm sure I looked creepy",
                              " also vowing to roll back all Trump administration regulations and executive orders that harm the environment and \"",
                              " and @lloydblankfein arguing that stock prices are more important than ~1M American lives.\"",
                              " and Attorney General Paxton advises all Texans to be on alert for electronic communications with dangerous attachments or fraudulent website links.\"\" #txlege #COVID19",
                              " and consider if you really do need a delivery",
                              " and consumer discretionary spending will be WAY down. @JimCramer\"",
                              " and could shape consumer sentiment and future policy decisions.\"\" #OWHealth https://t.co/vPgoT6CWjl\"",
                              " and fairer.",
                              " and fairer. They are immune to oil prices",
                              " and generally just being damned selfish!!! #coronavirus #SelfIsolation #Hoarding #BeKind https://t.co/zUu4XGvqY6\"",
                              " and government impostor scams are all on the rise.",
                              " and imagine someone blowing mouth water onto your face like these two staffs at the grocery store did.   #Covid_19\"",
                              " and lynx's doorstep visit delights social media users. https://t.co/ZqetoX6Xrs\"",
                              " and not through choice. so please self isolate in our place",
                              " and now food banks all across the country are facing a great demand.\"\" @RobinRoberts",
                              " and once the crisis is over",
                              " and things are never going to go back to the way they were\"\"",
                              " and those who are more concerned with having fun shopping are t\"",
                              " and tried to sell me their CD. This is PEAK WTF level for me.",
                              " and what does that mean for broader consumer behavior?\"\"",
                              " and what they mean for marketers\"\"",
                              " and yesterday oil prices fell to their lowest level since 2002 in a sign of the deep distress our economy is facing.\"\"",
                              " and you're not even an American!\"\"\"",
                              " announced ...click on image to read on...pls retweet :-) https://t.co/RhSMXTfX9C\"",
                              " anti-government protests",
                              " apparently that's all you need to ensure your death",
                              " appliances",
                              " appreciate that President Conte puts his face;  use time at home to contemplate and reflect on the really important things!\"\" F 37",
                              " arrested for licking food items in a supermarket and posting video of it.",
                              " as COVID-19 forces food assistance organizations to manage dwindling inventories",
                              " as U.S. companies and government officials seek a smooth-flowing food-supply chain without causing panic over potential shortages and worker safety.\"\"",
                              " as businesses across the nation face disruptions amid the ongoing #lockdown",
                              " as lower oil prices and a dip in economic activity amid the #coronavirus pandemic more than offset upward pressure from the liras depreciation.\"\" @cagankoc's @economics report:",
                              " as of late March",
                              " as the restaurant and food service demand crumbled rapidly due to COVID-19. ( Ben Butler",
                              " as the world grapples with Coronavirus contagion. I'm not saying we should mercilessly beat people who do this but....yeah. #coronavirus https://t.co/MfmVeBoe3R\"",
                              " as we follow guidelines...\"\" HELP",
                              " as well as posting online! #COVID2019 #EssentialWorkers\"",
                              " at prices that dont already reflect the possibility of a bailout.\"\" https://t.co/2FDfj5qV6T\"",
                              " avoid pubs",
                              " bank managers. The list is endless.",
                              " be #healthy &amp; #immune",
                              " be a man. Use your hand\"\"  If you don't know",
                              " be more hygenic in times of #coronavirus This is Unacceptable",
                              " be safe out there people!! #cribdelacurse #universe #transforming #coronavirus #corvid19 #besafeeveryone #sanitizer #mask #roland https://t.co/KRInBVhPK0\"",
                              " because almost everywhere other utilities",
                              " before assuring Australians the country has food security. https://t.co/UKKl1qzpkQ\"",
                              " between each #tenant and their respective #landlord. But whttps://t.co/M9irxZEghg https://t.co/idnyot1thv\"",
                              " bev &amp; consumer packaged goods are exempted from the gathering &amp; curfew bans that are starting to take effect. https://t.co/pxjldZ9oSh https://t.co/rNO2Va9NBp\"",
                              " billdesk",
                              " bizarrely it had no filters on it",
                              " blaming #coronavirus on USA and Italy",
                              " bus drivers",
                              " business relief",
                              " but 32% are shifting to completely buying online rather than shopping in physical stores\"\"",
                              " but I'm on one today and every day hereafter when it comes to anything even tangentially related to #COVID19/#Coronavirus. If I see you selling disinfecting wipes/sprays",
                              " but also by environmental",
                              " but also on its ability to forge a seamless connection between millions of individuals and #Amazon.\"\"",
                              " but also to the interests of others.\"\" -Philippians 2:4",
                              " but as Keynes pointed out this would be socially unjust. The correct alternative would be higher taxes on wealth and incomes\"\" @RSkidelsky https://t.co/6cXSk11iul via @prospect_uk\"",
                              " but because it was the only thing in abundance. #COVID2019 #TotinosAreLifeNow\"",
                              " but for a limited time! For every merch sold",
                              " but if stores had doubled the price of #toiletpaper early on",
                              " but in the supermarket this morning",
                              " but instead of brick",
                              " but masks aren't available to them",
                              " but not any of the\"",
                              " but not vulnerable countries: the pandemic poses a serious threat to food security at the local level.\"\" Read more here: https://t.co/ykY4CuGdoZ https://t.co/wh6IFGXl7z\"",
                              " but orders from food-service operators fell.\"\" https://t.co/I96mBOfdZ8 @BurnabyNOW_News\"",
                              " but sad\"\" story: the average #onlineshopping conversion rate has",
                              " but some are calling on the network to cut wholesale prices. https://t.co/T2rcs18ML4 h/t LightReading\"",
                              " but the company cannot control the prices dealers or retailers charge for 3M respirators.\"\" https://t.co/AGlPcRqw40\"",
                              " but there is no need to stockpile at this point.\"\" #COVID19 #Coronavirus\"",
                              " but theres no need to hoard products or panic about food during this coronavirus (COVID-19) pandemic.\"\" https://t.co/CHgEIYRyfh @AgWebEditor #COVID19\"",
                              " but theyre already reporting changes in their income",
                              " but very few were able to predict consumers would want their own safety stock. https://t.co/9htwkj9DNi\"",
                              " but wanted to highlight some major ones: https://t.co/1whYfIal70\"",
                              " but we are happy to help",
                              " but we have to acknowledge life is weird right now. That from a place where life is still relatively unchanged thus far.  #Covid_19\"",
                              " but weve certainly flattened the economy.\"\" https://t.co/YF0GnOZHJ5\"",
                              " but you still need to eat. @amandamull untangles the physical and moral hazards of ordering takeout or going to the grocery store during a pandemic.\"\" https://t.co/ke8c4iKD0j #coronavirus\"",
                              " but\"",
                              " buy and hoard masks that are most appropriately used and necessary for the front-line health care workers who do need it for the clear and present danger\"\" they face.",
                              " cash-points",
                              " claiming the news station",
                              " cleaned",
                              " closed the borders",
                              " co-owner says\"\"",
                              " cold beaches and toilet paper: COVID-19 and sudden",
                              " come gather round friends",
                              " companies strategies will need to focus on fortifying their web presence and",
                              " connected global city\"\" shows @GladysB doesn't understand that the #coronavirus and its future versions have just changed the world. Not to mention that low oil prices will trigger another oil crisis\"",
                              " consume media and how they regard the brands they do business with.\"\" Find out how here: https://t.co/4hEUjUNJtY https://t.co/h4xtvzePI5\"",
                              " consumed more",
                              " consumer and more. Please RT!",
                              " consumer behavior turns out to be remarkably unaccommodating to civilizing tendencies.\"\" -Benjamin Barber",
                              " consumer capitalism and #coronavirus\"",
                              " consumer spending in grocery stores surged dramatically",
                              " containing chloroquine phosphate",
                              " counterintuitively falling as the #coronavirus economic hit has become horribly apparent.  A rebound is now afoot. Get your market update from DavidCottleFX here:  https://t.co/1xgeIF2vrq\"\"\"",
                              " creating more trouble for Calgary landlords already struggling with huge vacancy rates.\"\" https://t.co/Ilq1wqn0bF #CRE @westerninvestor\"",
                              " cruise",
                              " custodial staff",
                              " despite #coronavirus impact\"\"  Consumer sector businesses  say they will maintain previously planned investments  at 46%  and 8% saying they would increase planned investments https://t.co/gGh3HCy7jH\"",
                              " die from hunger.854 million people worldwide are estimated to be undernourished",
                              " dir. of L.A. County Dept of Public Health. https://t.co/lFFIgWuTYk\"",
                              " disinfectants &amp; other products needed to combat the spread of the #coronavirus are being exacerbated by the Trump admin's tariffs on Chinese imports",
                              " does it? #coronavirus #WuhanCoronaVirus #COVID?19\"",
                              " dramatically curtailing consumer demand.\"\"",
                              " e-commerce and away from brick and mortar",
                              " eat more meals at home and stockpile essentials",
                              " ensuring that low oil prices  [will] force all producers to [cut production].\"\"",
                              " especially #nurses #Doctors as I wore a #facemask to the grocery store and got anxiety just for wearing it for 1 hour.?",
                              " etc #coronavirus https://t.co/lqItAHT4vD\"",
                              " etc please contact Cheney Brothers at 478-250-3699. Office: 352-291-7800",
                              " etc.? #COVID2019\"",
                              " even among the best of times.",
                              " even if it means giving up on their own privacy in the process.\"\" https://t.co/24YkJ5HZMd\"",
                              " even now",
                              " everybody else had clothes on\"\" (@metalli445 and @PattyeLJ",
                              " expands its home delivery and creates an extra 3500 jobs.\"\"",
                              " experts in the food supply chain say the system is built to endure",
                              " experts say.",
                              " factories to run",
                              " falling 2.2% from the day before",
                              " farmers and ranchers are eager to work with the Agriculture Department to bridge the supply gap and get farm products to those in need...\"\"",
                              " fast food workers",
                              " financial markets were in an inherently unstable condition. Years of.. https://t.co/rofXLLBbwL\"",
                              " find them here: https://t.co/c6GYaMNdvM\"",
                              " firefighters etc.... ?",
                              " food prices",
                              " for elderly and vulnerable customers.\"\" #coronavirus #sainsburys https://t.co/UOQqrxTiPo\"",
                              " for example",
                              " for the purposes of collecting unemployment insurance",
                              " forcing the store to throw out an estimated $35",
                              " frailties that",
                              " fresh",
                              " giving the elderly and disabled a dedicated hour to shop amid the #Coronavirus pandemic",
                              " gloves",
                              " gloves bad",
                              " grocery store employees",
                              " grocery store shortages",
                              " grocery workers increasingly fear showing up at work https://t.co/FZf7zhCxYM\"",
                              " hand sanitiser and other products which never arrived.\"\" @FT https://t.co/IoSiiHH9II\"",
                              " handing you food",
                              " hang up! https://t.co/Y6WDfvweoW https://t.co/sXMyuMgVa7\"",
                              " har de her harrr...\"\" as they frantically try to restock products w/out getting trampled by greedy assholes in the process. Not even a little funny. Fuckers.",
                              " harvesting as many chickens as we can",
                              " have you got any paracetamol in still?\"\"",
                              " he used a voucher to get a discount... Absolutely disgusting! ",
                              " he'll bash #Coronavirus up.",
                              " here are some tips for protecting your devices and personal information.\"\" https://t.co/YwRLhoIfsM https://t.co/dxHBk3UCNu\"",
                              " hereby",
                              " higher for other plays. Halliburton reportedly said low oil prices would lead to 2/3 of rigs gone by Q4. US oil sb in good decline when COVID-19 eases #OOTT https://t.co/Ob44oCvWw1\"",
                              " hotels...)",
                              " how salty could it be?\"\"",
                              " however you're putting yourself at risk just by ordering outside food.\"",
                              " https://t.co/bYJirZ1OZ7 #intermarkgroup #psychologymarketing #covid19\"",
                              " humans and other animals can have an increased drive toward hoarding behaviors.  However",
                              " hunger relief organizations",
                              " if people get exposed to the virus in supermarket queues today! So please keep distance ?",
                              " in a survey of 1068 Americans",
                              " in particular",
                              " in these times when so many people are worried about the security of our food supply",
                              " in this case it appears to have strengthened them.\"\"",
                              " including because of \"\"massive suicides",
                              " including comfy bras",
                              " including farmers markets",
                              " including isopropyl alcohol",
                              " including loan guarantees\"\"",
                              " including medicines.",
                              " including trips to the grocery store. What was previously a mundane task has turned into a nerve-wracking ordeal that b\"",
                              " increased demand long way off. @LSUResearch @LSUNews #oilandgas #coronavirus https://t.co/22ZNy1ShxW\"",
                              " instead of shopping online",
                              " investment bankers have been candid on investor calls and during health care conferences about the opportunity to raise drug prices.\"\" #coronavirus",
                              " it gave us a chance to slowly do our shop.\"\"",
                              " it is very respectful to me as a consumer. #MaddensMethods\"",
                              " it proved to be the worshttps://t.co/KpWd5TWoVu\"",
                              " it was an administrative error\"\" Pure BS!\"",
                              " it was possible to at least wishfully imagine that grocery stores were somehow immune to the virus. Now the risk has become even more apparent: Yes",
                              " it's a little vial bottle with drops.",
                              " it's going to kill people.\"\"",
                              " it's important to note that @auspost Post is still operational... you'll still be able to send and receive domestic parcels and mail",
                              " it's never gonna happen",
                              " it's the beginning of the end for #fracking\"\"",
                              " its good for our customers as we can deliver within hours ",
                              " just keeping track.\"\"",
                              " just want to say thank you. Thank you to everyone specially the driver! ? #Covid_19\"",
                              " keeping specialists away from infected patients when applicable.\"\" https://t.co/Aysl3AR06o InteliChart is offering telehealth services at no cost through July 31. https://t.co/tcd4xn86iQ #telehealth #COVID19 #coronavirus https://t.co/nIJSP4PLcu\"",
                              " keeping them open is important.\"\"",
                              " kindness..",
                              " led by economist Jack Mintz",
                              " let's not hoard. Consider dropping food at the local Food Bank; the poor can't afford to stock up. There CAN be love in the time of COVID-19.\"\"",
                              " levels of sustained",
                              " like",
                              " like after 9/11. That's ok because change is constant....and sometimes good. #covidchange #postcovidworld #newnormal The consumer after COVID-19 https://t.co/k7XMRYovmk via @marketingdive\"",
                              " like ocean freight to keep costs down. But bc of ??demand",
                              " linked to at the top of the retweeted article",
                              " listen to the doctors and even then",
                              " lol...\"",
                              " lorry drivers",
                              " major retailers and experts say",
                              " major retailers and experts say. https://t.co/ThpOJ1znVd https://t.co/ZMlp4WDSmN\"",
                              " major retailers and experts say.\"\" https://t.co/0pNxcGVWvi\"",
                              " mama mboga",
                              " managed to get nothing I wanted. People need to stop this ridiculous panic buying! Some of us have to still work which gives us no time to shop! This country is a joke! #coronavirus\"",
                              " managing director at Mizuho Securities",
                              " many are striking and joining sick-outs to demand better conditions and pay. @thecut has more: https://t.co/6vjpRmUtZl https://t.co/nVWVKkUprP\"",
                              " many observers hold that normal consumer behavior will promptly reassert itself",
                              " masks",
                              " masks are still being listed! #PriceGouging #Hoarding #COVIDIOTS #COVID19 #coronavirus https://t.co/RaEbR6V6mg\"",
                              " meaningful connection between a brand and a consumer. #InfluencerMarketing helps reinforce this bond because people really buy into people's stories",
                              " mechanics etc still out there too!",
                              " medics cannot do miracles.  Going to supermarket - coughing on the handle of a trolley",
                              " meditation",
                              " milk and paper items are taking off the racks as quick as they are restocked after the interest for staple things flooded since the World Health Organization (WHO)  https://t.co/0BY8vLhET6\"\"\"",
                              " milk powder gone\"\"",
                              " more people will move out of their houses and crowd shops",
                              " need urgent help - please keep price stable while peoples are staying at home to confront #coronavirus challenge. https://t.co/7owfqSpEmw\"",
                              " needed medical supplies",
                              " neither will milk.\"\"",
                              " no flour. At least In 1 supermarket",
                              " no respect for social distancing or the law. Wales is closed. You are endangering local residents. #StayHomeSaveLives\"",
                              " no will to draw\"",
                              " normalcy pre-and-post coronavirus will be different.\"\"",
                              " not Church.",
                              " not even grocery stores can keep up the facade of normalcy. As many health experts have feared",
                              " not going to sit at home whilst my wife works saving lives in this crisis\"\" rather than \"\"working in a supermarket is shameful\"\"\"",
                              " not leave it to grocery store \"",
                              " now he needs our help fighting Corona",
                              " now that the economy dumped and supermarkets/online retailers can't keep up with demand. Fruit/veg plants/seeds sales are through the roof as everyone plans to grow their own food. #coronavirus #COVID2019 https://t.co/rZXfpl5i0g\"",
                              " nurses",
                              " oil prices fall",
                              " on a per capita basis",
                              " one thing is clear: stockpiling is not an option for the economically vulnerable.\"\" @amyvhaddad  #COVID19 #COVIDaus #stockpiling https://t.co/ZpKRzNty0A https://t.co/LfAaeA2PDB\"",
                              " online education",
                              " online retailers are leveraging the cost-effective value of #AffiliateMarketing ever more to help reach todays consumer and fuel online revenue growth.\"\" https://t.co/zKuKIRDCjf @LinkConnector https://t.co/UMXi0pc3Lf\"",
                              " only a few preliminary conclusions can be cautiously advanced. Firstly",
                              " openings due to COVID-19\"\" https://t.co/DDoUT6Qdpf #Supermarketnews\"",
                              " or a range bc wait times are up #COVID19nz\"",
                              " or as normal as we'll be after this",
                              " or companies will have to figure out new ways to move things around.\"\" https://t.co/jlZXZyvn9O #coronavirus\"",
                              " or give me death!\"\" speech.",
                              " or grocery store",
                              " our bank tellers",
                              " our cars",
                              " our forecast of annual growth in dividends is down 28% in the US and 25% in the EU",
                              " our incredible store teams are exhausted and co\"",
                              " our prices are now...\"\" notices. After the \"\"welcome back\"\" specials",
                              " overwhelming majority of customers were buying a few extra items because they and their families must now eat every meal at home.\"\" NickCohen #coronavirus @mrjamesob\"",
                              " pangolin sales falter with Covid-19\"\"",
                              " pants and jocks that I was wearing on that particular day.\"\" #YouCantAskThat - Tonight 9pm. https://t.co/o58GSj7xqY\"",
                              " particularly for emergency pantry items and health supplies\"\"",
                              " pasta",
                              " pay for childcare and stock up on food.\"\"  https://t.co/VSJA1hp6RF\"",
                              " pay with cash and pack bags over the top of you. #coronavirusuk #Covid_19 https://t.co/JqVzmUC3Fy\"",
                              " people that I talk to now have a completely different opinion on what things were two weeks ago.\"\" https://t.co/F29DCCpWgm\"",
                              " pharmacy",
                              " physical spaces",
                              " pills",
                              " please don't toss them in the supermarket parking lots. Some poor kid has to pick them up! https://t.co/cCLVIlTCDe\"",
                              " please refrain from entering the store\"\"",
                              " please remember that if you are loading up on processed foods during this time",
                              " please save them from this COVID-19. Please sustain them and let them feel your comfort and love ??\"",
                              " please take pics or video and make them famous. Let's see how many use them after the crisis has passed. #pricegougers #pricegouging #pricerises #CoronaCrisis #CoronavirusPandemic #Covid_19 https://t.co/IukgDamLFO\"",
                              " police officers",
                              " potatoes &amp; vegetables??",
                              " prices may drop far below where they were before. #coronavirus\"",
                              " public gatherings limit of 10",
                              " pushing my cart down a row of refrigerators in the dairy section",
                              " putting all grocery workers at great risk? @OutnumberedOT\"",
                              " queues",
                              " racism",
                              " re-engage your customers in meaningful ways rather than pushing products.\"",
                              " recession",
                              " reduces operations in S.A. due to #Covid_19 https://t.co/0BFEsLmltQ https://t.co/NQOUJjKkd3\"",
                              " reduces operations in S.A. due to #Covid_19 \"",
                              " refuses to close despite government orders in the wake of coronavirus: https://t.co/3l9ITqzzEn #Gamestop #coronavirus https://t.co/kAHJ7ZwaWc\"",
                              " remember: Rupert Murdoch produces a wide range...\"\"",
                              " rising real estate prices in urban clusters &amp; visa restrictions in a de-globalising world may all make remote collaboration more valuable than ever",
                              " rolled up the window and bounced. She's \"",
                              " sanitizing intensive care units",
                              " says authors who spoke out \"\"should know better\"\" https://t.co/zMYoDo3BnV\"",
                              " says that as a result of covid-19 his company has brought forward by several years the time when it expects the share of shopping done online in Britain to double from its current 20% already among the highest in the world\"\" https://t.co/UgcjI0EU7m\"",
                              " scammers are preying on your fears. Canadians are being warned to be careful of the scams that are circulating. Read more here: https://t.co/kEynPu36XZ\"",
                              " school staff and delivery drivers.\"\" ",
                              " short supplies",
                              " shrinking habitat",
                              " similar to what CCAs are offering in CA https://t.co/OlHkyldwqH @ebce_ceo\"",
                              " sir.\"\"",
                              " smile as she loads multiple boxes of toilet paper and paper towels after buying out the entire local 'Dollar Tree' store so that no one else can buy any.",
                              " so",
                              " so I am happy we are able to help out in this way",
                              " so do the scams associated with it.\"\"  they have listed 6 recommendations to follow.",
                              " so doesn't understand all the fuss! Cognitive dissonance is real",
                              " so supermarkets keep operating",
                              " so the de\"",
                              " so there'll be a lot of online shopping I assume! #coronavirus\"",
                              " so would be any other consumer goods company that produces cleaning and sanitary products which was earlier a \"\"kind of\"\" commodity market. #coronavirus\"",
                              " some 6 million barrels per day of \"\"homeless crude\"\" might literally have nowhere to go.\"\" Repeat: ENGINEERED ECONOMIC CRASH.",
                              " soon",
                              " sources said on Thursday. ",
                              " spirits",
                              " spot the scams\"\" https://t.co/UvLZ9lOO0v #FTC #scams #coronavirus\"",
                              " staff our hospitals",
                              " starting 3 weeks ago",
                              " state governors say they're now bidding against federal agencies and each other for scarce supplies",
                              " stock food and supplies",
                              " stockroom staff",
                              " stocks will rebound but fr 20%-30% below current prices. Like 2008...investors...slow to return...stocks may well underperform as high P/E ratios...normalize",
                              " subsidy is an elitist thing because it is the elites that benefit. They are the ones that have SUVs",
                              " such as distillery making hand sanitizer",
                              " such as shops",
                              " supermarket staff",
                              " supermarket workers -",
                              " supermarket workers and delivery riders are among the unsung heroes of this crisis  frequently unprotected",
                              " switch places with me. #COVID19 #coronavirus #StayHome\"",
                              " teachers",
                              " teachers and grocery store attendants.",
                              " terminals were shuttered",
                              " tests",
                              " than with @realDonaldTrump under the #CoronaVirus threat.",
                              " that are currently doing all the panic buying and hoarding of goods. People on benefits can barely afford the essentials let alone hoard food and toilet rolls",
                              " that online shopping/grocery delivery would become easier &amp; faster",
                              " thats why someone still trying to go to work. Realizing not all can have at least one week of food stock. Hoping covid-19 will leave our country...\"",
                              " the COVID-19 pandemic creates an obligation for payers to offer people  customers",
                              " the Morning Consult Index of Consumer Sentiment (ICS) is at 89.41",
                              " the UK property market is very robust",
                              " the benchmark crude price for tar-sands producers",
                              " the company producing remdesivir",
                              " the economy is basically the stock market. Hes obsessed with it",
                              " the fall in oil and stock prices has widened bond spreads and put pressure on the Naira.\"\"",
                              " the first step in that direction would be seeing sellers drop their listing prices. 'That hasn't happened.' \"\" https://t.co/EpIzl5CZsh\"",
                              " the gas store workers",
                              " the largest food retailer in #SouthAfrica with a R150.4 billion turnover &amp; a 30% market share",
                              " the man in charge of coronavirus-proofing Walmart stores in Canada. Though dressed like a store clerk",
                              " the more lives were saved.\"\" Great read via @NPR ?? https://t.co/0QcNWNSwgm\"",
                              " the ones who have currently lost their jobs",
                              " the panic may wane even more.\"",
                              " the price of food and other supplies has doubled in Kabul markets over the past 24 hours\"\" #COVID2019 ",
                              " the social distancing and deprivation is really intense. We will all be craving a bit of entertainment",
                              " the style of Covid-19 Mortality presentation reminds of the awful football results program on Saturday afternoons in the 1970s. In a house await... https://t.co/QW9tLG3a3j\"",
                              " the system collapses...\"\"",
                              " the virus that causes COVID-19",
                              " the week seems to go on forever",
                              " the world will be changed. Crisis-buying patterns will spark permanent changes in consumer behavior. The work you do now will lay the foundation for ongoing success on the other side. \"\"",
                              " then another copy of \"\"Contagion\"\" and moved it to the top",
                              " then the image of an empty shelf is the exception",
                              " then there will be no such expected recovery. consumer consumption may spike",
                              " then youre going to think that theres no food available. Ive seen a lot of that imagery when really thats not indicative of the actual availability of food.\"\"  @aubsn ",
                              " there are a lot of people who are working overtime to meet the needs of their communities.\"\" @AjitPaiFCC https://t.co/WEp57Pf19a #coronavirus\"",
                              " there are smart steps to take to keep your baby healthy and fed.\"\"",
                              " there is a good chance that inflation will be negative for a period of time this year",
                              " there is enough food.\"\" ",
                              " there's plenty for everyone and please BACK OFF!! 2 metre rule ?\"\" #SocialDistancing #CoronaCrisis please don't #panicbuy and there would be enough to go round\"",
                              " thermometers and baby formula despite crackdown\"\"",
                              " they are saying police didn't allow us to open.  They said \"\"We will give u particular time to open\"\"  just think of Rush of people at that time..(1/\"",
                              " they have potatoes now! That's a good meal right there!\"\" ",
                              " they should add \"\"moronic attacks\"\". https://t.co/Efyg77aw6L\"",
                              " theyre also buying their fair share of alcohol. Sales at liquor stores are up  amid the COVID-19 pandemic.\"\"",
                              " this Email is to assure you that we are looking after you during the #coronavirus pandemic. By no longer accepting returns",
                              " this could trigger the decision to purchase more product upfront. ",
                              " this is nothing to do w/ socialism and everything to do with panic",
                              " those retail business without the right treatment will not survive.\"\"",
                              " those who have lost their jobs due to all the shutdowns\"",
                              " though also quietly sad.\"\" https://t.co/DXwKJt0Q5G\"",
                              " to bars and restaurants",
                              " to move to online/remote learning. But children of essential workers will still be able to go to school",
                              " to protect each other",
                              " to the supermarket",
                              " to work",
                              " toilet paper and other items are in demand because of COVID-19...The Consumer Protection Act prevents businesses from grossly raising prices with no explanation beyond what is reasonable and available elsewhere.\"\" https://t.co/mkWNO9JmqQ\"",
                              " transportation",
                              " travel",
                              " truck drivers",
                              " tubers",
                              " unprecedented backdrop",
                              " upcoming stress from collapsing demand will reflect economics of \"\"sudden stops\"\"",
                              " upset about the inconvenience of the new rules or angry about a missing product or a long wait to get in.\"\"",
                              " utility techs",
                              " veterinary medicines could affect agricultural production. Closures of restaurants and less frequent grocery shopping [will likely] diminish demand for fresh produce and fisheries products",
                              " vicious and uncaring\"\" way.\"",
                              " viewings",
                              " views of meditation-related videos are 51% higher than the same period in 2019",
                              " vigilantes and police filter migrants' entrance to the supermarket because of #coronavirus\"\".",
                              " visors",
                              " volunteers abandoning charities to practice social distancing",
                              " w/ HSD EPS growth. Good for $MO",
                              " wait until people are fighting over food\"\" - the worst people are in charge at the worst possible time. #COVID19 #coronavirus #BorisJohnson #ToriesOut\"",
                              " wash your hands. https://t.co/GFQIk6Gr5x\"",
                              " water and toilet paper. Some consumers are also panic shopping for life insurance.\"\"",
                              " we are confronted by microbes and microchips: the infinitesimal enemy and the computer-programmed selling triggered by downward spirals in prices.\"\" https://t.co/JabAT70sD9 #coronavirus\"",
                              " we are in a freaking pandemic",
                              " we are monitoring the impact of #coronavirus on #online #consumer behaviors.\"\"",
                              " we are not seeing discretionary purchases taking place. We are seeing transactions which are focused on critical purchases. ",
                              " we can overcome fear and panic - and as a community",
                              " we can't live without you. [14 euro minimum wage.]\"\" https://t.co/fQBH8qPMVZ https://t.co/GIG09ldzKM\"",
                              " we expect the cannabis companies who can weather the storm today to continue on their rapid growth trajectories once the pandemic is under control.\"\" https://t.co/fqzZ1rynYT https://t.co/kqvHRuRbzJ\"",
                              " we have a petition\"",
                              " we have a testimonial of a grocery store worker.",
                              " we hope people's purchasing power remains stable\"\" - Riden Hatam Azis",
                              " we know best",
                              " we need a period of less business activity and less consumer demand.\"\" https://t.co/gGRtpkFeaX\"",
                              " we need to start thinking about what this will look like \"\"after.\"\" What changes do we need to make? How will our customers be different or buy differently? &gt;&gt; The consumer after COVID-19 https://t.co/Z5GIXJvJgL\"",
                              " we often let fear drive our purchase behavior. Here is an example re those needing gluten free items",
                              " we take a look at how the supply chains are changing in other parts of the world.",
                              " we think that this could negatively impact them and that they could become a whole new population of people living in poverty",
                              " we will come to the travel consumer\"\": https://t.co/uAffw42Hyh\"",
                              " we will get through this.\"\" ",
                              " we've recently seen an increase in people shopping online which has had an impact on how we serve our customers. So in the short term",
                              " we've sold enough #toiletpaper for every American to have their own roll\"\":  #coronavirus #stayhome #panicbuying #hoarding",
                              " weve come to see that theres a very specific kind of alcohol that pretty much everybody needs",
                              " what will we do to each other when we are short of food?\"\" - Coban Coban Burma (FB) #coronavirus #Quarantine\"",
                              " whats being left behind shows us what people just wont eat",
                              " where about half of all cannabis consumptions happens anyway.\"\" @forbes @melanie_warner",
                              " where drug prices typically are the highest in the world",
                              " where marijuana is not legal",
                              " where professionals across all levels and across Ireland are needed.\"\" Read; https://t.co/GGSkQ36tmq https://t.co/k2Y2zX39qC\"",
                              " whether thats direct-to-consumer",
                              " which could have a lasting effect on how people consume Hollywood entertainment\"\" https://t.co/iNk3gvUrQK\"",
                              " which had to be thrown out",
                              " which then converts every bottle into an active Liquidator\"",
                              " which will ultimately drive down demand",
                              " which would increase shortages and prices",
                              " while food service in Italy is virtually shut down",
                              " while the #coronavirus DOES come from China and its communist regime IS re\"",
                              " while there's some concern in #India over how low #shrimp prices could fall",
                              " while transactions are down -15% from last week due largely to abandoned shopping carts as result of fully booked delivery services.\"\" - @MarTechAdvisor ",
                              " while unemployment skyrockets and food pantries suffer. But solutions exist.",
                              " while workers in New York and Chicago say that Amazon isnt taking enough precautions as orders mount.\"\" ?? remember virus can survive 24 hours on cardboard. #COVID19 https://t.co/CYwrFW3FPE\"",
                              " whiskey &amp; #cosmetics to producing #medical supplies",
                              " who had died from #CoronaVirus. Now it started snowing. #Signs...listen to them!",
                              " why aren't there similar laws against hoarding",
                              " why aren't they listening to the stay at home advice\"\" ",
                              " why were the parks so crowded?\"",
                              " will continue offering online shopping\"\" https://t.co/znVBAKJ44E\"",
                              " wipe the door knob - go wash. It'\"",
                              " wise words via @morhafalachkar  @UWMedicine \"\"If you have two rolls of toilet paper or two containers of hand sanitizer",
                              " with #crudeoil prices down more than 60% this year. #oilpricewar https://t.co/qvKZNh0ocS\"",
                              " with a threefold increase in bonus for the next 12 months.\"\" #ukemplaw https://t.co/iWKyFzxfCS\"",
                              " with an emphasis on the Chinese administration",
                              " with a record 204 billion downloads in 2019 and $120 billion in consumer spending in 2019",
                              " with consumers trying new models",
                              " with even #ecommerce operations shutting down due to #coronavirus concerns",
                              " with hundreds more expected to close on Wednesday as the situation accelerates.\"\" https://t.co/1g5LytnTQX @RetailInsider_\"",
                              " with particularly aggressive cuts from countries hit hardest by the outbreak.\"\"",
                              " work from home",
                              " yet keeping all shops open  on original opening hours and not providing staff with proper PPE during a pandemic? Excellent display of employee loyalty. Not. #Disgrace\"",
                              " you are an absolute moron. It's simple",
                              " you know",
                              " you may have to pay higher fees ?",
                              " you must be quarantined at a designated center. #CoronaVirus\"",
                              " you should advertise. When times are bad you MUST advertise\"\".",
                              " you will find flies\"\". In this case its parasites - AKA #scammers https://t.co/dOx4Feq46P #scam #scamdemic #Phishing #CyberAware #securityawareness #cybersecurity #coronavirus #pandemic\"",
                              " you'll be able to offer the right solutions.",
                              "\"\" \"\"pharmacy",
                              "\"\" @Citi strategists say. However the speed of this decline is unprecedented &amp; may not reverse until #coronavirus peaks in US. https://t.co/gfatOf0sMr https://t.co/LXudOMMlXA\"",
                              "\"\" @PNCBank's chief economist @GusFaucherPNC",
                              "\"\" @RapidanEnergy's Bob McNally discusses the new OPEC+ agreement",
                              "\"\" Allen McBroom shares how his music store is adapting to the COVID-19 crisis and the new normal of retail shutdowns and social distancing https://t.co/U5t0F8TPrX https://t.co/ZJqgkFFmqx\"",
                              "\"\" Beri said. \"\"For them",
                              "\"\" Birx said. \"\"This is the moment to not be going to the grocery store",
                              "\"\" Farnworth reassures British Columbians. State of emergency gives the province the power to ration supplies if needed",
                              "\"\" Ford says of the gouging. We are coming after you.\"\"\"",
                              "\"\" Grubhub officials said in a statement Monday. https://t.co/ltueKpL5Pz\"",
                              "\"\" Sonny's Super Foods Store Manager Donald Glanz told @NewsChannelNE. \"\"We're going to have food here. People aren't going to starve to death.\"\" ",
                              "\"\" a virtual food drive with @ntfb. \"\"With thousands of people facing furloughs and layoffs",
                              "\"\" and added",
                              "\"\" and trying to find some \"\"medium ground.\"\" Very harmful for Russia. To get involved at \"\"appropriate time.\"\" #Trump #oil #coronavirus @anthonymace\"",
                              "\"\" as shoppers across the country empty supermarket shelves amid rising alarm over the rapid spread of the novel coronavirus",
                              "\"\" but people need to STOP discarding their gloves in supermarket parking lots and on the floors of some local post offices. #coronavirus\"",
                              "\"\" by Gary Schnitkey.  https://t.co/gu6B4XpqP4",
                              "\"\" driving #Bitcoin prices down over 40 percent.",
                              "\"\" grocery store CEO says https://t.co/FM5mJc7ftL\"",
                              "\"\" https://t.co/15hXYLlu0g",
                              "\"\" https://t.co/q4RrAiz8KZ",
                              "\"\" like cameras",
                              "\"\" recovering coronavirus survivor Lara Woolfson says. Woolfson contracted the virus after attending a medical conference in Boston in February. https://t.co/vfbvxe73Nz\"",
                              "\"\" said @DrAlexaMieses COVID-19 Infection Likely Worse for Vapers",
                              "\"\" said Independent Grocer Association president and CEO Josh Ross. #foodsupply #coronavirus #groceryshopping #consumers #grocers https://t.co/9C066pEdkN\"",
                              "\"\" said an FBI agent in the Newark office of coronavirus-related scams. https://t.co/qitYO7rFr9\"",
                              "\"\" says @Girotrak. \"\"Overall",
                              "\"\" says @RaminToloui",
                              "\"\" the food &amp; drink giant is ramping up hiring and offering more benefits to workers: https://t.co/GJhr0qMlOg\"",
                              "\"\" the person filming the exchange said as the couple left the grocery store.\"\"",
                              "\"\" the statue capturing the face of our economy now. And",
                              "\"\" w/earnings hit much harder in developed markets than EM: UBS Global Wealth Management's Claudia Panseri . \"\"We also expect dividends to be hurt as companies focus on balance sheet and cash preservation.\"\" https://t.co/ICxLRTQzIW\"",
                              "\"\" what comes to mind is an active shooter on the loose.  This COVID-19 reference just fuels uncertainty.  What can I do?  Where can I go? Did that trip to the grocery store infect me?  I despise you @realDonal\"",
                              "\"\" writes @BessLevin https://t.co/5w99jYd4hm\"",
                              "\"\" writes @marcscribner.",
                              "#coronavirustip\"",
                              "000 employees in the U.S. to meet the surge in demand from online shopping amid the #coronavirus outbreak",
                              "000 on Sunday.\"\" https://t.co/uVO77Wte9v #COVID19 #Amazon\"",
                              "000 people who are going to die because you only sent 400 ventilators.\"\" https://t.co/oRJYqAZEa2\"",
                              "000 tests for COVID-19 to 13 states....",
                              "000 to help food banks in Greater Manchester meet increased demand from vulnerable people as a result of the coronavirus (COVID-19) pandemic ? \"\" via /r/MCFC \"",
                              "000 troops in Afghanistan; now hes making sure you dont run out of food during the #coronavirus crisis.\"\" @kgilsinan reports: https://t.co/uu5bI3pgxX\"",
                              "000 warehouse and delivery workers across the country to handle the online shopping surge caused by the COVID-19 outbreak.\"\" https://t.co/YIVTNWiCTA\"",
                              "000 workers to its fulfillment and delivery network to deal with a surge in online shopping",
                              "000 yuan a tonne means nearly 70% of the Chinese producers will be under water",
                              "000. @sto... https://t.co/Ug3LJcaHVP https://t.co/fB1q8lxfFu\"",
                              "500 new staff - and boost its home delivery service",
                              "900 in business\"",
                              "900 selling accounts in its U.S. store for... 'coronavirus-based #price gouging'\"\" https://t.co/yQPKnruHEl #consumer #consumerprotection #pricing #covid19 #pandemic #coronavirus https://t.co/kK4czdQvb9\"",
                              "@BobbyHeehaw",
                              "Bread",
                              "Social Distancing",
                              "apple sauce and gravy.",
                              "can I stock her up before lockdown comes then no food available",
                              "fulfillment centers",
                              "grocery store workers",
                              "it would be  as if they've saved all mankind\"\"",
                              "said DCP Surat",
                              " the government plan said. The plan warned of significant shortages for government",
                              " when I also received a letter today saying you're putting your prices up"
                            ]
                          }
                        },
                        "name": "label",
                        "nullable": false,
                        "type": "double"
                      }
                    ],
                    "type": "struct"
                  },
                  "tableIdentifier": null
                }
              ],
              "data": "<div class=\"ansiout\"></div>",
              "removedWidgets": [],
              "addedWidgets": {},
              "metadata": {},
              "type": "html",
              "arguments": {}
            }
          },
          "data": {
            "text/html": [
              "<style scoped>\n  .ansiout {\n    display: block;\n    unicode-bidi: embed;\n    white-space: pre-wrap;\n    word-wrap: break-word;\n    word-break: break-all;\n    font-family: \"Source Code Pro\", \"Menlo\", monospace;;\n    font-size: 13px;\n    color: #555;\n    margin-left: 4px;\n    line-height: 19px;\n  }\n</style>\n<div class=\"ansiout\"></div>"
            ]
          },
          "transient": null
        }
      ]
    },
    {
      "cell_type": "code",
      "metadata": {
        "application/vnd.databricks.v1+cell": {
          "title": "",
          "showTitle": false,
          "inputWidgets": {},
          "nuid": "b37e1edd-c31a-4d8b-88ef-dd6255e7f8ed"
        },
        "id": "SNVFk0e6w-nO",
        "outputId": "b1af973b-f669-4ea7-ebda-9093cefe26f1"
      },
      "source": [
        "lr = LogisticRegression(featuresCol='vectorized_features' , labelCol='label')"
      ],
      "execution_count": null,
      "outputs": [
        {
          "output_type": "display_data",
          "metadata": {
            "application/vnd.databricks.v1+output": {
              "datasetInfos": [],
              "data": "<div class=\"ansiout\"></div>",
              "removedWidgets": [],
              "addedWidgets": {},
              "metadata": {},
              "type": "html",
              "arguments": {}
            }
          },
          "data": {
            "text/html": [
              "<style scoped>\n  .ansiout {\n    display: block;\n    unicode-bidi: embed;\n    white-space: pre-wrap;\n    word-wrap: break-word;\n    word-break: break-all;\n    font-family: \"Source Code Pro\", \"Menlo\", monospace;;\n    font-size: 13px;\n    color: #555;\n    margin-left: 4px;\n    line-height: 19px;\n  }\n</style>\n<div class=\"ansiout\"></div>"
            ]
          },
          "transient": null
        }
      ]
    },
    {
      "cell_type": "markdown",
      "metadata": {
        "application/vnd.databricks.v1+cell": {
          "title": "",
          "showTitle": false,
          "inputWidgets": {},
          "nuid": "27ee112e-12c9-4ce7-8b58-7510c6ced7a9"
        },
        "id": "8Wb8VqY_w-nO"
      },
      "source": [
        "### Pipeline"
      ]
    },
    {
      "cell_type": "code",
      "metadata": {
        "application/vnd.databricks.v1+cell": {
          "title": "",
          "showTitle": false,
          "inputWidgets": {},
          "nuid": "8921a314-5eab-4235-a93d-a967e4b6cd3f"
        },
        "id": "X_cjNL3tw-nP",
        "outputId": "0f396321-c98c-421d-a474-90ae26027df1"
      },
      "source": [
        "pipeline = Pipeline(stages = [tokenizer, stopwords_remover, vectorizer, idf, lr])"
      ],
      "execution_count": null,
      "outputs": [
        {
          "output_type": "display_data",
          "metadata": {
            "application/vnd.databricks.v1+output": {
              "datasetInfos": [],
              "data": "<div class=\"ansiout\"></div>",
              "removedWidgets": [],
              "addedWidgets": {},
              "metadata": {},
              "type": "html",
              "arguments": {}
            }
          },
          "data": {
            "text/html": [
              "<style scoped>\n  .ansiout {\n    display: block;\n    unicode-bidi: embed;\n    white-space: pre-wrap;\n    word-wrap: break-word;\n    word-break: break-all;\n    font-family: \"Source Code Pro\", \"Menlo\", monospace;;\n    font-size: 13px;\n    color: #555;\n    margin-left: 4px;\n    line-height: 19px;\n  }\n</style>\n<div class=\"ansiout\"></div>"
            ]
          },
          "transient": null
        }
      ]
    },
    {
      "cell_type": "markdown",
      "metadata": {
        "application/vnd.databricks.v1+cell": {
          "title": "",
          "showTitle": false,
          "inputWidgets": {},
          "nuid": "2f932f4f-ceef-464a-8f9d-6c85f4e911bc"
        },
        "id": "v-EhD_Hdw-nP"
      },
      "source": [
        "### Building Model"
      ]
    },
    {
      "cell_type": "code",
      "metadata": {
        "application/vnd.databricks.v1+cell": {
          "title": "",
          "showTitle": false,
          "inputWidgets": {},
          "nuid": "48d11670-3d60-4099-8327-1c7414f697fa"
        },
        "id": "VWBoLxCRw-nP",
        "outputId": "4bd011d4-adeb-4228-8d17-72d10197ec80"
      },
      "source": [
        "lr_model = pipeline.fit(train)"
      ],
      "execution_count": null,
      "outputs": [
        {
          "output_type": "display_data",
          "metadata": {
            "application/vnd.databricks.v1+output": {
              "datasetInfos": [],
              "data": "<div class=\"ansiout\"></div>",
              "removedWidgets": [],
              "addedWidgets": {},
              "metadata": {},
              "type": "html",
              "arguments": {}
            }
          },
          "data": {
            "text/html": [
              "<style scoped>\n  .ansiout {\n    display: block;\n    unicode-bidi: embed;\n    white-space: pre-wrap;\n    word-wrap: break-word;\n    word-break: break-all;\n    font-family: \"Source Code Pro\", \"Menlo\", monospace;;\n    font-size: 13px;\n    color: #555;\n    margin-left: 4px;\n    line-height: 19px;\n  }\n</style>\n<div class=\"ansiout\"></div>"
            ]
          },
          "transient": null
        }
      ]
    },
    {
      "cell_type": "code",
      "metadata": {
        "application/vnd.databricks.v1+cell": {
          "title": "",
          "showTitle": false,
          "inputWidgets": {},
          "nuid": "ba18a2f2-dc8b-4ff2-8210-1746d0636b8f"
        },
        "id": "Z1zd3BnOw-nP",
        "outputId": "3177286b-bff9-4a90-e322-882b4f440406"
      },
      "source": [
        "### Testing Model\n",
        "predictions = lr_model.transform(test)"
      ],
      "execution_count": null,
      "outputs": [
        {
          "output_type": "display_data",
          "metadata": {
            "application/vnd.databricks.v1+output": {
              "datasetInfos": [
                {
                  "name": "predictions",
                  "typeStr": "pyspark.sql.dataframe.DataFrame",
                  "schema": {
                    "fields": [
                      {
                        "metadata": {},
                        "name": "TweetAt",
                        "nullable": true,
                        "type": "string"
                      },
                      {
                        "metadata": {},
                        "name": "OriginalTweet",
                        "nullable": true,
                        "type": "string"
                      },
                      {
                        "metadata": {},
                        "name": "Sentiment",
                        "nullable": true,
                        "type": "string"
                      },
                      {
                        "metadata": {
                          "ml_attr": {
                            "name": "label",
                            "type": "nominal",
                            "vals": [
                              "Positive",
                              "Negative",
                              "Neutral",
                              "Extremely Positive",
                              "Extremely Negative",
                              "social distancing",
                              " N. Y. - April 10",
                              " Corona Virus",
                              " Stay with us",
                              " but we also need to change other activities that demand more and more forest land",
                              " delivery",
                              " ecological collapse",
                              " however",
                              " just \"\"selfish pigs who only think about themselves\"\".",
                              " not going to the pharmacy",
                              " of course",
                              " or click the links\"\" #AlwaysWatchingOutForYou",
                              " state governors say theyre now bidding against federal agencies and each other for scarce supplies",
                              " supermarket workers",
                              " \"\" Well covid-19...\"\"  She rolled her eyes and \"",
                              " \"\"1 lakh beds already prepared for COVID-19 testing.\"\" and \"\"India has enough medicine and food stock\"\"",
                              " \"\"We'll be https://t.co/e49zUcJV70\"",
                              " \"\"Who needs BlackFriday anyway with steep discounts to cream it when you got COVID?\"\" #GreedyBastards https://t.co/cz7v14RzzA\"",
                              " \"\"You stay at home for Us\"\". ",
                              " \"\"You'd better stock up!\"\"",
                              " #Boris. #coronavirus #blackmarket #spivs\"",
                              " #China stockpiled around 2.4 billion pieces of protective equipment",
                              " #Eurozone",
                              " #ImpactInvesting",
                              " #Newsnight. If people can't afford rising food prices",
                              " #QuaratineAndChill",
                              " #Trump is urging the cartel to do just that.\"\"",
                              " #covid19",
                              " #shoemaking",
                              " #virus",
                              " #wheat prices exploded",
                              " $AZO",
                              " &amp; others who are literally out there.",
                              " 'Im pretty sure I have it; Im going to the doctor now. I just have to stop at Whole Foods first.'\"\" #covid19 #coronavirus https://t.co/LWq4QokAbn\"",
                              " 1 USD pays for 5 (!) meals https://t.co/TIB7WXWRov\"",
                              " 13",
                              " 2019",
                              " 2020 - US &amp; Canadian Border Closure &amp; Economic Impact of Oil Prices\"\" on @Spreaker #borderclosure #brampton #caledon #coronavirus #covid_19 #mississauga #oilprices #peelregion #sauga960am #us_canada https://t.co/0anwAGDI1G\"",
                              " 2020 at 08:20AM #Coronavirus https://t.co/MnMM69d9u5\"",
                              " 2020.\"\" #coronavirus",
                              " 2nd wave",
                              " 4 weeks after COVID-19 began to spread",
                              " 6 ft apart STAY HOME\"",
                              " 7th Edition\"\" ",
                              " ???????? ????????? ?? YouTube ???? ?? ???? ??????? ????????? ???????. ??? ?????? ??????",
                              " @KatrinaAClarke reports #HamOnt #COVID19",
                              " @PtRightsAdvoc via @LasVegasSun ",
                              " @Sendiks and @AWGCorporate! #grocery #supermarket #covid19 #coronavirus #grocers #foodretail #retail https://t.co/FglsnPoj4k\"",
                              " AND WHAT THEY MEAN FOR MARKETERS\"\" @adage\"",
                              " Agencies Say\"\"; \"\"COVID-19 Pandemic",
                              " Amazon announced March 16 that it will open 100",
                              " April 7",
                              " April 9th",
                              " As Buffer Stock Has Enough Food Stored - CEO - Vimnewsgh\"\" https://t.co/HKDf8E98au\"",
                              " Ashley Young shares Covid-19 advice - https://t.co/7RojE92CdG https://t.co/8xPGp9fbag\"",
                              " BESCOM works 24*7 to ensure uniterrupted electricity. During COVID-19 pandemic",
                              " Bakery etc. This isour \"\"Islamic Republic of Pakistan\"\". Shameful moment for #PTI government #Covid_19\"",
                              " Big Tech could benefit from changes in consumer habits.\"\" https://t.co/ZHO48KP0LI GATE is here to provide you with the tech-saavy staff that you need to keep your business successful",
                              " CDC recommends wearing cloth face coverings to slow spread of #COVID19 in public settings where other social distancing measures are difficult to maintain (e.g.",
                              " COVID-19 related disruptions such as travel and movement restrictions have caused artisanal gold supply chains to collapse",
                              " Chairman &amp; CEO",
                              " Corps like @Boeing @united @trumphotels etc",
                              " Costco and Target fell for the first time in weeks as coronavirus stockpiling behavior shifts\"\" #coronavirus #COVID19",
                              " D2C #ecommerce sales reached $14.28 billion in US. Per forecast 2020 sales will grow by 24.3%",
                              " Devastating\"\" https://t.co/HjVwbTAd1P @ClimateNexus @nytimes #oilcompanies #prices #coronavirus #oilandgas #budgets #gasoline #diesel #jetfuel #pipeline #crudeoil #pipeline #storagetanks #frackingcrews https://t.co/FkIl0IWOyF\"",
                              " Even as Food Demand Skyrockets",
                              " France",
                              " Hand Sanitizer",
                              " I am regretting tht shit ):",
                              " I am sure that they will not get to work in the office..\"\"",
                              " I drove out to the farm Ive supported through a CSA program the past few years. I wanted to stock the fridge as calls for social distancing were ramping up due to COVID-19...\"\"",
                              " I presume that you won't jack up prices.\"",
                              " I'm currently more concerned about the people panic buying and the rest of us being unable to access food than I am about catching the actual virus.\"",
                              " I'm happy to help you with it at a factory price. https://t.co/kaSBHka0V3\"",
                              " IFB vice president: https://t.co/oe6lKTyjku https://t.co/YW7KJMEHPC\"",
                              " Im sure you have been touched by the videos of people applauding #healthworkers from their balconies",
                              " Jordan",
                              " Jubilee Orchards",
                              " M.D.",
                              " Mohamed Kaahin. https://t.co/pCQa3fK9ru\"",
                              " Mumbai or Pune",
                              " N. Y. - March 20",
                              " N.Y. Hospital Converts Sleep Apnea Machines Into Ventilators\"\"",
                              " Nenshi says: public health impact of COVID-19",
                              " New Jerseys biggest health-care network",
                              " No Service\"\" policies in place",
                              " No!",
                              " Phillips66 and former Continental CEO Harold Hamm.\"",
                              " Pick-Up",
                              " Rattles Producers\"\" https://t.co/wu24I1SsBI @SuccessfulFarm #chicken #stockpile #food #quarantine #Covid_19 #restaurants #supermarket #StayAtHomeOrder #foodprices #globaleconomy #virus #pandemic #diet\"",
                              " San Pedro City",
                              " Spain",
                              " Stay Home-Be Safe\"\"",
                              " Sub-Saharan Africa Consumer Research Analyst  ",
                              " Teachers",
                              " Thank You for your services. Everyone is sitting at home and #coronavirus #UKLockdownNow #COVID19 .\"",
                              " Totino's would like all of our customers to know that since half of America will not leave the house for weeks during this covid-19 crisis",
                              " Utilities etc\"",
                              " VP",
                              " Va. -- home of @realdonaldtrump's Virginia golf club.",
                              " Vaccines and Treatments\"\" https://t.co/upvPXU8IEa\"",
                              " Vaccines and Treatments\"\": Because #COVID19 has never been seen in humans before",
                              " Woodstock sanctuary",
                              " [food bank] demand has quintupled this season. Almost half of Rapaports customers are new",
                              " a Coronavirus Companion\"\"",
                              " a complex web of interactions involving farmers",
                              " a consumer-driven global recession could be the next threat posed by the pandemic",
                              " a manager at the market tells me. ",
                              " a new at-home interactive food experience in Los Angeles that has been designed specifically for this current COVID-19 quarantine life. \"\" Strange times demand strange pizza. Sign me up!  https://t.co/UjhdRLTYaK\"",
                              " a new dawn of supermarket #logistics is at hand. After 40 years of just-in-time delivery model",
                              " a new dawn of supermarket logistics is at hand. Old rivals are going to have to (...) kickstart a new system that involves working together to keep the country fed.\"\" reports @WiredUK",
                              " a reminder that we're seeing signs that the opposite is actually happening. https://t.co/9Dt6EQ6FU2\"",
                              " a salesperson from @abt facetimed us and sold us new appliances. @salesfloor is now offering its tech stack to do this at scale for free. Great way to keep retail associates productive! https://t.co/v145JN3EGm\"",
                              " a stock market nose-dive",
                              " according to various reports",
                              " acts of #kindness during the #coronavirus #pandemic are providing #uplifting moments of #joy in a #UnitedStates beset by #anxiety.\"\" https://t.co/RefLNn8cL0\"",
                              " after 2 weeks of extreme isolation new case numbers/day should \"",
                              " after panic-buying amid the #coronavirus outbreak",
                              " again",
                              " against the advice of Canadian officials. https://t.co/n0yw9aKJ55\"",
                              " all skyrocket in use",
                              " along with a comprehensive benefits package. ",
                              " along with a pair of sunglasses. I'm sure I looked creepy",
                              " also vowing to roll back all Trump administration regulations and executive orders that harm the environment and \"",
                              " and @lloydblankfein arguing that stock prices are more important than ~1M American lives.\"",
                              " and Attorney General Paxton advises all Texans to be on alert for electronic communications with dangerous attachments or fraudulent website links.\"\" #txlege #COVID19",
                              " and consider if you really do need a delivery",
                              " and consumer discretionary spending will be WAY down. @JimCramer\"",
                              " and could shape consumer sentiment and future policy decisions.\"\" #OWHealth https://t.co/vPgoT6CWjl\"",
                              " and fairer.",
                              " and fairer. They are immune to oil prices",
                              " and generally just being damned selfish!!! #coronavirus #SelfIsolation #Hoarding #BeKind https://t.co/zUu4XGvqY6\"",
                              " and government impostor scams are all on the rise.",
                              " and imagine someone blowing mouth water onto your face like these two staffs at the grocery store did.   #Covid_19\"",
                              " and lynx's doorstep visit delights social media users. https://t.co/ZqetoX6Xrs\"",
                              " and not through choice. so please self isolate in our place",
                              " and now food banks all across the country are facing a great demand.\"\" @RobinRoberts",
                              " and once the crisis is over",
                              " and things are never going to go back to the way they were\"\"",
                              " and those who are more concerned with having fun shopping are t\"",
                              " and tried to sell me their CD. This is PEAK WTF level for me.",
                              " and what does that mean for broader consumer behavior?\"\"",
                              " and what they mean for marketers\"\"",
                              " and yesterday oil prices fell to their lowest level since 2002 in a sign of the deep distress our economy is facing.\"\"",
                              " and you're not even an American!\"\"\"",
                              " announced ...click on image to read on...pls retweet :-) https://t.co/RhSMXTfX9C\"",
                              " anti-government protests",
                              " apparently that's all you need to ensure your death",
                              " appliances",
                              " appreciate that President Conte puts his face;  use time at home to contemplate and reflect on the really important things!\"\" F 37",
                              " arrested for licking food items in a supermarket and posting video of it.",
                              " as COVID-19 forces food assistance organizations to manage dwindling inventories",
                              " as U.S. companies and government officials seek a smooth-flowing food-supply chain without causing panic over potential shortages and worker safety.\"\"",
                              " as businesses across the nation face disruptions amid the ongoing #lockdown",
                              " as lower oil prices and a dip in economic activity amid the #coronavirus pandemic more than offset upward pressure from the liras depreciation.\"\" @cagankoc's @economics report:",
                              " as of late March",
                              " as the restaurant and food service demand crumbled rapidly due to COVID-19. ( Ben Butler",
                              " as the world grapples with Coronavirus contagion. I'm not saying we should mercilessly beat people who do this but....yeah. #coronavirus https://t.co/MfmVeBoe3R\"",
                              " as we follow guidelines...\"\" HELP",
                              " as well as posting online! #COVID2019 #EssentialWorkers\"",
                              " at prices that dont already reflect the possibility of a bailout.\"\" https://t.co/2FDfj5qV6T\"",
                              " avoid pubs",
                              " bank managers. The list is endless.",
                              " be #healthy &amp; #immune",
                              " be a man. Use your hand\"\"  If you don't know",
                              " be more hygenic in times of #coronavirus This is Unacceptable",
                              " be safe out there people!! #cribdelacurse #universe #transforming #coronavirus #corvid19 #besafeeveryone #sanitizer #mask #roland https://t.co/KRInBVhPK0\"",
                              " because almost everywhere other utilities",
                              " before assuring Australians the country has food security. https://t.co/UKKl1qzpkQ\"",
                              " between each #tenant and their respective #landlord. But whttps://t.co/M9irxZEghg https://t.co/idnyot1thv\"",
                              " bev &amp; consumer packaged goods are exempted from the gathering &amp; curfew bans that are starting to take effect. https://t.co/pxjldZ9oSh https://t.co/rNO2Va9NBp\"",
                              " billdesk",
                              " bizarrely it had no filters on it",
                              " blaming #coronavirus on USA and Italy",
                              " bus drivers",
                              " business relief",
                              " but 32% are shifting to completely buying online rather than shopping in physical stores\"\"",
                              " but I'm on one today and every day hereafter when it comes to anything even tangentially related to #COVID19/#Coronavirus. If I see you selling disinfecting wipes/sprays",
                              " but also by environmental",
                              " but also on its ability to forge a seamless connection between millions of individuals and #Amazon.\"\"",
                              " but also to the interests of others.\"\" -Philippians 2:4",
                              " but as Keynes pointed out this would be socially unjust. The correct alternative would be higher taxes on wealth and incomes\"\" @RSkidelsky https://t.co/6cXSk11iul via @prospect_uk\"",
                              " but because it was the only thing in abundance. #COVID2019 #TotinosAreLifeNow\"",
                              " but for a limited time! For every merch sold",
                              " but if stores had doubled the price of #toiletpaper early on",
                              " but in the supermarket this morning",
                              " but instead of brick",
                              " but masks aren't available to them",
                              " but not any of the\"",
                              " but not vulnerable countries: the pandemic poses a serious threat to food security at the local level.\"\" Read more here: https://t.co/ykY4CuGdoZ https://t.co/wh6IFGXl7z\"",
                              " but orders from food-service operators fell.\"\" https://t.co/I96mBOfdZ8 @BurnabyNOW_News\"",
                              " but sad\"\" story: the average #onlineshopping conversion rate has",
                              " but some are calling on the network to cut wholesale prices. https://t.co/T2rcs18ML4 h/t LightReading\"",
                              " but the company cannot control the prices dealers or retailers charge for 3M respirators.\"\" https://t.co/AGlPcRqw40\"",
                              " but there is no need to stockpile at this point.\"\" #COVID19 #Coronavirus\"",
                              " but theres no need to hoard products or panic about food during this coronavirus (COVID-19) pandemic.\"\" https://t.co/CHgEIYRyfh @AgWebEditor #COVID19\"",
                              " but theyre already reporting changes in their income",
                              " but very few were able to predict consumers would want their own safety stock. https://t.co/9htwkj9DNi\"",
                              " but wanted to highlight some major ones: https://t.co/1whYfIal70\"",
                              " but we are happy to help",
                              " but we have to acknowledge life is weird right now. That from a place where life is still relatively unchanged thus far.  #Covid_19\"",
                              " but weve certainly flattened the economy.\"\" https://t.co/YF0GnOZHJ5\"",
                              " but you still need to eat. @amandamull untangles the physical and moral hazards of ordering takeout or going to the grocery store during a pandemic.\"\" https://t.co/ke8c4iKD0j #coronavirus\"",
                              " but\"",
                              " buy and hoard masks that are most appropriately used and necessary for the front-line health care workers who do need it for the clear and present danger\"\" they face.",
                              " cash-points",
                              " claiming the news station",
                              " cleaned",
                              " closed the borders",
                              " co-owner says\"\"",
                              " cold beaches and toilet paper: COVID-19 and sudden",
                              " come gather round friends",
                              " companies strategies will need to focus on fortifying their web presence and",
                              " connected global city\"\" shows @GladysB doesn't understand that the #coronavirus and its future versions have just changed the world. Not to mention that low oil prices will trigger another oil crisis\"",
                              " consume media and how they regard the brands they do business with.\"\" Find out how here: https://t.co/4hEUjUNJtY https://t.co/h4xtvzePI5\"",
                              " consumed more",
                              " consumer and more. Please RT!",
                              " consumer behavior turns out to be remarkably unaccommodating to civilizing tendencies.\"\" -Benjamin Barber",
                              " consumer capitalism and #coronavirus\"",
                              " consumer spending in grocery stores surged dramatically",
                              " containing chloroquine phosphate",
                              " counterintuitively falling as the #coronavirus economic hit has become horribly apparent.  A rebound is now afoot. Get your market update from DavidCottleFX here:  https://t.co/1xgeIF2vrq\"\"\"",
                              " creating more trouble for Calgary landlords already struggling with huge vacancy rates.\"\" https://t.co/Ilq1wqn0bF #CRE @westerninvestor\"",
                              " cruise",
                              " custodial staff",
                              " despite #coronavirus impact\"\"  Consumer sector businesses  say they will maintain previously planned investments  at 46%  and 8% saying they would increase planned investments https://t.co/gGh3HCy7jH\"",
                              " die from hunger.854 million people worldwide are estimated to be undernourished",
                              " dir. of L.A. County Dept of Public Health. https://t.co/lFFIgWuTYk\"",
                              " disinfectants &amp; other products needed to combat the spread of the #coronavirus are being exacerbated by the Trump admin's tariffs on Chinese imports",
                              " does it? #coronavirus #WuhanCoronaVirus #COVID?19\"",
                              " dramatically curtailing consumer demand.\"\"",
                              " e-commerce and away from brick and mortar",
                              " eat more meals at home and stockpile essentials",
                              " ensuring that low oil prices  [will] force all producers to [cut production].\"\"",
                              " especially #nurses #Doctors as I wore a #facemask to the grocery store and got anxiety just for wearing it for 1 hour.?",
                              " etc #coronavirus https://t.co/lqItAHT4vD\"",
                              " etc please contact Cheney Brothers at 478-250-3699. Office: 352-291-7800",
                              " etc.? #COVID2019\"",
                              " even among the best of times.",
                              " even if it means giving up on their own privacy in the process.\"\" https://t.co/24YkJ5HZMd\"",
                              " even now",
                              " everybody else had clothes on\"\" (@metalli445 and @PattyeLJ",
                              " expands its home delivery and creates an extra 3500 jobs.\"\"",
                              " experts in the food supply chain say the system is built to endure",
                              " experts say.",
                              " factories to run",
                              " falling 2.2% from the day before",
                              " farmers and ranchers are eager to work with the Agriculture Department to bridge the supply gap and get farm products to those in need...\"\"",
                              " fast food workers",
                              " financial markets were in an inherently unstable condition. Years of.. https://t.co/rofXLLBbwL\"",
                              " find them here: https://t.co/c6GYaMNdvM\"",
                              " firefighters etc.... ?",
                              " food prices",
                              " for elderly and vulnerable customers.\"\" #coronavirus #sainsburys https://t.co/UOQqrxTiPo\"",
                              " for example",
                              " for the purposes of collecting unemployment insurance",
                              " forcing the store to throw out an estimated $35",
                              " frailties that",
                              " fresh",
                              " giving the elderly and disabled a dedicated hour to shop amid the #Coronavirus pandemic",
                              " gloves",
                              " gloves bad",
                              " grocery store employees",
                              " grocery store shortages",
                              " grocery workers increasingly fear showing up at work https://t.co/FZf7zhCxYM\"",
                              " hand sanitiser and other products which never arrived.\"\" @FT https://t.co/IoSiiHH9II\"",
                              " handing you food",
                              " hang up! https://t.co/Y6WDfvweoW https://t.co/sXMyuMgVa7\"",
                              " har de her harrr...\"\" as they frantically try to restock products w/out getting trampled by greedy assholes in the process. Not even a little funny. Fuckers.",
                              " harvesting as many chickens as we can",
                              " have you got any paracetamol in still?\"\"",
                              " he used a voucher to get a discount... Absolutely disgusting! ",
                              " he'll bash #Coronavirus up.",
                              " here are some tips for protecting your devices and personal information.\"\" https://t.co/YwRLhoIfsM https://t.co/dxHBk3UCNu\"",
                              " hereby",
                              " higher for other plays. Halliburton reportedly said low oil prices would lead to 2/3 of rigs gone by Q4. US oil sb in good decline when COVID-19 eases #OOTT https://t.co/Ob44oCvWw1\"",
                              " hotels...)",
                              " how salty could it be?\"\"",
                              " however you're putting yourself at risk just by ordering outside food.\"",
                              " https://t.co/bYJirZ1OZ7 #intermarkgroup #psychologymarketing #covid19\"",
                              " humans and other animals can have an increased drive toward hoarding behaviors.  However",
                              " hunger relief organizations",
                              " if people get exposed to the virus in supermarket queues today! So please keep distance ?",
                              " in a survey of 1068 Americans",
                              " in particular",
                              " in these times when so many people are worried about the security of our food supply",
                              " in this case it appears to have strengthened them.\"\"",
                              " including because of \"\"massive suicides",
                              " including comfy bras",
                              " including farmers markets",
                              " including isopropyl alcohol",
                              " including loan guarantees\"\"",
                              " including medicines.",
                              " including trips to the grocery store. What was previously a mundane task has turned into a nerve-wracking ordeal that b\"",
                              " increased demand long way off. @LSUResearch @LSUNews #oilandgas #coronavirus https://t.co/22ZNy1ShxW\"",
                              " instead of shopping online",
                              " investment bankers have been candid on investor calls and during health care conferences about the opportunity to raise drug prices.\"\" #coronavirus",
                              " it gave us a chance to slowly do our shop.\"\"",
                              " it is very respectful to me as a consumer. #MaddensMethods\"",
                              " it proved to be the worshttps://t.co/KpWd5TWoVu\"",
                              " it was an administrative error\"\" Pure BS!\"",
                              " it was possible to at least wishfully imagine that grocery stores were somehow immune to the virus. Now the risk has become even more apparent: Yes",
                              " it's a little vial bottle with drops.",
                              " it's going to kill people.\"\"",
                              " it's important to note that @auspost Post is still operational... you'll still be able to send and receive domestic parcels and mail",
                              " it's never gonna happen",
                              " it's the beginning of the end for #fracking\"\"",
                              " its good for our customers as we can deliver within hours ",
                              " just keeping track.\"\"",
                              " just want to say thank you. Thank you to everyone specially the driver! ? #Covid_19\"",
                              " keeping specialists away from infected patients when applicable.\"\" https://t.co/Aysl3AR06o InteliChart is offering telehealth services at no cost through July 31. https://t.co/tcd4xn86iQ #telehealth #COVID19 #coronavirus https://t.co/nIJSP4PLcu\"",
                              " keeping them open is important.\"\"",
                              " kindness..",
                              " led by economist Jack Mintz",
                              " let's not hoard. Consider dropping food at the local Food Bank; the poor can't afford to stock up. There CAN be love in the time of COVID-19.\"\"",
                              " levels of sustained",
                              " like",
                              " like after 9/11. That's ok because change is constant....and sometimes good. #covidchange #postcovidworld #newnormal The consumer after COVID-19 https://t.co/k7XMRYovmk via @marketingdive\"",
                              " like ocean freight to keep costs down. But bc of ??demand",
                              " linked to at the top of the retweeted article",
                              " listen to the doctors and even then",
                              " lol...\"",
                              " lorry drivers",
                              " major retailers and experts say",
                              " major retailers and experts say. https://t.co/ThpOJ1znVd https://t.co/ZMlp4WDSmN\"",
                              " major retailers and experts say.\"\" https://t.co/0pNxcGVWvi\"",
                              " mama mboga",
                              " managed to get nothing I wanted. People need to stop this ridiculous panic buying! Some of us have to still work which gives us no time to shop! This country is a joke! #coronavirus\"",
                              " managing director at Mizuho Securities",
                              " many are striking and joining sick-outs to demand better conditions and pay. @thecut has more: https://t.co/6vjpRmUtZl https://t.co/nVWVKkUprP\"",
                              " many observers hold that normal consumer behavior will promptly reassert itself",
                              " masks",
                              " masks are still being listed! #PriceGouging #Hoarding #COVIDIOTS #COVID19 #coronavirus https://t.co/RaEbR6V6mg\"",
                              " meaningful connection between a brand and a consumer. #InfluencerMarketing helps reinforce this bond because people really buy into people's stories",
                              " mechanics etc still out there too!",
                              " medics cannot do miracles.  Going to supermarket - coughing on the handle of a trolley",
                              " meditation",
                              " milk and paper items are taking off the racks as quick as they are restocked after the interest for staple things flooded since the World Health Organization (WHO)  https://t.co/0BY8vLhET6\"\"\"",
                              " milk powder gone\"\"",
                              " more people will move out of their houses and crowd shops",
                              " need urgent help - please keep price stable while peoples are staying at home to confront #coronavirus challenge. https://t.co/7owfqSpEmw\"",
                              " needed medical supplies",
                              " neither will milk.\"\"",
                              " no flour. At least In 1 supermarket",
                              " no respect for social distancing or the law. Wales is closed. You are endangering local residents. #StayHomeSaveLives\"",
                              " no will to draw\"",
                              " normalcy pre-and-post coronavirus will be different.\"\"",
                              " not Church.",
                              " not even grocery stores can keep up the facade of normalcy. As many health experts have feared",
                              " not going to sit at home whilst my wife works saving lives in this crisis\"\" rather than \"\"working in a supermarket is shameful\"\"\"",
                              " not leave it to grocery store \"",
                              " now he needs our help fighting Corona",
                              " now that the economy dumped and supermarkets/online retailers can't keep up with demand. Fruit/veg plants/seeds sales are through the roof as everyone plans to grow their own food. #coronavirus #COVID2019 https://t.co/rZXfpl5i0g\"",
                              " nurses",
                              " oil prices fall",
                              " on a per capita basis",
                              " one thing is clear: stockpiling is not an option for the economically vulnerable.\"\" @amyvhaddad  #COVID19 #COVIDaus #stockpiling https://t.co/ZpKRzNty0A https://t.co/LfAaeA2PDB\"",
                              " online education",
                              " online retailers are leveraging the cost-effective value of #AffiliateMarketing ever more to help reach todays consumer and fuel online revenue growth.\"\" https://t.co/zKuKIRDCjf @LinkConnector https://t.co/UMXi0pc3Lf\"",
                              " only a few preliminary conclusions can be cautiously advanced. Firstly",
                              " openings due to COVID-19\"\" https://t.co/DDoUT6Qdpf #Supermarketnews\"",
                              " or a range bc wait times are up #COVID19nz\"",
                              " or as normal as we'll be after this",
                              " or companies will have to figure out new ways to move things around.\"\" https://t.co/jlZXZyvn9O #coronavirus\"",
                              " or give me death!\"\" speech.",
                              " or grocery store",
                              " our bank tellers",
                              " our cars",
                              " our forecast of annual growth in dividends is down 28% in the US and 25% in the EU",
                              " our incredible store teams are exhausted and co\"",
                              " our prices are now...\"\" notices. After the \"\"welcome back\"\" specials",
                              " overwhelming majority of customers were buying a few extra items because they and their families must now eat every meal at home.\"\" NickCohen #coronavirus @mrjamesob\"",
                              " pangolin sales falter with Covid-19\"\"",
                              " pants and jocks that I was wearing on that particular day.\"\" #YouCantAskThat - Tonight 9pm. https://t.co/o58GSj7xqY\"",
                              " particularly for emergency pantry items and health supplies\"\"",
                              " pasta",
                              " pay for childcare and stock up on food.\"\"  https://t.co/VSJA1hp6RF\"",
                              " pay with cash and pack bags over the top of you. #coronavirusuk #Covid_19 https://t.co/JqVzmUC3Fy\"",
                              " people that I talk to now have a completely different opinion on what things were two weeks ago.\"\" https://t.co/F29DCCpWgm\"",
                              " pharmacy",
                              " physical spaces",
                              " pills",
                              " please don't toss them in the supermarket parking lots. Some poor kid has to pick them up! https://t.co/cCLVIlTCDe\"",
                              " please refrain from entering the store\"\"",
                              " please remember that if you are loading up on processed foods during this time",
                              " please save them from this COVID-19. Please sustain them and let them feel your comfort and love ??\"",
                              " please take pics or video and make them famous. Let's see how many use them after the crisis has passed. #pricegougers #pricegouging #pricerises #CoronaCrisis #CoronavirusPandemic #Covid_19 https://t.co/IukgDamLFO\"",
                              " police officers",
                              " potatoes &amp; vegetables??",
                              " prices may drop far below where they were before. #coronavirus\"",
                              " public gatherings limit of 10",
                              " pushing my cart down a row of refrigerators in the dairy section",
                              " putting all grocery workers at great risk? @OutnumberedOT\"",
                              " queues",
                              " racism",
                              " re-engage your customers in meaningful ways rather than pushing products.\"",
                              " recession",
                              " reduces operations in S.A. due to #Covid_19 https://t.co/0BFEsLmltQ https://t.co/NQOUJjKkd3\"",
                              " reduces operations in S.A. due to #Covid_19 \"",
                              " refuses to close despite government orders in the wake of coronavirus: https://t.co/3l9ITqzzEn #Gamestop #coronavirus https://t.co/kAHJ7ZwaWc\"",
                              " remember: Rupert Murdoch produces a wide range...\"\"",
                              " rising real estate prices in urban clusters &amp; visa restrictions in a de-globalising world may all make remote collaboration more valuable than ever",
                              " rolled up the window and bounced. She's \"",
                              " sanitizing intensive care units",
                              " says authors who spoke out \"\"should know better\"\" https://t.co/zMYoDo3BnV\"",
                              " says that as a result of covid-19 his company has brought forward by several years the time when it expects the share of shopping done online in Britain to double from its current 20% already among the highest in the world\"\" https://t.co/UgcjI0EU7m\"",
                              " scammers are preying on your fears. Canadians are being warned to be careful of the scams that are circulating. Read more here: https://t.co/kEynPu36XZ\"",
                              " school staff and delivery drivers.\"\" ",
                              " short supplies",
                              " shrinking habitat",
                              " similar to what CCAs are offering in CA https://t.co/OlHkyldwqH @ebce_ceo\"",
                              " sir.\"\"",
                              " smile as she loads multiple boxes of toilet paper and paper towels after buying out the entire local 'Dollar Tree' store so that no one else can buy any.",
                              " so",
                              " so I am happy we are able to help out in this way",
                              " so do the scams associated with it.\"\"  they have listed 6 recommendations to follow.",
                              " so doesn't understand all the fuss! Cognitive dissonance is real",
                              " so supermarkets keep operating",
                              " so the de\"",
                              " so there'll be a lot of online shopping I assume! #coronavirus\"",
                              " so would be any other consumer goods company that produces cleaning and sanitary products which was earlier a \"\"kind of\"\" commodity market. #coronavirus\"",
                              " some 6 million barrels per day of \"\"homeless crude\"\" might literally have nowhere to go.\"\" Repeat: ENGINEERED ECONOMIC CRASH.",
                              " soon",
                              " sources said on Thursday. ",
                              " spirits",
                              " spot the scams\"\" https://t.co/UvLZ9lOO0v #FTC #scams #coronavirus\"",
                              " staff our hospitals",
                              " starting 3 weeks ago",
                              " state governors say they're now bidding against federal agencies and each other for scarce supplies",
                              " stock food and supplies",
                              " stockroom staff",
                              " stocks will rebound but fr 20%-30% below current prices. Like 2008...investors...slow to return...stocks may well underperform as high P/E ratios...normalize",
                              " subsidy is an elitist thing because it is the elites that benefit. They are the ones that have SUVs",
                              " such as distillery making hand sanitizer",
                              " such as shops",
                              " supermarket staff",
                              " supermarket workers -",
                              " supermarket workers and delivery riders are among the unsung heroes of this crisis  frequently unprotected",
                              " switch places with me. #COVID19 #coronavirus #StayHome\"",
                              " teachers",
                              " teachers and grocery store attendants.",
                              " terminals were shuttered",
                              " tests",
                              " than with @realDonaldTrump under the #CoronaVirus threat.",
                              " that are currently doing all the panic buying and hoarding of goods. People on benefits can barely afford the essentials let alone hoard food and toilet rolls",
                              " that online shopping/grocery delivery would become easier &amp; faster",
                              " thats why someone still trying to go to work. Realizing not all can have at least one week of food stock. Hoping covid-19 will leave our country...\"",
                              " the COVID-19 pandemic creates an obligation for payers to offer people  customers",
                              " the Morning Consult Index of Consumer Sentiment (ICS) is at 89.41",
                              " the UK property market is very robust",
                              " the benchmark crude price for tar-sands producers",
                              " the company producing remdesivir",
                              " the economy is basically the stock market. Hes obsessed with it",
                              " the fall in oil and stock prices has widened bond spreads and put pressure on the Naira.\"\"",
                              " the first step in that direction would be seeing sellers drop their listing prices. 'That hasn't happened.' \"\" https://t.co/EpIzl5CZsh\"",
                              " the gas store workers",
                              " the largest food retailer in #SouthAfrica with a R150.4 billion turnover &amp; a 30% market share",
                              " the man in charge of coronavirus-proofing Walmart stores in Canada. Though dressed like a store clerk",
                              " the more lives were saved.\"\" Great read via @NPR ?? https://t.co/0QcNWNSwgm\"",
                              " the ones who have currently lost their jobs",
                              " the panic may wane even more.\"",
                              " the price of food and other supplies has doubled in Kabul markets over the past 24 hours\"\" #COVID2019 ",
                              " the social distancing and deprivation is really intense. We will all be craving a bit of entertainment",
                              " the style of Covid-19 Mortality presentation reminds of the awful football results program on Saturday afternoons in the 1970s. In a house await... https://t.co/QW9tLG3a3j\"",
                              " the system collapses...\"\"",
                              " the virus that causes COVID-19",
                              " the week seems to go on forever",
                              " the world will be changed. Crisis-buying patterns will spark permanent changes in consumer behavior. The work you do now will lay the foundation for ongoing success on the other side. \"\"",
                              " then another copy of \"\"Contagion\"\" and moved it to the top",
                              " then the image of an empty shelf is the exception",
                              " then there will be no such expected recovery. consumer consumption may spike",
                              " then youre going to think that theres no food available. Ive seen a lot of that imagery when really thats not indicative of the actual availability of food.\"\"  @aubsn ",
                              " there are a lot of people who are working overtime to meet the needs of their communities.\"\" @AjitPaiFCC https://t.co/WEp57Pf19a #coronavirus\"",
                              " there are smart steps to take to keep your baby healthy and fed.\"\"",
                              " there is a good chance that inflation will be negative for a period of time this year",
                              " there is enough food.\"\" ",
                              " there's plenty for everyone and please BACK OFF!! 2 metre rule ?\"\" #SocialDistancing #CoronaCrisis please don't #panicbuy and there would be enough to go round\"",
                              " thermometers and baby formula despite crackdown\"\"",
                              " they are saying police didn't allow us to open.  They said \"\"We will give u particular time to open\"\"  just think of Rush of people at that time..(1/\"",
                              " they have potatoes now! That's a good meal right there!\"\" ",
                              " they should add \"\"moronic attacks\"\". https://t.co/Efyg77aw6L\"",
                              " theyre also buying their fair share of alcohol. Sales at liquor stores are up  amid the COVID-19 pandemic.\"\"",
                              " this Email is to assure you that we are looking after you during the #coronavirus pandemic. By no longer accepting returns",
                              " this could trigger the decision to purchase more product upfront. ",
                              " this is nothing to do w/ socialism and everything to do with panic",
                              " those retail business without the right treatment will not survive.\"\"",
                              " those who have lost their jobs due to all the shutdowns\"",
                              " though also quietly sad.\"\" https://t.co/DXwKJt0Q5G\"",
                              " to bars and restaurants",
                              " to move to online/remote learning. But children of essential workers will still be able to go to school",
                              " to protect each other",
                              " to the supermarket",
                              " to work",
                              " toilet paper and other items are in demand because of COVID-19...The Consumer Protection Act prevents businesses from grossly raising prices with no explanation beyond what is reasonable and available elsewhere.\"\" https://t.co/mkWNO9JmqQ\"",
                              " transportation",
                              " travel",
                              " truck drivers",
                              " tubers",
                              " unprecedented backdrop",
                              " upcoming stress from collapsing demand will reflect economics of \"\"sudden stops\"\"",
                              " upset about the inconvenience of the new rules or angry about a missing product or a long wait to get in.\"\"",
                              " utility techs",
                              " veterinary medicines could affect agricultural production. Closures of restaurants and less frequent grocery shopping [will likely] diminish demand for fresh produce and fisheries products",
                              " vicious and uncaring\"\" way.\"",
                              " viewings",
                              " views of meditation-related videos are 51% higher than the same period in 2019",
                              " vigilantes and police filter migrants' entrance to the supermarket because of #coronavirus\"\".",
                              " visors",
                              " volunteers abandoning charities to practice social distancing",
                              " w/ HSD EPS growth. Good for $MO",
                              " wait until people are fighting over food\"\" - the worst people are in charge at the worst possible time. #COVID19 #coronavirus #BorisJohnson #ToriesOut\"",
                              " wash your hands. https://t.co/GFQIk6Gr5x\"",
                              " water and toilet paper. Some consumers are also panic shopping for life insurance.\"\"",
                              " we are confronted by microbes and microchips: the infinitesimal enemy and the computer-programmed selling triggered by downward spirals in prices.\"\" https://t.co/JabAT70sD9 #coronavirus\"",
                              " we are in a freaking pandemic",
                              " we are monitoring the impact of #coronavirus on #online #consumer behaviors.\"\"",
                              " we are not seeing discretionary purchases taking place. We are seeing transactions which are focused on critical purchases. ",
                              " we can overcome fear and panic - and as a community",
                              " we can't live without you. [14 euro minimum wage.]\"\" https://t.co/fQBH8qPMVZ https://t.co/GIG09ldzKM\"",
                              " we expect the cannabis companies who can weather the storm today to continue on their rapid growth trajectories once the pandemic is under control.\"\" https://t.co/fqzZ1rynYT https://t.co/kqvHRuRbzJ\"",
                              " we have a petition\"",
                              " we have a testimonial of a grocery store worker.",
                              " we hope people's purchasing power remains stable\"\" - Riden Hatam Azis",
                              " we know best",
                              " we need a period of less business activity and less consumer demand.\"\" https://t.co/gGRtpkFeaX\"",
                              " we need to start thinking about what this will look like \"\"after.\"\" What changes do we need to make? How will our customers be different or buy differently? &gt;&gt; The consumer after COVID-19 https://t.co/Z5GIXJvJgL\"",
                              " we often let fear drive our purchase behavior. Here is an example re those needing gluten free items",
                              " we take a look at how the supply chains are changing in other parts of the world.",
                              " we think that this could negatively impact them and that they could become a whole new population of people living in poverty",
                              " we will come to the travel consumer\"\": https://t.co/uAffw42Hyh\"",
                              " we will get through this.\"\" ",
                              " we've recently seen an increase in people shopping online which has had an impact on how we serve our customers. So in the short term",
                              " we've sold enough #toiletpaper for every American to have their own roll\"\":  #coronavirus #stayhome #panicbuying #hoarding",
                              " weve come to see that theres a very specific kind of alcohol that pretty much everybody needs",
                              " what will we do to each other when we are short of food?\"\" - Coban Coban Burma (FB) #coronavirus #Quarantine\"",
                              " whats being left behind shows us what people just wont eat",
                              " where about half of all cannabis consumptions happens anyway.\"\" @forbes @melanie_warner",
                              " where drug prices typically are the highest in the world",
                              " where marijuana is not legal",
                              " where professionals across all levels and across Ireland are needed.\"\" Read; https://t.co/GGSkQ36tmq https://t.co/k2Y2zX39qC\"",
                              " whether thats direct-to-consumer",
                              " which could have a lasting effect on how people consume Hollywood entertainment\"\" https://t.co/iNk3gvUrQK\"",
                              " which had to be thrown out",
                              " which then converts every bottle into an active Liquidator\"",
                              " which will ultimately drive down demand",
                              " which would increase shortages and prices",
                              " while food service in Italy is virtually shut down",
                              " while the #coronavirus DOES come from China and its communist regime IS re\"",
                              " while there's some concern in #India over how low #shrimp prices could fall",
                              " while transactions are down -15% from last week due largely to abandoned shopping carts as result of fully booked delivery services.\"\" - @MarTechAdvisor ",
                              " while unemployment skyrockets and food pantries suffer. But solutions exist.",
                              " while workers in New York and Chicago say that Amazon isnt taking enough precautions as orders mount.\"\" ?? remember virus can survive 24 hours on cardboard. #COVID19 https://t.co/CYwrFW3FPE\"",
                              " whiskey &amp; #cosmetics to producing #medical supplies",
                              " who had died from #CoronaVirus. Now it started snowing. #Signs...listen to them!",
                              " why aren't there similar laws against hoarding",
                              " why aren't they listening to the stay at home advice\"\" ",
                              " why were the parks so crowded?\"",
                              " will continue offering online shopping\"\" https://t.co/znVBAKJ44E\"",
                              " wipe the door knob - go wash. It'\"",
                              " wise words via @morhafalachkar  @UWMedicine \"\"If you have two rolls of toilet paper or two containers of hand sanitizer",
                              " with #crudeoil prices down more than 60% this year. #oilpricewar https://t.co/qvKZNh0ocS\"",
                              " with a threefold increase in bonus for the next 12 months.\"\" #ukemplaw https://t.co/iWKyFzxfCS\"",
                              " with an emphasis on the Chinese administration",
                              " with a record 204 billion downloads in 2019 and $120 billion in consumer spending in 2019",
                              " with consumers trying new models",
                              " with even #ecommerce operations shutting down due to #coronavirus concerns",
                              " with hundreds more expected to close on Wednesday as the situation accelerates.\"\" https://t.co/1g5LytnTQX @RetailInsider_\"",
                              " with particularly aggressive cuts from countries hit hardest by the outbreak.\"\"",
                              " work from home",
                              " yet keeping all shops open  on original opening hours and not providing staff with proper PPE during a pandemic? Excellent display of employee loyalty. Not. #Disgrace\"",
                              " you are an absolute moron. It's simple",
                              " you know",
                              " you may have to pay higher fees ?",
                              " you must be quarantined at a designated center. #CoronaVirus\"",
                              " you should advertise. When times are bad you MUST advertise\"\".",
                              " you will find flies\"\". In this case its parasites - AKA #scammers https://t.co/dOx4Feq46P #scam #scamdemic #Phishing #CyberAware #securityawareness #cybersecurity #coronavirus #pandemic\"",
                              " you'll be able to offer the right solutions.",
                              "\"\" \"\"pharmacy",
                              "\"\" @Citi strategists say. However the speed of this decline is unprecedented &amp; may not reverse until #coronavirus peaks in US. https://t.co/gfatOf0sMr https://t.co/LXudOMMlXA\"",
                              "\"\" @PNCBank's chief economist @GusFaucherPNC",
                              "\"\" @RapidanEnergy's Bob McNally discusses the new OPEC+ agreement",
                              "\"\" Allen McBroom shares how his music store is adapting to the COVID-19 crisis and the new normal of retail shutdowns and social distancing https://t.co/U5t0F8TPrX https://t.co/ZJqgkFFmqx\"",
                              "\"\" Beri said. \"\"For them",
                              "\"\" Birx said. \"\"This is the moment to not be going to the grocery store",
                              "\"\" Farnworth reassures British Columbians. State of emergency gives the province the power to ration supplies if needed",
                              "\"\" Ford says of the gouging. We are coming after you.\"\"\"",
                              "\"\" Grubhub officials said in a statement Monday. https://t.co/ltueKpL5Pz\"",
                              "\"\" Sonny's Super Foods Store Manager Donald Glanz told @NewsChannelNE. \"\"We're going to have food here. People aren't going to starve to death.\"\" ",
                              "\"\" a virtual food drive with @ntfb. \"\"With thousands of people facing furloughs and layoffs",
                              "\"\" and added",
                              "\"\" and trying to find some \"\"medium ground.\"\" Very harmful for Russia. To get involved at \"\"appropriate time.\"\" #Trump #oil #coronavirus @anthonymace\"",
                              "\"\" as shoppers across the country empty supermarket shelves amid rising alarm over the rapid spread of the novel coronavirus",
                              "\"\" but people need to STOP discarding their gloves in supermarket parking lots and on the floors of some local post offices. #coronavirus\"",
                              "\"\" by Gary Schnitkey.  https://t.co/gu6B4XpqP4",
                              "\"\" driving #Bitcoin prices down over 40 percent.",
                              "\"\" grocery store CEO says https://t.co/FM5mJc7ftL\"",
                              "\"\" https://t.co/15hXYLlu0g",
                              "\"\" https://t.co/q4RrAiz8KZ",
                              "\"\" like cameras",
                              "\"\" recovering coronavirus survivor Lara Woolfson says. Woolfson contracted the virus after attending a medical conference in Boston in February. https://t.co/vfbvxe73Nz\"",
                              "\"\" said @DrAlexaMieses COVID-19 Infection Likely Worse for Vapers",
                              "\"\" said Independent Grocer Association president and CEO Josh Ross. #foodsupply #coronavirus #groceryshopping #consumers #grocers https://t.co/9C066pEdkN\"",
                              "\"\" said an FBI agent in the Newark office of coronavirus-related scams. https://t.co/qitYO7rFr9\"",
                              "\"\" says @Girotrak. \"\"Overall",
                              "\"\" says @RaminToloui",
                              "\"\" the food &amp; drink giant is ramping up hiring and offering more benefits to workers: https://t.co/GJhr0qMlOg\"",
                              "\"\" the person filming the exchange said as the couple left the grocery store.\"\"",
                              "\"\" the statue capturing the face of our economy now. And",
                              "\"\" w/earnings hit much harder in developed markets than EM: UBS Global Wealth Management's Claudia Panseri . \"\"We also expect dividends to be hurt as companies focus on balance sheet and cash preservation.\"\" https://t.co/ICxLRTQzIW\"",
                              "\"\" what comes to mind is an active shooter on the loose.  This COVID-19 reference just fuels uncertainty.  What can I do?  Where can I go? Did that trip to the grocery store infect me?  I despise you @realDonal\"",
                              "\"\" writes @BessLevin https://t.co/5w99jYd4hm\"",
                              "\"\" writes @marcscribner.",
                              "#coronavirustip\"",
                              "000 employees in the U.S. to meet the surge in demand from online shopping amid the #coronavirus outbreak",
                              "000 on Sunday.\"\" https://t.co/uVO77Wte9v #COVID19 #Amazon\"",
                              "000 people who are going to die because you only sent 400 ventilators.\"\" https://t.co/oRJYqAZEa2\"",
                              "000 tests for COVID-19 to 13 states....",
                              "000 to help food banks in Greater Manchester meet increased demand from vulnerable people as a result of the coronavirus (COVID-19) pandemic ? \"\" via /r/MCFC \"",
                              "000 troops in Afghanistan; now hes making sure you dont run out of food during the #coronavirus crisis.\"\" @kgilsinan reports: https://t.co/uu5bI3pgxX\"",
                              "000 warehouse and delivery workers across the country to handle the online shopping surge caused by the COVID-19 outbreak.\"\" https://t.co/YIVTNWiCTA\"",
                              "000 workers to its fulfillment and delivery network to deal with a surge in online shopping",
                              "000 yuan a tonne means nearly 70% of the Chinese producers will be under water",
                              "000. @sto... https://t.co/Ug3LJcaHVP https://t.co/fB1q8lxfFu\"",
                              "500 new staff - and boost its home delivery service",
                              "900 in business\"",
                              "900 selling accounts in its U.S. store for... 'coronavirus-based #price gouging'\"\" https://t.co/yQPKnruHEl #consumer #consumerprotection #pricing #covid19 #pandemic #coronavirus https://t.co/kK4czdQvb9\"",
                              "@BobbyHeehaw",
                              "Bread",
                              "Social Distancing",
                              "apple sauce and gravy.",
                              "can I stock her up before lockdown comes then no food available",
                              "fulfillment centers",
                              "grocery store workers",
                              "it would be  as if they've saved all mankind\"\"",
                              "said DCP Surat",
                              " the government plan said. The plan warned of significant shortages for government",
                              " when I also received a letter today saying you're putting your prices up"
                            ]
                          }
                        },
                        "name": "label",
                        "nullable": false,
                        "type": "double"
                      },
                      {
                        "metadata": {},
                        "name": "words",
                        "nullable": true,
                        "type": {
                          "containsNull": true,
                          "elementType": "string",
                          "type": "array"
                        }
                      },
                      {
                        "metadata": {},
                        "name": "filtered_words",
                        "nullable": true,
                        "type": {
                          "containsNull": true,
                          "elementType": "string",
                          "type": "array"
                        }
                      },
                      {
                        "metadata": {
                          "ml_attr": {
                            "attrs": {},
                            "num_attrs": 55598
                          }
                        },
                        "name": "vector_words",
                        "nullable": true,
                        "type": {
                          "class": "org.apache.spark.ml.linalg.VectorUDT",
                          "pyClass": "pyspark.ml.linalg.VectorUDT",
                          "sqlType": {
                            "fields": [
                              {
                                "metadata": {},
                                "name": "type",
                                "nullable": false,
                                "type": "byte"
                              },
                              {
                                "metadata": {},
                                "name": "size",
                                "nullable": true,
                                "type": "integer"
                              },
                              {
                                "metadata": {},
                                "name": "indices",
                                "nullable": true,
                                "type": {
                                  "containsNull": false,
                                  "elementType": "integer",
                                  "type": "array"
                                }
                              },
                              {
                                "metadata": {},
                                "name": "values",
                                "nullable": true,
                                "type": {
                                  "containsNull": false,
                                  "elementType": "double",
                                  "type": "array"
                                }
                              }
                            ],
                            "type": "struct"
                          },
                          "type": "udt"
                        }
                      },
                      {
                        "metadata": {
                          "ml_attr": {
                            "num_attrs": 55598
                          }
                        },
                        "name": "vectorized_features",
                        "nullable": true,
                        "type": {
                          "class": "org.apache.spark.ml.linalg.VectorUDT",
                          "pyClass": "pyspark.ml.linalg.VectorUDT",
                          "sqlType": {
                            "fields": [
                              {
                                "metadata": {},
                                "name": "type",
                                "nullable": false,
                                "type": "byte"
                              },
                              {
                                "metadata": {},
                                "name": "size",
                                "nullable": true,
                                "type": "integer"
                              },
                              {
                                "metadata": {},
                                "name": "indices",
                                "nullable": true,
                                "type": {
                                  "containsNull": false,
                                  "elementType": "integer",
                                  "type": "array"
                                }
                              },
                              {
                                "metadata": {},
                                "name": "values",
                                "nullable": true,
                                "type": {
                                  "containsNull": false,
                                  "elementType": "double",
                                  "type": "array"
                                }
                              }
                            ],
                            "type": "struct"
                          },
                          "type": "udt"
                        }
                      },
                      {
                        "metadata": {
                          "ml_attr": {
                            "num_attrs": 642
                          }
                        },
                        "name": "rawPrediction",
                        "nullable": true,
                        "type": {
                          "class": "org.apache.spark.ml.linalg.VectorUDT",
                          "pyClass": "pyspark.ml.linalg.VectorUDT",
                          "sqlType": {
                            "fields": [
                              {
                                "metadata": {},
                                "name": "type",
                                "nullable": false,
                                "type": "byte"
                              },
                              {
                                "metadata": {},
                                "name": "size",
                                "nullable": true,
                                "type": "integer"
                              },
                              {
                                "metadata": {},
                                "name": "indices",
                                "nullable": true,
                                "type": {
                                  "containsNull": false,
                                  "elementType": "integer",
                                  "type": "array"
                                }
                              },
                              {
                                "metadata": {},
                                "name": "values",
                                "nullable": true,
                                "type": {
                                  "containsNull": false,
                                  "elementType": "double",
                                  "type": "array"
                                }
                              }
                            ],
                            "type": "struct"
                          },
                          "type": "udt"
                        }
                      },
                      {
                        "metadata": {
                          "ml_attr": {
                            "num_attrs": 642
                          }
                        },
                        "name": "probability",
                        "nullable": true,
                        "type": {
                          "class": "org.apache.spark.ml.linalg.VectorUDT",
                          "pyClass": "pyspark.ml.linalg.VectorUDT",
                          "sqlType": {
                            "fields": [
                              {
                                "metadata": {},
                                "name": "type",
                                "nullable": false,
                                "type": "byte"
                              },
                              {
                                "metadata": {},
                                "name": "size",
                                "nullable": true,
                                "type": "integer"
                              },
                              {
                                "metadata": {},
                                "name": "indices",
                                "nullable": true,
                                "type": {
                                  "containsNull": false,
                                  "elementType": "integer",
                                  "type": "array"
                                }
                              },
                              {
                                "metadata": {},
                                "name": "values",
                                "nullable": true,
                                "type": {
                                  "containsNull": false,
                                  "elementType": "double",
                                  "type": "array"
                                }
                              }
                            ],
                            "type": "struct"
                          },
                          "type": "udt"
                        }
                      },
                      {
                        "metadata": {
                          "ml_attr": {
                            "num_vals": 642,
                            "type": "nominal"
                          }
                        },
                        "name": "prediction",
                        "nullable": false,
                        "type": "double"
                      }
                    ],
                    "type": "struct"
                  },
                  "tableIdentifier": null
                }
              ],
              "data": "<div class=\"ansiout\"></div>",
              "removedWidgets": [],
              "addedWidgets": {},
              "metadata": {},
              "type": "html",
              "arguments": {}
            }
          },
          "data": {
            "text/html": [
              "<style scoped>\n  .ansiout {\n    display: block;\n    unicode-bidi: embed;\n    white-space: pre-wrap;\n    word-wrap: break-word;\n    word-break: break-all;\n    font-family: \"Source Code Pro\", \"Menlo\", monospace;;\n    font-size: 13px;\n    color: #555;\n    margin-left: 4px;\n    line-height: 19px;\n  }\n</style>\n<div class=\"ansiout\"></div>"
            ]
          },
          "transient": null
        }
      ]
    },
    {
      "cell_type": "code",
      "metadata": {
        "application/vnd.databricks.v1+cell": {
          "title": "",
          "showTitle": false,
          "inputWidgets": {},
          "nuid": "435b44da-a3ff-4338-a414-749a452c7945"
        },
        "id": "4RVBpswzw-nQ",
        "outputId": "ecaf900c-30e5-431a-8cb8-2677d9d18e79"
      },
      "source": [
        "predictions.show()"
      ],
      "execution_count": null,
      "outputs": [
        {
          "output_type": "display_data",
          "metadata": {
            "application/vnd.databricks.v1+output": {
              "datasetInfos": [],
              "data": "<div class=\"ansiout\">+--------------------+--------------------+--------------------+-----+--------------------+--------------------+--------------------+--------------------+--------------------+--------------------+----------+\n|             TweetAt|       OriginalTweet|           Sentiment|label|               words|      filtered_words|        vector_words| vectorized_features|       rawPrediction|         probability|prediction|\n+--------------------+--------------------+--------------------+-----+--------------------+--------------------+--------------------+--------------------+--------------------+--------------------+----------+\n|    #washingtonpost | #latimes https:/...|             Neutral|  2.0|[, #latimes, http...|[, #latimes, http...|(55598,[1,13978],...|(55598,[1,13978],...|[-0.9056172425248...|[2.45415495018404...|       2.0|\n|  Distribution Staff|       Lorry Drivers|      Utilities etc&#34;|102.0|  [, lorry, drivers]|  [, lorry, drivers]|(55598,[1,262,434...|(55598,[1,262,434...|[14.7389659008539...|[0.03840908619689...|       1.0|\n|               Media|              Actors|            Teachers| 99.0|          [, actors]|          [, actors]|(55598,[1,5062],[...|(55598,[1,5062],[...|[17.2510706247510...|[0.84862043037986...|       0.0|\n|           Starbucks|  Black Lives Matter| Woodstock sanctuary|107.0|[, black, lives, ...|[, black, lives, ...|(55598,[1,348,933...|(55598,[1,348,933...|[33.1792779099131...|[0.99999999997896...|       0.0|\n|   everyday American| to be thankful f...|            Positive|  0.0|[, to, be, thankf...|[, thankful, food...|(55598,[1,3,68,24...|(55598,[1,3,68,24...|[29.3254033601990...|[0.99657165350978...|       0.0|\n| gold peaked  the...|now once again on...|            Negative|  1.0|[now, once, again...|[downward, trajec...|(55598,[6213,2046...|(55598,[6213,2046...|[5.96858931338679...|[1.76899878355706...|       2.0|\n| grocery store wo...|            truckers| those who have l...|491.0|        [, truckers]|        [, truckers]|(55598,[1,2040],[...|(55598,[1,2040],[...|[-7.7253658261761...|[1.47134168302198...|       3.0|\n|       make no plans|         stay inside| wash your hands....|516.0|    [, stay, inside]|    [, stay, inside]|(55598,[1,51,561]...|(55598,[1,51,561]...|[25.1923779948695...|[0.99999991151717...|       0.0|\n|            neighbor| etc. from gettin...|            Positive|  0.0|[, etc., from, ge...|[, etc., getting,...|(55598,[1,109,641...|(55598,[1,109,641...|[12.3629812699901...|[0.52043096036483...|       0.0|\n| no heavy cream(t...|   no toast or bread| no flour. At lea...|348.0|[, no, toast, or,...|    [, toast, bread]|(55598,[1,590],[1...|(55598,[1,590],[1...|[18.6660206536930...|[0.99998549680479...|       0.0|\n| or die a slow de...| but recover slow...|            Negative|  1.0|[, but, recover, ...|[, recover, slowl...|(55598,[1,2654],[...|(55598,[1,2654],[...|[-4.2489282493100...|[4.99927163876216...|       2.0|\n|           orderlies|    delivery drivers| teachers and gro...|445.0|[, delivery, driv...|[, delivery, driv...|(55598,[1,61,262]...|(55598,[1,61,262]...|[18.6262944684196...|[0.96190896274923...|       0.0|\n|               pasta| any kind of fres...| potatoes &amp;amp; v...|393.0|[, any, kind, of,...|[, kind, fresh, m...|(55598,[1,411,553...|(55598,[1,411,553...|[3.54669510923664...|[2.79418158076796...|       3.0|\n|       stock shelves|            pump oil| staff our hospitals|431.0|       [, pump, oil]|       [, pump, oil]|(55598,[1,46,1849...|(55598,[1,46,1849...|[-9.9943312671329...|[7.69846568228308...|       2.0|\n| supermarket workers| lorry drivers an...|            Positive|  0.0|[, lorry, drivers...|[, lorry, drivers...|(55598,[1,7,17,21...|(55598,[1,7,17,21...|[27.3584178305617...|[0.00134701812279...|       1.0|\n| we return to the...|            pharmacy|    or grocery store|370.0|        [, pharmacy]|        [, pharmacy]|(55598,[1,535],[1...|(55598,[1,535],[1...|[19.9799786042994...|[0.99983324108815...|       0.0|\n| you will need to...| you can order me...|  Extremely Positive|  3.0|[, you, can, orde...|[, order, medicat...|(55598,[1,150],[1...|(55598,[1,150],[1...|[9.02465615671583...|[0.31518878277597...|       2.0|\n|          16-03-2020|          &#34;&#34;&#34;Like me| Im sure you hav...| 80.0|       [&#34;&#34;&#34;like, me]|           [&#34;&#34;&#34;like]|       (55598,[],[])|       (55598,[],[])|[7.42820383007167...|[0.01221789256166...|       2.0|\n|          16-03-2020|&#34;Cashier at groce...|            Positive|  0.0|[&#34;cashier, at, gr...|[&#34;cashier, grocer...|(55598,[4,6,18,59...|(55598,[4,6,18,59...|[18.2649789676385...|[3.64016329503881...|       2.0|\n|          16-03-2020|&#34;One of the most ...|            Negative|  1.0|[&#34;one, of, the, m...|[&#34;one, damaged, s...|(55598,[0,12,44,5...|(55598,[0,12,44,5...|[-0.0064781497337...|[3.94060597571259...|     537.0|\n+--------------------+--------------------+--------------------+-----+--------------------+--------------------+--------------------+--------------------+--------------------+--------------------+----------+\nonly showing top 20 rows\n\n</div>",
              "removedWidgets": [],
              "addedWidgets": {},
              "metadata": {},
              "type": "html",
              "arguments": {}
            }
          },
          "data": {
            "text/html": [
              "<style scoped>\n  .ansiout {\n    display: block;\n    unicode-bidi: embed;\n    white-space: pre-wrap;\n    word-wrap: break-word;\n    word-break: break-all;\n    font-family: \"Source Code Pro\", \"Menlo\", monospace;;\n    font-size: 13px;\n    color: #555;\n    margin-left: 4px;\n    line-height: 19px;\n  }\n</style>\n<div class=\"ansiout\">+--------------------+--------------------+--------------------+-----+--------------------+--------------------+--------------------+--------------------+--------------------+--------------------+----------+\n             TweetAt|       OriginalTweet|           Sentiment|label|               words|      filtered_words|        vector_words| vectorized_features|       rawPrediction|         probability|prediction|\n+--------------------+--------------------+--------------------+-----+--------------------+--------------------+--------------------+--------------------+--------------------+--------------------+----------+\n    #washingtonpost | #latimes https:/...|             Neutral|  2.0|[, #latimes, http...|[, #latimes, http...|(55598,[1,13978],...|(55598,[1,13978],...|[-0.9056172425248...|[2.45415495018404...|       2.0|\n  Distribution Staff|       Lorry Drivers|      Utilities etc&#34;|102.0|  [, lorry, drivers]|  [, lorry, drivers]|(55598,[1,262,434...|(55598,[1,262,434...|[14.7389659008539...|[0.03840908619689...|       1.0|\n               Media|              Actors|            Teachers| 99.0|          [, actors]|          [, actors]|(55598,[1,5062],[...|(55598,[1,5062],[...|[17.2510706247510...|[0.84862043037986...|       0.0|\n           Starbucks|  Black Lives Matter| Woodstock sanctuary|107.0|[, black, lives, ...|[, black, lives, ...|(55598,[1,348,933...|(55598,[1,348,933...|[33.1792779099131...|[0.99999999997896...|       0.0|\n   everyday American| to be thankful f...|            Positive|  0.0|[, to, be, thankf...|[, thankful, food...|(55598,[1,3,68,24...|(55598,[1,3,68,24...|[29.3254033601990...|[0.99657165350978...|       0.0|\n gold peaked  the...|now once again on...|            Negative|  1.0|[now, once, again...|[downward, trajec...|(55598,[6213,2046...|(55598,[6213,2046...|[5.96858931338679...|[1.76899878355706...|       2.0|\n grocery store wo...|            truckers| those who have l...|491.0|        [, truckers]|        [, truckers]|(55598,[1,2040],[...|(55598,[1,2040],[...|[-7.7253658261761...|[1.47134168302198...|       3.0|\n       make no plans|         stay inside| wash your hands....|516.0|    [, stay, inside]|    [, stay, inside]|(55598,[1,51,561]...|(55598,[1,51,561]...|[25.1923779948695...|[0.99999991151717...|       0.0|\n            neighbor| etc. from gettin...|            Positive|  0.0|[, etc., from, ge...|[, etc., getting,...|(55598,[1,109,641...|(55598,[1,109,641...|[12.3629812699901...|[0.52043096036483...|       0.0|\n no heavy cream(t...|   no toast or bread| no flour. At lea...|348.0|[, no, toast, or,...|    [, toast, bread]|(55598,[1,590],[1...|(55598,[1,590],[1...|[18.6660206536930...|[0.99998549680479...|       0.0|\n or die a slow de...| but recover slow...|            Negative|  1.0|[, but, recover, ...|[, recover, slowl...|(55598,[1,2654],[...|(55598,[1,2654],[...|[-4.2489282493100...|[4.99927163876216...|       2.0|\n           orderlies|    delivery drivers| teachers and gro...|445.0|[, delivery, driv...|[, delivery, driv...|(55598,[1,61,262]...|(55598,[1,61,262]...|[18.6262944684196...|[0.96190896274923...|       0.0|\n               pasta| any kind of fres...| potatoes &amp;amp; v...|393.0|[, any, kind, of,...|[, kind, fresh, m...|(55598,[1,411,553...|(55598,[1,411,553...|[3.54669510923664...|[2.79418158076796...|       3.0|\n       stock shelves|            pump oil| staff our hospitals|431.0|       [, pump, oil]|       [, pump, oil]|(55598,[1,46,1849...|(55598,[1,46,1849...|[-9.9943312671329...|[7.69846568228308...|       2.0|\n supermarket workers| lorry drivers an...|            Positive|  0.0|[, lorry, drivers...|[, lorry, drivers...|(55598,[1,7,17,21...|(55598,[1,7,17,21...|[27.3584178305617...|[0.00134701812279...|       1.0|\n we return to the...|            pharmacy|    or grocery store|370.0|        [, pharmacy]|        [, pharmacy]|(55598,[1,535],[1...|(55598,[1,535],[1...|[19.9799786042994...|[0.99983324108815...|       0.0|\n you will need to...| you can order me...|  Extremely Positive|  3.0|[, you, can, orde...|[, order, medicat...|(55598,[1,150],[1...|(55598,[1,150],[1...|[9.02465615671583...|[0.31518878277597...|       2.0|\n          16-03-2020|          &#34;&#34;&#34;Like me| Im sure you hav...| 80.0|       [&#34;&#34;&#34;like, me]|           [&#34;&#34;&#34;like]|       (55598,[],[])|       (55598,[],[])|[7.42820383007167...|[0.01221789256166...|       2.0|\n          16-03-2020|&#34;Cashier at groce...|            Positive|  0.0|[&#34;cashier, at, gr...|[&#34;cashier, grocer...|(55598,[4,6,18,59...|(55598,[4,6,18,59...|[18.2649789676385...|[3.64016329503881...|       2.0|\n          16-03-2020|&#34;One of the most ...|            Negative|  1.0|[&#34;one, of, the, m...|[&#34;one, damaged, s...|(55598,[0,12,44,5...|(55598,[0,12,44,5...|[-0.0064781497337...|[3.94060597571259...|     537.0|\n+--------------------+--------------------+--------------------+-----+--------------------+--------------------+--------------------+--------------------+--------------------+--------------------+----------+\nonly showing top 20 rows\n\n</div>"
            ]
          },
          "transient": null
        }
      ]
    },
    {
      "cell_type": "markdown",
      "metadata": {
        "application/vnd.databricks.v1+cell": {
          "title": "",
          "showTitle": false,
          "inputWidgets": {},
          "nuid": "b0cad7f2-0bc7-4bb1-91d6-ee7dbda2e962"
        },
        "id": "uPxoLeRzw-nQ"
      },
      "source": [
        "### Model Evaluation"
      ]
    },
    {
      "cell_type": "code",
      "metadata": {
        "application/vnd.databricks.v1+cell": {
          "title": "",
          "showTitle": false,
          "inputWidgets": {},
          "nuid": "c1188128-1f55-4de4-874c-37f039741710"
        },
        "id": "BM00xe3cw-nQ",
        "outputId": "b351ef81-cc5c-479f-e080-dc673758875d"
      },
      "source": [
        "from pyspark.ml.evaluation import MulticlassClassificationEvaluator"
      ],
      "execution_count": null,
      "outputs": [
        {
          "output_type": "display_data",
          "metadata": {
            "application/vnd.databricks.v1+output": {
              "datasetInfos": [],
              "data": "<div class=\"ansiout\"></div>",
              "removedWidgets": [],
              "addedWidgets": {},
              "metadata": {},
              "type": "html",
              "arguments": {}
            }
          },
          "data": {
            "text/html": [
              "<style scoped>\n  .ansiout {\n    display: block;\n    unicode-bidi: embed;\n    white-space: pre-wrap;\n    word-wrap: break-word;\n    word-break: break-all;\n    font-family: \"Source Code Pro\", \"Menlo\", monospace;;\n    font-size: 13px;\n    color: #555;\n    margin-left: 4px;\n    line-height: 19px;\n  }\n</style>\n<div class=\"ansiout\"></div>"
            ]
          },
          "transient": null
        }
      ]
    },
    {
      "cell_type": "code",
      "metadata": {
        "application/vnd.databricks.v1+cell": {
          "title": "",
          "showTitle": false,
          "inputWidgets": {},
          "nuid": "c2c2aec3-7d84-4842-af68-ac41a4c8445b"
        },
        "id": "5Y3zFTtqw-nR",
        "outputId": "e9674a39-d66a-4b6a-81c7-cc4f7571527d"
      },
      "source": [
        "evaluator = MulticlassClassificationEvaluator(labelCol='label', predictionCol='prediction', metricName='accuracy')"
      ],
      "execution_count": null,
      "outputs": [
        {
          "output_type": "display_data",
          "metadata": {
            "application/vnd.databricks.v1+output": {
              "datasetInfos": [],
              "data": "<div class=\"ansiout\"></div>",
              "removedWidgets": [],
              "addedWidgets": {},
              "metadata": {},
              "type": "html",
              "arguments": {}
            }
          },
          "data": {
            "text/html": [
              "<style scoped>\n  .ansiout {\n    display: block;\n    unicode-bidi: embed;\n    white-space: pre-wrap;\n    word-wrap: break-word;\n    word-break: break-all;\n    font-family: \"Source Code Pro\", \"Menlo\", monospace;;\n    font-size: 13px;\n    color: #555;\n    margin-left: 4px;\n    line-height: 19px;\n  }\n</style>\n<div class=\"ansiout\"></div>"
            ]
          },
          "transient": null
        }
      ]
    },
    {
      "cell_type": "code",
      "metadata": {
        "application/vnd.databricks.v1+cell": {
          "title": "",
          "showTitle": false,
          "inputWidgets": {},
          "nuid": "753b5d1f-619e-4ef1-afe2-ab5e9c79ec3c"
        },
        "id": "r5p4nEWKw-nR",
        "outputId": "0876eada-282e-471d-92e3-c10271e81d63"
      },
      "source": [
        "accuracy = evaluator.evaluate(predictions)"
      ],
      "execution_count": null,
      "outputs": [
        {
          "output_type": "display_data",
          "metadata": {
            "application/vnd.databricks.v1+output": {
              "datasetInfos": [],
              "data": "<div class=\"ansiout\"></div>",
              "removedWidgets": [],
              "addedWidgets": {},
              "metadata": {},
              "type": "html",
              "arguments": {}
            }
          },
          "data": {
            "text/html": [
              "<style scoped>\n  .ansiout {\n    display: block;\n    unicode-bidi: embed;\n    white-space: pre-wrap;\n    word-wrap: break-word;\n    word-break: break-all;\n    font-family: \"Source Code Pro\", \"Menlo\", monospace;;\n    font-size: 13px;\n    color: #555;\n    margin-left: 4px;\n    line-height: 19px;\n  }\n</style>\n<div class=\"ansiout\"></div>"
            ]
          },
          "transient": null
        }
      ]
    },
    {
      "cell_type": "code",
      "metadata": {
        "application/vnd.databricks.v1+cell": {
          "title": "",
          "showTitle": false,
          "inputWidgets": {},
          "nuid": "8da0640a-0749-4669-8964-23263763d06f"
        },
        "id": "9FT_G1QLw-nR",
        "outputId": "cc2480be-f237-4c4a-e919-e43d9c0c8589"
      },
      "source": [
        "accuracy"
      ],
      "execution_count": null,
      "outputs": [
        {
          "output_type": "display_data",
          "metadata": {
            "application/vnd.databricks.v1+output": {
              "datasetInfos": [],
              "data": "<div class=\"ansiout\">Out[53]: 0.3627757512593365</div>",
              "removedWidgets": [],
              "addedWidgets": {},
              "metadata": {},
              "type": "html",
              "arguments": {}
            }
          },
          "data": {
            "text/html": [
              "<style scoped>\n  .ansiout {\n    display: block;\n    unicode-bidi: embed;\n    white-space: pre-wrap;\n    word-wrap: break-word;\n    word-break: break-all;\n    font-family: \"Source Code Pro\", \"Menlo\", monospace;;\n    font-size: 13px;\n    color: #555;\n    margin-left: 4px;\n    line-height: 19px;\n  }\n</style>\n<div class=\"ansiout\">Out[53]: 0.3627757512593365</div>"
            ]
          },
          "transient": null
        }
      ]
    },
    {
      "cell_type": "markdown",
      "metadata": {
        "application/vnd.databricks.v1+cell": {
          "title": "",
          "showTitle": false,
          "inputWidgets": {},
          "nuid": "4bca9cfb-b511-4231-aa83-9a3e3af2f72f"
        },
        "id": "-C7BQSV7w-nS"
      },
      "source": [
        ""
      ]
    }
  ]
}